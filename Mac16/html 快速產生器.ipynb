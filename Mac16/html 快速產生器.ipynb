{
 "cells": [
  {
   "cell_type": "code",
   "execution_count": 26,
   "metadata": {},
   "outputs": [],
   "source": [
    "li = '<li class=\"sec_li\">{DATA}</li>'\n",
    "p = '<p class=\"sec_p\">{DATA}</p>'\n"
   ]
  },
  {
   "cell_type": "code",
   "execution_count": 27,
   "metadata": {},
   "outputs": [],
   "source": [
    "datas = \"\"\"a. 軟體鑒別材料例外交存申請書；\n",
    "b. 軟體來源程式封存保管申請表；\n",
    "c. 申請登記軟體為原創軟體的版本說明。\n",
    "\"\"\""
   ]
  },
  {
   "cell_type": "code",
   "execution_count": 28,
   "metadata": {},
   "outputs": [],
   "source": [
    "datas = datas.replace(\"\\uf06c\\t\",\"\").split(\"\\n\")"
   ]
  },
  {
   "cell_type": "code",
   "execution_count": 29,
   "metadata": {
    "scrolled": false
   },
   "outputs": [
    {
     "name": "stdout",
     "output_type": "stream",
     "text": [
      "<p class=\"sec_p\">a. 軟體鑒別材料例外交存申請書；</p>\n",
      "<p class=\"sec_p\">b. 軟體來源程式封存保管申請表；</p>\n",
      "<p class=\"sec_p\">c. 申請登記軟體為原創軟體的版本說明。</p>\n",
      "<p class=\"sec_p\"></p>\n"
     ]
    }
   ],
   "source": [
    "for data in datas:\n",
    "    out = p.replace(\"{DATA}\", \"\"+ data)\n",
    "    print(out)"
   ]
  },
  {
   "cell_type": "code",
   "execution_count": null,
   "metadata": {},
   "outputs": [],
   "source": []
  },
  {
   "cell_type": "code",
   "execution_count": null,
   "metadata": {},
   "outputs": [],
   "source": []
  },
  {
   "cell_type": "code",
   "execution_count": null,
   "metadata": {},
   "outputs": [],
   "source": []
  },
  {
   "cell_type": "code",
   "execution_count": 31,
   "metadata": {},
   "outputs": [],
   "source": [
    "info = \"\"\"\n",
    "            <a href=\"index.html\"  target=\"_blank\"  class=\"drop-down-menu-element\">首頁</a>\n",
    "        </li>\n",
    "        <li>\n",
    "            <a href=\"trademark.html\" target=\"_blank\"  class=\"drop-down-menu-element\">商標註冊</a>\n",
    "            \n",
    "            <div class=\"drop-down-menu-sec-element\">\n",
    "                <a href=\"trademark.html\" target=\"_blank\" >國內註冊</a>\n",
    "                <a href=\"trademark.html\" target=\"_blank\" >國際註冊</a>\n",
    "            </div>\n",
    "            \n",
    "        </li>\n",
    "        <li>\n",
    "            <a href=\"#\" class=\"drop-down-menu-element\">專利申請</a>\n",
    "\n",
    "            <div class=\"drop-down-menu-sec-element\">\n",
    "                <a href=\"./patent_info_US.html\" target=\"_blank\">美洲國家註冊</a>\n",
    "                <a href=\"./patent_info_Europe.html\">歐洲國家註冊</a>\n",
    "                <a href=\"patent_info_Atlantic.html\">大西洋國家註冊</a>\n",
    "                <a href=\"patent_info_Africa.html\">非洲國家註冊</a>\n",
    "                <a href=\"patent_info_asia.html\">亞洲國家註冊</a>\"\"\""
   ]
  },
  {
   "cell_type": "code",
   "execution_count": 35,
   "metadata": {},
   "outputs": [],
   "source": [
    "info = info.replace('href=\"', 'href=\"javascript:modifyUrlAndReload(')"
   ]
  },
  {
   "cell_type": "code",
   "execution_count": 36,
   "metadata": {},
   "outputs": [
    {
     "name": "stdout",
     "output_type": "stream",
     "text": [
      "\n",
      "            <a href='javascript:modifyUrlAndReload(index.html\"  target=\"_blank\"  class=\"drop-down-menu-element\">首頁</a>\n",
      "        </li>\n",
      "        <li>\n",
      "            <a href='javascript:modifyUrlAndReload(trademark.html\" target=\"_blank\"  class=\"drop-down-menu-element\">商標註冊</a>\n",
      "            \n",
      "            <div class=\"drop-down-menu-sec-element\">\n",
      "                <a href='javascript:modifyUrlAndReload(trademark.html\" target=\"_blank\" >國內註冊</a>\n",
      "                <a href='javascript:modifyUrlAndReload(trademark.html\" target=\"_blank\" >國際註冊</a>\n",
      "            </div>\n",
      "            \n",
      "        </li>\n",
      "        <li>\n",
      "            <a href='javascript:modifyUrlAndReload(#\" class=\"drop-down-menu-element\">專利申請</a>\n",
      "\n",
      "            <div class=\"drop-down-menu-sec-element\">\n",
      "                <a href='javascript:modifyUrlAndReload(./patent_info_US.html\" target=\"_blank\">美洲國家註冊</a>\n",
      "                <a href='javascript:modifyUrlAndReload(./patent_info_Europe.html\">歐洲國家註冊</a>\n",
      "                <a href='javascript:modifyUrlAndReload(patent_info_Atlantic.html\">大西洋國家註冊</a>\n",
      "                <a href='javascript:modifyUrlAndReload(patent_info_Africa.html\">非洲國家註冊</a>\n",
      "                <a href='javascript:modifyUrlAndReload(patent_info_asia.html\">亞洲國家註冊</a>\n"
     ]
    }
   ],
   "source": [
    "print(info)"
   ]
  },
  {
   "cell_type": "code",
   "execution_count": null,
   "metadata": {},
   "outputs": [],
   "source": []
  }
 ],
 "metadata": {
  "kernelspec": {
   "display_name": "Python 3",
   "language": "python",
   "name": "python3"
  },
  "language_info": {
   "codemirror_mode": {
    "name": "ipython",
    "version": 3
   },
   "file_extension": ".py",
   "mimetype": "text/x-python",
   "name": "python",
   "nbconvert_exporter": "python",
   "pygments_lexer": "ipython3",
   "version": "3.7.4"
  }
 },
 "nbformat": 4,
 "nbformat_minor": 2
}
