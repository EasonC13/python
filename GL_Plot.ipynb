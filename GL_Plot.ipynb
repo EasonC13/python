{
 "cells": [
  {
   "cell_type": "code",
   "execution_count": 1,
   "metadata": {
    "scrolled": true
   },
   "outputs": [
    {
     "name": "stdout",
     "output_type": "stream",
     "text": [
      "開啟中... 成功\n",
      "讀取到兩個欄位, CONP, ADJR\n",
      "正在讀取 ADJR ... 成功\n",
      "正在讀取 CONP... 成功\n",
      "正在讀取繪圖套件... 成功\n",
      "正在繪圖... 成功\n",
      "匯出檔案\n"
     ]
    },
    {
     "data": {
      "text/plain": [
       "'../data/round-table.gv.pdf'"
      ]
     },
     "execution_count": 1,
     "metadata": {},
     "output_type": "execute_result"
    }
   ],
   "source": [
    "import pandas as pd\n",
    "import numpy as np\n",
    "\n",
    "#filename = input(\"請將檔案拖曳至此>> \")\n",
    "filename = \"../Data/gseq_01.xlsx\"\n",
    "print(\"開啟中...\", end = '')\n",
    "xlsxs = pd.ExcelFile(filename)\n",
    "print(\" 成功\")\n",
    "print(\"讀取到兩個欄位, %s, %s\"%(xlsxs.sheet_names[0], xlsxs.sheet_names[1]))\n",
    "print(\"正在讀取 ADJR .\", end = \"\")\n",
    "df = xlsxs.parse(\"ADJR\")[1:]\n",
    "print(\".\", end = '')\n",
    "\n",
    "\n",
    "check_bool_np = np.array(df.drop(columns = df.columns[0]) > 1.98) #做判斷\n",
    "\n",
    "check_dt = {}\n",
    "names = list(df[df.columns[0]])\n",
    "for i in range(len(names)): #然後轉換成字典去存布林值\n",
    "    check_dt[names[i]] = check_bool_np[i]\n",
    "print(\". 成功\",)\n",
    "\n",
    "print(\"正在讀取 CONP.\", end = \"\")\n",
    "df = xlsxs.parse(\"CONP\")[1:]\n",
    "\n",
    "df = xlsxs.parse(\"CONP\")[1:]\n",
    "names = list(df[df.columns[0]])\n",
    "\n",
    "weight_np = np.array(df.drop(columns = df.columns[0]))\n",
    "print(\".\", end = '')\n",
    "\n",
    "weight_dt = {}\n",
    "for i in range(len(names)):\n",
    "    weight_dt[names[i]] = weight_np[i]\n",
    "print('. 成功')\n",
    "\n",
    "print(\"正在讀取繪圖套件...\", end = '')\n",
    "\n",
    "from graphviz import Digraph\n",
    "dot = Digraph(comment='The Round Table')\n",
    "\n",
    "print(' 成功')\n",
    "\n",
    "print(\"正在繪圖.\", end = '')\n",
    "\n",
    "for i in weight_dt.keys(): #新增全部的節點\n",
    "    dot.node(i, i)\n",
    "\n",
    "print(\".\", end = '')\n",
    "\n",
    "for i in weight_dt.keys():\n",
    "    for j in range(len(check_dt[i])):\n",
    "        if check_dt[i][j]:\n",
    "            #print(i, names[j])\n",
    "            dot.edge(i, names[j], label = str(weight_dt[i][j]))\n",
    "print(\". 成功\")\n",
    "\n",
    "print(\"匯出檔案\")\n",
    "dot.render('../data/round-table.gv', view=True) #匯出pdf檔案"
   ]
  },
  {
   "cell_type": "code",
   "execution_count": 96,
   "metadata": {},
   "outputs": [
    {
     "name": "stdout",
     "output_type": "stream",
     "text": [
      "開啟中... 成功\n",
      "讀取到兩個欄位, CONP, ADJR\n",
      "正在讀取 ADJR ... 成功\n",
      "正在讀取 CONP... 成功\n",
      "正在讀取繪圖套件... 成功\n",
      "正在繪圖... 成功\n",
      "匯出檔案\n"
     ]
    },
    {
     "data": {
      "text/plain": [
       "'round-table.gv.pdf'"
      ]
     },
     "execution_count": 96,
     "metadata": {},
     "output_type": "execute_result"
    }
   ],
   "source": [
    "import pandas as pd\n",
    "import numpy as np\n",
    "\n",
    "#filename = input(\"請將檔案拖曳至此>> \")\n",
    "filename = \"../Data/gseq_01.xlsx\"\n",
    "print(\"開啟中...\", end = '')\n",
    "xlsxs = pd.ExcelFile(filename)\n",
    "print(\" 成功\")\n",
    "print(\"讀取到兩個欄位, %s, %s\"%(xlsxs.sheet_names[0], xlsxs.sheet_names[1]))\n",
    "print(\"正在讀取 ADJR .\", end = \"\")\n",
    "df = xlsxs.parse(\"ADJR\")[1:]\n",
    "print(\".\", end = '')\n",
    "\n",
    "\n",
    "check_bool_np = np.array(df.drop(columns = df.columns[0]) > 1.98) #做判斷\n",
    "\n",
    "check_dt = {}\n",
    "names = list(df[df.columns[0]])\n",
    "for i in range(len(names)): #然後轉換成字典去存布林值\n",
    "    check_dt[names[i]] = check_bool_np[i]\n",
    "print(\". 成功\",)\n",
    "\n",
    "print(\"正在讀取 CONP.\", end = \"\")\n",
    "df = xlsxs.parse(\"CONP\")[1:]\n",
    "\n",
    "df = xlsxs.parse(\"CONP\")[1:]\n",
    "names = list(df[df.columns[0]])\n",
    "\n",
    "weight_np = np.array(df.drop(columns = df.columns[0]))\n",
    "print(\".\", end = '')\n",
    "\n",
    "weight_dt = {}\n",
    "for i in range(len(names)):\n",
    "    weight_dt[names[i]] = weight_np[i]\n",
    "print('. 成功')\n",
    "\n",
    "print(\"正在讀取繪圖套件...\", end = '')\n",
    "\n",
    "from graphviz import Digraph\n",
    "dot = Digraph(comment='The Round Table')\n",
    "\n",
    "print(' 成功')\n",
    "\n",
    "print(\"正在繪圖.\", end = '')\n",
    "\n",
    "for i in weight_dt.keys(): #新增全部的節點\n",
    "    dot.node(i, chr(np.random.randint(65,90)))\n",
    "\n",
    "print(\".\", end = '')\n",
    "\n",
    "for i in weight_dt.keys():\n",
    "    for j in range(len(check_dt[i])):\n",
    "        if check_dt[i][j]:\n",
    "            #print(i, names[j])\n",
    "            dot.edge(i, names[j], label = str(np.random.randint(1,15)))\n",
    "print(\". 成功\")\n",
    "\n",
    "print(\"匯出檔案\")\n",
    "dot.render('../data/round-table.gv', view=True) #匯出pdf檔案"
   ]
  },
  {
   "cell_type": "code",
   "execution_count": 94,
   "metadata": {},
   "outputs": [
    {
     "data": {
      "text/plain": [
       "'N'"
      ]
     },
     "execution_count": 94,
     "metadata": {},
     "output_type": "execute_result"
    }
   ],
   "source": [
    "chr(np.random.randint(65,90))"
   ]
  },
  {
   "cell_type": "code",
   "execution_count": 88,
   "metadata": {},
   "outputs": [
    {
     "data": {
      "text/plain": [
       "'<'"
      ]
     },
     "execution_count": 88,
     "metadata": {},
     "output_type": "execute_result"
    }
   ],
   "source": [
    "chr(60)"
   ]
  },
  {
   "cell_type": "code",
   "execution_count": 93,
   "metadata": {},
   "outputs": [
    {
     "data": {
      "text/plain": [
       "90"
      ]
     },
     "execution_count": 93,
     "metadata": {},
     "output_type": "execute_result"
    }
   ],
   "source": [
    "ord(\"Z\")"
   ]
  },
  {
   "cell_type": "code",
   "execution_count": null,
   "metadata": {},
   "outputs": [],
   "source": []
  }
 ],
 "metadata": {
  "kernelspec": {
   "display_name": "Python 3",
   "language": "python",
   "name": "python3"
  },
  "language_info": {
   "codemirror_mode": {
    "name": "ipython",
    "version": 3
   },
   "file_extension": ".py",
   "mimetype": "text/x-python",
   "name": "python",
   "nbconvert_exporter": "python",
   "pygments_lexer": "ipython3",
   "version": "3.7.3"
  }
 },
 "nbformat": 4,
 "nbformat_minor": 2
}
