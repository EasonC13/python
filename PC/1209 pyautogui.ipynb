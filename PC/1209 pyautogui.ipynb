{
 "cells": [
  {
   "cell_type": "code",
   "execution_count": 1,
   "metadata": {
    "ExecuteTime": {
     "end_time": "2019-12-09T02:32:57.246783Z",
     "start_time": "2019-12-09T02:32:57.242794Z"
    }
   },
   "outputs": [],
   "source": [
    "import ctypes"
   ]
  },
  {
   "cell_type": "code",
   "execution_count": 2,
   "metadata": {
    "ExecuteTime": {
     "end_time": "2019-12-09T02:33:11.216057Z",
     "start_time": "2019-12-09T02:33:11.212071Z"
    }
   },
   "outputs": [],
   "source": [
    "MOUSEEVENTF_LEFTDOWN = 0x0002\n",
    "MOUSEEVENTF_LEFTUP = 0x0004"
   ]
  },
  {
   "cell_type": "code",
   "execution_count": 13,
   "metadata": {
    "ExecuteTime": {
     "end_time": "2019-12-09T02:35:54.620703Z",
     "start_time": "2019-12-09T02:35:54.603484Z"
    }
   },
   "outputs": [
    {
     "data": {
      "text/plain": [
       "1"
      ]
     },
     "execution_count": 13,
     "metadata": {},
     "output_type": "execute_result"
    }
   ],
   "source": [
    "import ctypes\n",
    "MOUSEEVENTF_LEFTDOWN = 0x0002\n",
    "x= 0\n",
    "y = 0\n",
    "convertedX = 65536 * x \n",
    "convertedY = 65536 * y \n",
    "ctypes.windll.user32.mouse_event(MOUSEEVENTF_LEFTDOWN)"
   ]
  },
  {
   "cell_type": "code",
   "execution_count": 8,
   "metadata": {
    "ExecuteTime": {
     "end_time": "2019-12-09T02:35:18.491209Z",
     "start_time": "2019-12-09T02:35:18.484635Z"
    }
   },
   "outputs": [
    {
     "data": {
      "text/plain": [
       "1"
      ]
     },
     "execution_count": 8,
     "metadata": {},
     "output_type": "execute_result"
    }
   ],
   "source": []
  },
  {
   "cell_type": "code",
   "execution_count": null,
   "metadata": {},
   "outputs": [],
   "source": []
  },
  {
   "cell_type": "code",
   "execution_count": 27,
   "metadata": {
    "ExecuteTime": {
     "end_time": "2019-12-09T02:48:55.223805Z",
     "start_time": "2019-12-09T02:48:55.208845Z"
    }
   },
   "outputs": [],
   "source": [
    "import win32gui, win32api, win32con, ctypes\n",
    "\n",
    "class Mouse:\n",
    "    \"\"\"It simulates the mouse\"\"\"\n",
    "    MOUSEEVENTF_MOVE = 0x0001 # mouse move \n",
    "    MOUSEEVENTF_LEFTDOWN = 0x0002 # left button down \n",
    "    MOUSEEVENTF_LEFTUP = 0x0004 # left button up \n",
    "    MOUSEEVENTF_RIGHTDOWN = 0x0008 # right button down \n",
    "    MOUSEEVENTF_RIGHTUP = 0x0010 # right button up \n",
    "    MOUSEEVENTF_MIDDLEDOWN = 0x0020 # middle button down \n",
    "    MOUSEEVENTF_MIDDLEUP = 0x0040 # middle button up \n",
    "    MOUSEEVENTF_WHEEL = 0x0800 # wheel button rolled \n",
    "    MOUSEEVENTF_ABSOLUTE = 0x8000 # absolute move \n",
    "    SM_CXSCREEN = 0\n",
    "    SM_CYSCREEN = 1\n",
    "\n",
    "    def _do_event(self, flags, x_pos, y_pos, data, extra_info):\n",
    "        \"\"\"generate a mouse event\"\"\"\n",
    "        x_calc = 65536 * x_pos / ctypes.windll.user32.GetSystemMetrics(self.SM_CXSCREEN) + 1\n",
    "        y_calc = 65536 * y_pos / ctypes.windll.user32.GetSystemMetrics(self.SM_CYSCREEN) + 1\n",
    "        return ctypes.windll.user32.mouse_event(flags, x_calc, y_calc, data, extra_info)\n",
    "\n",
    "    def _get_button_value(self, button_name, button_up=False):\n",
    "        \"\"\"convert the name of the button into the corresponding value\"\"\"\n",
    "        buttons = 0\n",
    "        if button_name.find(\"right\") >= 0:\n",
    "            buttons = self.MOUSEEVENTF_RIGHTDOWN\n",
    "        if button_name.find(\"left\") >= 0:\n",
    "            buttons = buttons + self.MOUSEEVENTF_LEFTDOWN\n",
    "        if button_name.find(\"middle\") >= 0:\n",
    "            buttons = buttons + self.MOUSEEVENTF_MIDDLEDOWN\n",
    "        if button_up:\n",
    "            buttons = buttons << 1\n",
    "        return buttons\n",
    "\n",
    "    def move_mouse(self, pos):\n",
    "        \"\"\"move the mouse to the specified coordinates\"\"\"\n",
    "        (x, y) = pos\n",
    "        old_pos = self.get_position()\n",
    "        x =  x if (x != -1) else old_pos[0]\n",
    "        y =  y if (y != -1) else old_pos[1]    \n",
    "        self._do_event(self.MOUSEEVENTF_MOVE + self.MOUSEEVENTF_ABSOLUTE, x, y, 0, 0)\n",
    "\n",
    "    def press_button(self, pos=(-1, -1), button_name=\"left\", button_up=False):\n",
    "        \"\"\"push a button of the mouse\"\"\"\n",
    "        self.move_mouse(pos)\n",
    "        self._do_event(self.get_button_value(button_name, button_up), 0, 0, 0, 0)\n",
    "\n",
    "    def click(self, pos=(-1, -1), button_name= \"left\"):\n",
    "        \"\"\"Click at the specified placed\"\"\"\n",
    "        self.move_mouse(pos)\n",
    "        self._do_event(self._get_button_value(button_name, False)+self._get_button_value(button_name, True))\n",
    "\n",
    "    def double_click (self, pos=(-1, -1), button_name=\"left\"):\n",
    "        \"\"\"Double click at the specifed placed\"\"\"\n",
    "        for i in range(2): \n",
    "            self.click(pos, button_name)\n",
    "\n",
    "    def get_position(self):\n",
    "        \"\"\"get mouse position\"\"\"\n",
    "        return win32api.GetCursorPos()"
   ]
  },
  {
   "cell_type": "code",
   "execution_count": 28,
   "metadata": {
    "ExecuteTime": {
     "end_time": "2019-12-09T02:48:55.919643Z",
     "start_time": "2019-12-09T02:48:55.915655Z"
    }
   },
   "outputs": [],
   "source": [
    "m = Mouse()"
   ]
  },
  {
   "cell_type": "code",
   "execution_count": 29,
   "metadata": {
    "ExecuteTime": {
     "end_time": "2019-12-09T02:48:56.320597Z",
     "start_time": "2019-12-09T02:48:56.301648Z"
    }
   },
   "outputs": [
    {
     "ename": "ArgumentError",
     "evalue": "argument 2: <class 'TypeError'>: Don't know how to convert parameter 2",
     "output_type": "error",
     "traceback": [
      "\u001b[1;31m---------------------------------------------------------------------------\u001b[0m",
      "\u001b[1;31mArgumentError\u001b[0m                             Traceback (most recent call last)",
      "\u001b[1;32m<ipython-input-29-f6e04ad15343>\u001b[0m in \u001b[0;36m<module>\u001b[1;34m\u001b[0m\n\u001b[1;32m----> 1\u001b[1;33m \u001b[0mm\u001b[0m\u001b[1;33m.\u001b[0m\u001b[0mclick\u001b[0m\u001b[1;33m(\u001b[0m\u001b[1;33m(\u001b[0m\u001b[1;36m20\u001b[0m\u001b[1;33m,\u001b[0m \u001b[1;36m10\u001b[0m\u001b[1;33m)\u001b[0m\u001b[1;33m,\u001b[0m \u001b[1;34m\"left\"\u001b[0m\u001b[1;33m)\u001b[0m\u001b[1;33m\u001b[0m\u001b[1;33m\u001b[0m\u001b[0m\n\u001b[0m",
      "\u001b[1;32m<ipython-input-27-9ac850ad30cb>\u001b[0m in \u001b[0;36mclick\u001b[1;34m(self, pos, button_name)\u001b[0m\n\u001b[0;32m     49\u001b[0m     \u001b[1;32mdef\u001b[0m \u001b[0mclick\u001b[0m\u001b[1;33m(\u001b[0m\u001b[0mself\u001b[0m\u001b[1;33m,\u001b[0m \u001b[0mpos\u001b[0m\u001b[1;33m=\u001b[0m\u001b[1;33m(\u001b[0m\u001b[1;33m-\u001b[0m\u001b[1;36m1\u001b[0m\u001b[1;33m,\u001b[0m \u001b[1;33m-\u001b[0m\u001b[1;36m1\u001b[0m\u001b[1;33m)\u001b[0m\u001b[1;33m,\u001b[0m \u001b[0mbutton_name\u001b[0m\u001b[1;33m=\u001b[0m \u001b[1;34m\"left\"\u001b[0m\u001b[1;33m)\u001b[0m\u001b[1;33m:\u001b[0m\u001b[1;33m\u001b[0m\u001b[1;33m\u001b[0m\u001b[0m\n\u001b[0;32m     50\u001b[0m         \u001b[1;34m\"\"\"Click at the specified placed\"\"\"\u001b[0m\u001b[1;33m\u001b[0m\u001b[1;33m\u001b[0m\u001b[0m\n\u001b[1;32m---> 51\u001b[1;33m         \u001b[0mself\u001b[0m\u001b[1;33m.\u001b[0m\u001b[0mmove_mouse\u001b[0m\u001b[1;33m(\u001b[0m\u001b[0mpos\u001b[0m\u001b[1;33m)\u001b[0m\u001b[1;33m\u001b[0m\u001b[1;33m\u001b[0m\u001b[0m\n\u001b[0m\u001b[0;32m     52\u001b[0m         \u001b[0mself\u001b[0m\u001b[1;33m.\u001b[0m\u001b[0m_do_event\u001b[0m\u001b[1;33m(\u001b[0m\u001b[0mself\u001b[0m\u001b[1;33m.\u001b[0m\u001b[0m_get_button_value\u001b[0m\u001b[1;33m(\u001b[0m\u001b[0mbutton_name\u001b[0m\u001b[1;33m,\u001b[0m \u001b[1;32mFalse\u001b[0m\u001b[1;33m)\u001b[0m\u001b[1;33m+\u001b[0m\u001b[0mself\u001b[0m\u001b[1;33m.\u001b[0m\u001b[0m_get_button_value\u001b[0m\u001b[1;33m(\u001b[0m\u001b[0mbutton_name\u001b[0m\u001b[1;33m,\u001b[0m \u001b[1;32mTrue\u001b[0m\u001b[1;33m)\u001b[0m\u001b[1;33m)\u001b[0m\u001b[1;33m\u001b[0m\u001b[1;33m\u001b[0m\u001b[0m\n\u001b[0;32m     53\u001b[0m \u001b[1;33m\u001b[0m\u001b[0m\n",
      "\u001b[1;32m<ipython-input-27-9ac850ad30cb>\u001b[0m in \u001b[0;36mmove_mouse\u001b[1;34m(self, pos)\u001b[0m\n\u001b[0;32m     40\u001b[0m         \u001b[0mx\u001b[0m \u001b[1;33m=\u001b[0m  \u001b[0mx\u001b[0m \u001b[1;32mif\u001b[0m \u001b[1;33m(\u001b[0m\u001b[0mx\u001b[0m \u001b[1;33m!=\u001b[0m \u001b[1;33m-\u001b[0m\u001b[1;36m1\u001b[0m\u001b[1;33m)\u001b[0m \u001b[1;32melse\u001b[0m \u001b[0mold_pos\u001b[0m\u001b[1;33m[\u001b[0m\u001b[1;36m0\u001b[0m\u001b[1;33m]\u001b[0m\u001b[1;33m\u001b[0m\u001b[1;33m\u001b[0m\u001b[0m\n\u001b[0;32m     41\u001b[0m         \u001b[0my\u001b[0m \u001b[1;33m=\u001b[0m  \u001b[0my\u001b[0m \u001b[1;32mif\u001b[0m \u001b[1;33m(\u001b[0m\u001b[0my\u001b[0m \u001b[1;33m!=\u001b[0m \u001b[1;33m-\u001b[0m\u001b[1;36m1\u001b[0m\u001b[1;33m)\u001b[0m \u001b[1;32melse\u001b[0m \u001b[0mold_pos\u001b[0m\u001b[1;33m[\u001b[0m\u001b[1;36m1\u001b[0m\u001b[1;33m]\u001b[0m\u001b[1;33m\u001b[0m\u001b[1;33m\u001b[0m\u001b[0m\n\u001b[1;32m---> 42\u001b[1;33m         \u001b[0mself\u001b[0m\u001b[1;33m.\u001b[0m\u001b[0m_do_event\u001b[0m\u001b[1;33m(\u001b[0m\u001b[0mself\u001b[0m\u001b[1;33m.\u001b[0m\u001b[0mMOUSEEVENTF_MOVE\u001b[0m \u001b[1;33m+\u001b[0m \u001b[0mself\u001b[0m\u001b[1;33m.\u001b[0m\u001b[0mMOUSEEVENTF_ABSOLUTE\u001b[0m\u001b[1;33m,\u001b[0m \u001b[0mx\u001b[0m\u001b[1;33m,\u001b[0m \u001b[0my\u001b[0m\u001b[1;33m,\u001b[0m \u001b[1;36m0\u001b[0m\u001b[1;33m,\u001b[0m \u001b[1;36m0\u001b[0m\u001b[1;33m)\u001b[0m\u001b[1;33m\u001b[0m\u001b[1;33m\u001b[0m\u001b[0m\n\u001b[0m\u001b[0;32m     43\u001b[0m \u001b[1;33m\u001b[0m\u001b[0m\n\u001b[0;32m     44\u001b[0m     \u001b[1;32mdef\u001b[0m \u001b[0mpress_button\u001b[0m\u001b[1;33m(\u001b[0m\u001b[0mself\u001b[0m\u001b[1;33m,\u001b[0m \u001b[0mpos\u001b[0m\u001b[1;33m=\u001b[0m\u001b[1;33m(\u001b[0m\u001b[1;33m-\u001b[0m\u001b[1;36m1\u001b[0m\u001b[1;33m,\u001b[0m \u001b[1;33m-\u001b[0m\u001b[1;36m1\u001b[0m\u001b[1;33m)\u001b[0m\u001b[1;33m,\u001b[0m \u001b[0mbutton_name\u001b[0m\u001b[1;33m=\u001b[0m\u001b[1;34m\"left\"\u001b[0m\u001b[1;33m,\u001b[0m \u001b[0mbutton_up\u001b[0m\u001b[1;33m=\u001b[0m\u001b[1;32mFalse\u001b[0m\u001b[1;33m)\u001b[0m\u001b[1;33m:\u001b[0m\u001b[1;33m\u001b[0m\u001b[1;33m\u001b[0m\u001b[0m\n",
      "\u001b[1;32m<ipython-input-27-9ac850ad30cb>\u001b[0m in \u001b[0;36m_do_event\u001b[1;34m(self, flags, x_pos, y_pos, data, extra_info)\u001b[0m\n\u001b[0;32m     19\u001b[0m         \u001b[0mx_calc\u001b[0m \u001b[1;33m=\u001b[0m \u001b[1;36m65536\u001b[0m \u001b[1;33m*\u001b[0m \u001b[0mx_pos\u001b[0m \u001b[1;33m/\u001b[0m \u001b[0mctypes\u001b[0m\u001b[1;33m.\u001b[0m\u001b[0mwindll\u001b[0m\u001b[1;33m.\u001b[0m\u001b[0muser32\u001b[0m\u001b[1;33m.\u001b[0m\u001b[0mGetSystemMetrics\u001b[0m\u001b[1;33m(\u001b[0m\u001b[0mself\u001b[0m\u001b[1;33m.\u001b[0m\u001b[0mSM_CXSCREEN\u001b[0m\u001b[1;33m)\u001b[0m \u001b[1;33m+\u001b[0m \u001b[1;36m1\u001b[0m\u001b[1;33m\u001b[0m\u001b[1;33m\u001b[0m\u001b[0m\n\u001b[0;32m     20\u001b[0m         \u001b[0my_calc\u001b[0m \u001b[1;33m=\u001b[0m \u001b[1;36m65536\u001b[0m \u001b[1;33m*\u001b[0m \u001b[0my_pos\u001b[0m \u001b[1;33m/\u001b[0m \u001b[0mctypes\u001b[0m\u001b[1;33m.\u001b[0m\u001b[0mwindll\u001b[0m\u001b[1;33m.\u001b[0m\u001b[0muser32\u001b[0m\u001b[1;33m.\u001b[0m\u001b[0mGetSystemMetrics\u001b[0m\u001b[1;33m(\u001b[0m\u001b[0mself\u001b[0m\u001b[1;33m.\u001b[0m\u001b[0mSM_CYSCREEN\u001b[0m\u001b[1;33m)\u001b[0m \u001b[1;33m+\u001b[0m \u001b[1;36m1\u001b[0m\u001b[1;33m\u001b[0m\u001b[1;33m\u001b[0m\u001b[0m\n\u001b[1;32m---> 21\u001b[1;33m         \u001b[1;32mreturn\u001b[0m \u001b[0mctypes\u001b[0m\u001b[1;33m.\u001b[0m\u001b[0mwindll\u001b[0m\u001b[1;33m.\u001b[0m\u001b[0muser32\u001b[0m\u001b[1;33m.\u001b[0m\u001b[0mmouse_event\u001b[0m\u001b[1;33m(\u001b[0m\u001b[0mflags\u001b[0m\u001b[1;33m,\u001b[0m \u001b[0mx_calc\u001b[0m\u001b[1;33m,\u001b[0m \u001b[0my_calc\u001b[0m\u001b[1;33m,\u001b[0m \u001b[0mdata\u001b[0m\u001b[1;33m,\u001b[0m \u001b[0mextra_info\u001b[0m\u001b[1;33m)\u001b[0m\u001b[1;33m\u001b[0m\u001b[1;33m\u001b[0m\u001b[0m\n\u001b[0m\u001b[0;32m     22\u001b[0m \u001b[1;33m\u001b[0m\u001b[0m\n\u001b[0;32m     23\u001b[0m     \u001b[1;32mdef\u001b[0m \u001b[0m_get_button_value\u001b[0m\u001b[1;33m(\u001b[0m\u001b[0mself\u001b[0m\u001b[1;33m,\u001b[0m \u001b[0mbutton_name\u001b[0m\u001b[1;33m,\u001b[0m \u001b[0mbutton_up\u001b[0m\u001b[1;33m=\u001b[0m\u001b[1;32mFalse\u001b[0m\u001b[1;33m)\u001b[0m\u001b[1;33m:\u001b[0m\u001b[1;33m\u001b[0m\u001b[1;33m\u001b[0m\u001b[0m\n",
      "\u001b[1;31mArgumentError\u001b[0m: argument 2: <class 'TypeError'>: Don't know how to convert parameter 2"
     ]
    }
   ],
   "source": [
    "m.click((20, 10), \"left\")"
   ]
  },
  {
   "cell_type": "code",
   "execution_count": 26,
   "metadata": {
    "ExecuteTime": {
     "end_time": "2019-12-09T02:48:08.408665Z",
     "start_time": "2019-12-09T02:48:08.400686Z"
    }
   },
   "outputs": [
    {
     "ename": "NameError",
     "evalue": "name 'xrange' is not defined",
     "output_type": "error",
     "traceback": [
      "\u001b[1;31m---------------------------------------------------------------------------\u001b[0m",
      "\u001b[1;31mNameError\u001b[0m                                 Traceback (most recent call last)",
      "\u001b[1;32m<ipython-input-26-17518f31c3b9>\u001b[0m in \u001b[0;36m<module>\u001b[1;34m\u001b[0m\n\u001b[1;32m----> 1\u001b[1;33m \u001b[1;32mfor\u001b[0m \u001b[0mi\u001b[0m \u001b[1;32min\u001b[0m \u001b[0mxrange\u001b[0m\u001b[1;33m(\u001b[0m\u001b[1;36m2\u001b[0m\u001b[1;33m)\u001b[0m\u001b[1;33m:\u001b[0m\u001b[1;33m\u001b[0m\u001b[1;33m\u001b[0m\u001b[0m\n\u001b[0m\u001b[0;32m      2\u001b[0m     \u001b[0mprint\u001b[0m\u001b[1;33m(\u001b[0m\u001b[0mi\u001b[0m\u001b[1;33m)\u001b[0m\u001b[1;33m\u001b[0m\u001b[1;33m\u001b[0m\u001b[0m\n",
      "\u001b[1;31mNameError\u001b[0m: name 'xrange' is not defined"
     ]
    }
   ],
   "source": [
    "for i in xrange(2):\n",
    "    print(i)"
   ]
  }
 ],
 "metadata": {
  "kernelspec": {
   "display_name": "Python 3",
   "language": "python",
   "name": "python3"
  },
  "language_info": {
   "codemirror_mode": {
    "name": "ipython",
    "version": 3
   },
   "file_extension": ".py",
   "mimetype": "text/x-python",
   "name": "python",
   "nbconvert_exporter": "python",
   "pygments_lexer": "ipython3",
   "version": "3.6.8"
  },
  "toc": {
   "base_numbering": 1,
   "nav_menu": {},
   "number_sections": true,
   "sideBar": true,
   "skip_h1_title": false,
   "title_cell": "Table of Contents",
   "title_sidebar": "Contents",
   "toc_cell": false,
   "toc_position": {},
   "toc_section_display": true,
   "toc_window_display": false
  }
 },
 "nbformat": 4,
 "nbformat_minor": 2
}
