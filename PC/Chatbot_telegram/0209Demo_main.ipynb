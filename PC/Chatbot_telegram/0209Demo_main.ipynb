{
 "cells": [
  {
   "cell_type": "code",
   "execution_count": null,
   "metadata": {
    "ExecuteTime": {
     "start_time": "2020-02-09T03:25:15.822Z"
    }
   },
   "outputs": [
    {
     "name": "stdout",
     "output_type": "stream",
     "text": [
      " * Serving Flask app \"__main__\" (lazy loading)\n",
      " * Environment: production\n",
      "   WARNING: This is a development server. Do not use it in a production deployment.\n",
      "   Use a production WSGI server instead.\n",
      " * Debug mode: off\n"
     ]
    },
    {
     "name": "stderr",
     "output_type": "stream",
     "text": [
      "/home/fio/anaconda3/envs/chatbot/lib/python3.7/site-packages/IPython/core/interactiveshell.py:3331: TelegramDeprecationWarning: Old Handler API is deprecated - see https://git.io/fxJuV for details\n",
      "  exec(code_obj, self.user_global_ns, self.user_ns)\n",
      "2020-02-09 11:25:18,329 - werkzeug - INFO -  * Running on http://127.0.0.1:12336/ (Press CTRL+C to quit)\n",
      "2020-02-09 11:29:40,615 - werkzeug - INFO - 127.0.0.1 - - [09/Feb/2020 11:29:40] \"\u001b[37mPOST /hook HTTP/1.1\u001b[0m\" 200 -\n"
     ]
    },
    {
     "name": "stdout",
     "output_type": "stream",
     "text": [
      "1\n"
     ]
    },
    {
     "name": "stderr",
     "output_type": "stream",
     "text": [
      "2020-02-09 11:29:45,035 - werkzeug - INFO - 127.0.0.1 - - [09/Feb/2020 11:29:45] \"\u001b[37mPOST /hook HTTP/1.1\u001b[0m\" 200 -\n"
     ]
    },
    {
     "name": "stdout",
     "output_type": "stream",
     "text": [
      "Threrefore, welcome to ask me about the problem you face when programming.\n"
     ]
    },
    {
     "name": "stderr",
     "output_type": "stream",
     "text": [
      "2020-02-09 11:36:31,809 - werkzeug - INFO - 127.0.0.1 - - [09/Feb/2020 11:36:31] \"\u001b[37mPOST /hook HTTP/1.1\u001b[0m\" 200 -\n"
     ]
    },
    {
     "name": "stdout",
     "output_type": "stream",
     "text": [
      "❓如何使用\n"
     ]
    },
    {
     "name": "stderr",
     "output_type": "stream",
     "text": [
      "2020-02-09 11:38:03,297 - werkzeug - INFO - 127.0.0.1 - - [09/Feb/2020 11:38:03] \"\u001b[37mPOST /hook HTTP/1.1\u001b[0m\" 200 -\n"
     ]
    },
    {
     "name": "stdout",
     "output_type": "stream",
     "text": [
      "我要去\n"
     ]
    },
    {
     "name": "stderr",
     "output_type": "stream",
     "text": [
      "2020-02-09 11:38:20,833 - werkzeug - INFO - 127.0.0.1 - - [09/Feb/2020 11:38:20] \"\u001b[37mPOST /hook HTTP/1.1\u001b[0m\" 200 -\n"
     ]
    },
    {
     "name": "stdout",
     "output_type": "stream",
     "text": [
      "✉️錯誤回報\n"
     ]
    },
    {
     "name": "stderr",
     "output_type": "stream",
     "text": [
      "2020-02-09 11:38:22,207 - werkzeug - INFO - 127.0.0.1 - - [09/Feb/2020 11:38:22] \"\u001b[37mPOST /hook HTTP/1.1\u001b[0m\" 200 -\n",
      "2020-02-09 11:38:22,481 - telegram.vendor.ptb_urllib3.urllib3.connectionpool - WARNING - Connection pool is full, discarding connection: api.telegram.org\n"
     ]
    },
    {
     "name": "stdout",
     "output_type": "stream",
     "text": [
      "❓如何使用\n",
      "🛠個人設定\n",
      "✉️錯誤回報\n"
     ]
    },
    {
     "name": "stderr",
     "output_type": "stream",
     "text": [
      "2020-02-09 11:38:23,030 - werkzeug - INFO - 127.0.0.1 - - [09/Feb/2020 11:38:23] \"\u001b[37mPOST /hook HTTP/1.1\u001b[0m\" 200 -\n",
      "2020-02-09 11:38:23,160 - telegram.vendor.ptb_urllib3.urllib3.connectionpool - WARNING - Connection pool is full, discarding connection: api.telegram.org\n",
      "2020-02-09 11:38:23,165 - werkzeug - INFO - 127.0.0.1 - - [09/Feb/2020 11:38:23] \"\u001b[37mPOST /hook HTTP/1.1\u001b[0m\" 200 -\n",
      "2020-02-09 11:38:23,193 - telegram.vendor.ptb_urllib3.urllib3.connectionpool - WARNING - Connection pool is full, discarding connection: api.telegram.org\n",
      "2020-02-09 11:38:23,199 - werkzeug - INFO - 127.0.0.1 - - [09/Feb/2020 11:38:23] \"\u001b[37mPOST /hook HTTP/1.1\u001b[0m\" 200 -\n",
      "2020-02-09 11:38:23,908 - telegram.vendor.ptb_urllib3.urllib3.connectionpool - WARNING - Connection pool is full, discarding connection: api.telegram.org\n"
     ]
    },
    {
     "name": "stdout",
     "output_type": "stream",
     "text": [
      "🛠個人設定\n"
     ]
    },
    {
     "name": "stderr",
     "output_type": "stream",
     "text": [
      "2020-02-09 11:38:24,460 - werkzeug - INFO - 127.0.0.1 - - [09/Feb/2020 11:38:24] \"\u001b[37mPOST /hook HTTP/1.1\u001b[0m\" 200 -\n"
     ]
    },
    {
     "name": "stdout",
     "output_type": "stream",
     "text": [
      "我要去\n"
     ]
    },
    {
     "name": "stderr",
     "output_type": "stream",
     "text": [
      "2020-02-09 11:38:32,889 - telegram.vendor.ptb_urllib3.urllib3.connectionpool - WARNING - Connection pool is full, discarding connection: api.telegram.org\n"
     ]
    },
    {
     "name": "stdout",
     "output_type": "stream",
     "text": [
      "❓如何使用\n"
     ]
    },
    {
     "name": "stderr",
     "output_type": "stream",
     "text": [
      "2020-02-09 11:38:33,438 - werkzeug - INFO - 127.0.0.1 - - [09/Feb/2020 11:38:33] \"\u001b[37mPOST /hook HTTP/1.1\u001b[0m\" 200 -\n"
     ]
    },
    {
     "name": "stdout",
     "output_type": "stream",
     "text": [
      "🛠個人設定\n"
     ]
    },
    {
     "name": "stderr",
     "output_type": "stream",
     "text": [
      "2020-02-09 11:38:36,871 - werkzeug - INFO - 127.0.0.1 - - [09/Feb/2020 11:38:36] \"\u001b[37mPOST /hook HTTP/1.1\u001b[0m\" 200 -\n",
      "2020-02-09 11:38:36,896 - telegram.vendor.ptb_urllib3.urllib3.connectionpool - WARNING - Connection pool is full, discarding connection: api.telegram.org\n"
     ]
    },
    {
     "name": "stdout",
     "output_type": "stream",
     "text": [
      "✉️錯誤回報\n"
     ]
    },
    {
     "name": "stderr",
     "output_type": "stream",
     "text": [
      "2020-02-09 11:38:37,443 - werkzeug - INFO - 127.0.0.1 - - [09/Feb/2020 11:38:37] \"\u001b[37mPOST /hook HTTP/1.1\u001b[0m\" 200 -\n",
      "2020-02-09 11:38:37,606 - telegram.vendor.ptb_urllib3.urllib3.connectionpool - WARNING - Connection pool is full, discarding connection: api.telegram.org\n"
     ]
    },
    {
     "name": "stdout",
     "output_type": "stream",
     "text": [
      "❓如何使用\n"
     ]
    },
    {
     "name": "stderr",
     "output_type": "stream",
     "text": [
      "2020-02-09 11:38:38,156 - werkzeug - INFO - 127.0.0.1 - - [09/Feb/2020 11:38:38] \"\u001b[37mPOST /hook HTTP/1.1\u001b[0m\" 200 -\n",
      "2020-02-09 11:38:38,295 - telegram.vendor.ptb_urllib3.urllib3.connectionpool - WARNING - Connection pool is full, discarding connection: api.telegram.org\n"
     ]
    },
    {
     "name": "stdout",
     "output_type": "stream",
     "text": [
      "🛠個人設定\n"
     ]
    },
    {
     "name": "stderr",
     "output_type": "stream",
     "text": [
      "2020-02-09 11:38:40,708 - werkzeug - INFO - 127.0.0.1 - - [09/Feb/2020 11:38:40] \"\u001b[37mPOST /hook HTTP/1.1\u001b[0m\" 200 -\n",
      "2020-02-09 11:38:41,113 - werkzeug - INFO - 127.0.0.1 - - [09/Feb/2020 11:38:41] \"\u001b[37mPOST /hook HTTP/1.1\u001b[0m\" 200 -\n",
      "2020-02-09 11:38:41,477 - telegram.vendor.ptb_urllib3.urllib3.connectionpool - WARNING - Connection pool is full, discarding connection: api.telegram.org\n"
     ]
    },
    {
     "name": "stdout",
     "output_type": "stream",
     "text": [
      "2\n"
     ]
    },
    {
     "name": "stderr",
     "output_type": "stream",
     "text": [
      "2020-02-09 11:38:42,098 - werkzeug - INFO - 127.0.0.1 - - [09/Feb/2020 11:38:42] \"\u001b[37mPOST /hook HTTP/1.1\u001b[0m\" 200 -\n",
      "2020-02-09 11:38:43,271 - telegram.vendor.ptb_urllib3.urllib3.connectionpool - WARNING - Connection pool is full, discarding connection: api.telegram.org\n"
     ]
    },
    {
     "name": "stdout",
     "output_type": "stream",
     "text": [
      "2\n"
     ]
    },
    {
     "name": "stderr",
     "output_type": "stream",
     "text": [
      "2020-02-09 11:38:43,816 - werkzeug - INFO - 127.0.0.1 - - [09/Feb/2020 11:38:43] \"\u001b[37mPOST /hook HTTP/1.1\u001b[0m\" 200 -\n"
     ]
    }
   ],
   "source": [
    "import configparser\n",
    "import logging\n",
    "\n",
    "import telegram\n",
    "from flask import Flask, request\n",
    "from telegram import ReplyKeyboardMarkup, InlineKeyboardMarkup, InlineKeyboardButton\n",
    "from telegram.ext import Dispatcher, CommandHandler, MessageHandler, Filters, InlineQueryHandler\n",
    "from time import sleep\n",
    "\n",
    "class dict_to_obj(object):\n",
    "    def __init__(self, d):\n",
    "        for a, b in d.items():\n",
    "            if isinstance(b, (list, tuple)):\n",
    "                setattr(self, a, [dict_to_obj(x) if isinstance(x, dict) else x for x in b])\n",
    "            else:\n",
    "                setattr(self, a, dict_to_obj(b) if isinstance(b, dict) else b)\n",
    "\n",
    "\n",
    "def obj_to_dict(obj):\n",
    "    out = vars(obj)\n",
    "    for key in out.keys():\n",
    "        #print(type(out[key]))\n",
    "        if type(out[key]) == type(data3):\n",
    "            #print(vars(out[key]))\n",
    "            out[key] = vars(out[key])\n",
    "    return out\n",
    "\n",
    "\n",
    "\n",
    "config = configparser.ConfigParser()\n",
    "config.read('config.config')\n",
    "\n",
    "# Enable logging\n",
    "logging.basicConfig(format='%(asctime)s - %(name)s - %(levelname)s - %(message)s',\n",
    "                    level=logging.INFO)\n",
    "logger = logging.getLogger(__name__)\n",
    "\n",
    "# Initial Flask app\n",
    "app = Flask(__name__)\n",
    "\n",
    "# Initial bot by Telegram access token\n",
    "bot = telegram.Bot(token=(config['TELEGRAM']['ACCESS_TOKEN']))\n",
    "\n",
    "\n",
    "#replace\n",
    "welcome_message = \"\"\"\n",
    "歡迎使用本測試聊天機器人\n",
    "本機器人作者為 EasonC13\n",
    "將在上面佈署需要的功能\n",
    "請使用 /help 來取得更多協助\"\"\"\n",
    "\n",
    "testing_message = \"\"\"\n",
    "接下來將進行一系列的評分測試\n",
    "幫助我們系統理解您的喜好\n",
    "讓我們能推薦適合您的藝文活動喔！\"\"\"\n",
    "\n",
    "hello_message = \"\"\"\n",
    "哈囉！\n",
    "老客戶用 /start 指令\n",
    "你是在哈囉嗎？\n",
    "需要幫助歡迎選擇 /help\n",
    "\"\"\"\n",
    "\n",
    "help_message = \"\"\"\n",
    "R \n",
    "就是R\n",
    "其實這個部分還沒寫啦\n",
    "因為我們還沒做完嘛...\n",
    "\n",
    "所以你還無法使用\n",
    "但你還是可以用 /start \n",
    "來取得指引喔！\"\"\"\n",
    "\n",
    "location_keyboard = telegram.KeyboardButton(text=\"傳送定位資訊\", request_location=True)\n",
    "phone_keyboard = telegram.KeyboardButton(text=\"📞綁定手機號碼\", request_contact=True)\n",
    "cancel_keyboard = telegram.KeyboardButton(text=\"取消\")\n",
    "\n",
    "KeyBoards = {\n",
    "    \"default\" : ReplyKeyboardMarkup([['📡尋找在附近的藝文活動'],\n",
    "                                     ['❓如何使用'],\n",
    "                                     ['🛠個人設定'],\n",
    "                                     ['✉️錯誤回報'], \n",
    "                                     [\"❓關於本機器人\"]]),\n",
    "    \"testing\" : ReplyKeyboardMarkup([[\"好的，讓我們開始吧！\"]]),\n",
    "    \"request_location\" : ReplyKeyboardMarkup([[location_keyboard], [cancel_keyboard]]),\n",
    "    \"request_phone\" : ReplyKeyboardMarkup([[phone_keyboard], [cancel_keyboard]]),\n",
    "    \"decide_go_or_not\" : ReplyKeyboardMarkup([['我要去'],['沒興趣，請給我其他活動']]),\n",
    "    \"rate_score\" : ReplyKeyboardMarkup([['1'], ['2'], ['3'], ['4'], ['5']]),\n",
    "}\n",
    "KeyBoards = dict_to_obj(KeyBoards)\n",
    "\n",
    "def get_rate_inline_board():\n",
    "    out = []\n",
    "    for i in range(10, 50, 10):\n",
    "        i = float(i/10)\n",
    "        out.append(str(i))\n",
    "    return [out]\n",
    "\n",
    "rate_board = ReplyKeyboardMarkup(get_rate_inline_board(), resize_keyboard = True, one_time_keyboard = True, selective = True)\n",
    "\n",
    "\n",
    "@app.route('/hook', methods=['POST'])\n",
    "def webhook_handler():\n",
    "    \"\"\"Set route /hook with POST method will trigger this method.\"\"\"\n",
    "    if request.method == \"POST\":\n",
    "        update = telegram.Update.de_json(request.get_json(force=True), bot)\n",
    "        dispatcher.process_update(update)\n",
    "    return 'ok'\n",
    "\n",
    "\n",
    "def start_handler(bot, update):\n",
    "    \"\"\"Send a message when the command /start is issued.\"\"\"\n",
    "    already_in_use = False\n",
    "    if already_in_use:\n",
    "        update.message.reply_text(hello_message, reply_markup=KeyBoards.default)\n",
    "    else:\n",
    "        user_setup(update)\n",
    "        \n",
    "def user_setup(update):\n",
    "    update.message.reply_text(welcome_message, reply_markup=KeyBoards.default)\n",
    "    #update.message.reply_text(testing_message, reply_markup=KeyBoards.testing)\n",
    "    #set User to testing mod\n",
    "    #update.message.reply_text(\"請問你對 {這部影片} 的評分？\", reply_markup=rate_board)\n",
    "\n",
    "def help_handler(bot, update):\n",
    "    \"\"\"Send a message when the command /help is issued.\"\"\"\n",
    "    #update.message.reply_text(welcome_message, reply_markup=KeyBoards.default)\n",
    "    update.message.reply_text(help_message, reply_markup = ReplyKeyboardMarkup([[\"...好喔\"]]) )\n",
    "    \n",
    "\n",
    "\n",
    "def send_typing_action(update):\n",
    "    \"\"\"Show the bot is typing to user.\"\"\"\n",
    "    bot.send_chat_action(chat_id=update.message.chat.id, action=telegram.ChatAction.TYPING)\n",
    "    \n",
    "def location_handler(bot, update):\n",
    "    message = None\n",
    "    update.message.reply_text('請稍後，正在尋找您附近的藝文活動')\n",
    "    send_typing_action(update)\n",
    "    sleep(1)\n",
    "    bot.send_location(update.message.chat.id, 25.028538, 121.5321779)\n",
    "    update.message.reply_text('在青田街5巷6號，街頭藝人 Eason 正在表演虎鶴雙型', reply_markup = KeyBoards.decide_go_or_not)\n",
    "    \n",
    "    \n",
    "def reply_processor(update):\n",
    "    text = update.message.text\n",
    "    print(text)\n",
    "    reply_text = update.message.reply_text\n",
    "    reply = None\n",
    "    \n",
    "    if \"eason\" in text:\n",
    "        reply_text(\"叭叭！@IshengChen 有人叫你啊\")\n",
    "        \n",
    "    elif text == \"...好喔\":\n",
    "        reply_text(\"嘻嘻，謝謝你的包容\", reply_markup=KeyBoards.default)\n",
    "        \n",
    "    elif text == \"❓如何使用\":\n",
    "        reply_text(\"我...我才不告訴你呢...\\n(其實是還沒寫啦...)\", reply_markup=KeyBoards.default)\n",
    "        \n",
    "    elif text == \"✉️錯誤回報\":\n",
    "        reply_text(\"請直接聯絡負責我的開發者 @IshengChen\")\n",
    "        \n",
    "    elif text == \"🛠個人設定\":\n",
    "        reply_text(\"目前尚未提供此功能\\n(還沒寫...)\", reply_markup=KeyBoards.default)\n",
    "        \n",
    "    elif text == \"📡尋找在附近的藝文活動\":\n",
    "        reply_text(\"請問你想尋找的活動類型？(還沒寫)\", reply_markup=KeyBoards.request_location)\n",
    "        reply_text(\"請提供您的定位資訊：\", reply_markup=KeyBoards.request_location)\n",
    "        \n",
    "    elif text == \"取消\":\n",
    "        reply_text(\"收到\", reply_markup=KeyBoards.default)\n",
    "        \n",
    "    elif text == \"❓關於本機器人\":\n",
    "        reply_text(\"其實我應該要跟你講個感人的故事，\\n關於本機器人如何幫助藝文產業起飛\\n只是我們還沒寫QQ\", reply_markup=KeyBoards.default)\n",
    "    \n",
    "    elif text == \"沒興趣，請給我其他活動\":\n",
    "        sleep(1)\n",
    "        bot.send_location(update.message.chat.id, 25.0301335, 121.5354529)\n",
    "        reply_text(\"在大安森林公園露天音樂台，樂團 Eason 正在表演\")\n",
    "        \n",
    "    elif text == \"我要去\":\n",
    "        reply_text(\"祝您觀賞愉快，可直接點選上面的地圖做導航喔！\", reply_markup=KeyBoards.default)\n",
    "        sleep(10)\n",
    "        reply_text(\"詢問結果\", reply_markup=KeyBoards.rate_score)\n",
    "        \n",
    "    else:\n",
    "        reply = \"聽不懂QQ\"\n",
    "        \n",
    "    return reply\n",
    "\n",
    "def reply_handler(bot, update):\n",
    "    \"\"\"Reply message.\"\"\"\n",
    "    send_typing_action(update)\n",
    "    reply = reply_processor(update)\n",
    "    if reply != None:\n",
    "        update.message.reply_text(reply, reply_markup=KeyBoards.default)\n",
    "\n",
    "\n",
    "def error_handler(bot, update, error):\n",
    "    \"\"\"Log Errors caused by Updates.\"\"\"\n",
    "    logger.error('Update \"%s\" caused error \"%s\"', update, error)\n",
    "    update.message.reply_text('對不起，系統錯誤\\n(歡迎使用錯誤回報，告訴開發者，你剛剛輸入了什麼)')\n",
    "\n",
    "\n",
    "# New a dispatcher for bot\n",
    "dispatcher = Dispatcher(bot, None)\n",
    "\n",
    "# Add handler for handling message, there are many kinds of message. For this handler, it particular handle text\n",
    "# message.\n",
    "dispatcher.add_handler(MessageHandler(Filters.text, reply_handler))\n",
    "dispatcher.add_handler(CommandHandler('start', start_handler))\n",
    "dispatcher.add_handler(CommandHandler('help', help_handler))\n",
    "dispatcher.add_handler(MessageHandler(Filters.location, location_handler))\n",
    "dispatcher.add_error_handler(error_handler)\n",
    "\n",
    "\n",
    "\n",
    "\n",
    "\n",
    "\n",
    "if __name__ == \"__main__\":\n",
    "    # Running server\n",
    "    app.run(port = 12336)#, ssl_context=(\"/home/fio/myCA/server_crt.pem\",\"/home/fio/myCA/server_key.pem\"))\n",
    "#要先去https://api.telegram.org/bot891550922:AAFl9Fb7oTgM-Ih_jT9JKfe__3ZsykitEE4/setWebhook?url=https://512c04e6.ngrok.io/hook\n",
    "\n",
    "\n",
    "#https://api.telegram.org/bot891550922:AAFl9Fb7oTgM-Ih_jT9JKfe__3ZsykitEE4/setWebhook?url=https://ai.cto.tw:12336/hook\n",
    "#把他Hook起來以後，才會有用"
   ]
  },
  {
   "cell_type": "code",
   "execution_count": null,
   "metadata": {},
   "outputs": [],
   "source": []
  }
 ],
 "metadata": {
  "hide_input": false,
  "kernelspec": {
   "display_name": "chatbot",
   "language": "python",
   "name": "chatbot"
  },
  "language_info": {
   "codemirror_mode": {
    "name": "ipython",
    "version": 3
   },
   "file_extension": ".py",
   "mimetype": "text/x-python",
   "name": "python",
   "nbconvert_exporter": "python",
   "pygments_lexer": "ipython3",
   "version": "3.7.6"
  },
  "varInspector": {
   "cols": {
    "lenName": 16,
    "lenType": 16,
    "lenVar": 40
   },
   "kernels_config": {
    "python": {
     "delete_cmd_postfix": "",
     "delete_cmd_prefix": "del ",
     "library": "var_list.py",
     "varRefreshCmd": "print(var_dic_list())"
    },
    "r": {
     "delete_cmd_postfix": ") ",
     "delete_cmd_prefix": "rm(",
     "library": "var_list.r",
     "varRefreshCmd": "cat(var_dic_list()) "
    }
   },
   "types_to_exclude": [
    "module",
    "function",
    "builtin_function_or_method",
    "instance",
    "_Feature"
   ],
   "window_display": false
  }
 },
 "nbformat": 4,
 "nbformat_minor": 2
}
