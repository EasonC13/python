{
 "cells": [
  {
   "cell_type": "code",
   "execution_count": null,
   "metadata": {},
   "outputs": [],
   "source": [
    "def ChangeToEng():\n",
    "    import pyautogui\n",
    "    \n",
    "    pyautogui.click()\n",
    "    pyautogui.hotkey(\"ctrl\",\"t\")\n",
    "    pyautogui.hotkey(\"ctrl\", \"l\")\n",
    "    pyautogui.write(\"d \")\n",
    "    pyautogui.hotkey(\"ctrl\",\"a\")\n",
    "    pyautogui.hotkey(\"ctrl\",\"x\")\n",
    "\n",
    "    import win32clipboard\n",
    "    import win32con\n",
    "\n",
    "    win32clipboard.OpenClipboard()\n",
    "    data = win32clipboard.GetClipboardData()\n",
    "    win32clipboard.CloseClipboard()\n",
    "    pyautogui.hotkey(\"ctrl\",\"w\")\n",
    "    if data!=\"d \":\n",
    "        pyautogui.press(\"shift\")\n",
    "        ChangeToEng()\n",
    "\n"
   ]
  },
  {
   "cell_type": "code",
   "execution_count": 24,
   "metadata": {
    "ExecuteTime": {
     "end_time": "2020-03-13T00:29:54.383909Z",
     "start_time": "2020-03-13T00:29:54.360945Z"
    }
   },
   "outputs": [
    {
     "data": {
      "text/plain": [
       "(255, 255, 255)"
      ]
     },
     "execution_count": 24,
     "metadata": {},
     "output_type": "execute_result"
    }
   ],
   "source": [
    "#取得該座標的RGB值\n",
    "pyautogui.pixel(400,400)"
   ]
  },
  {
   "cell_type": "code",
   "execution_count": 4,
   "metadata": {},
   "outputs": [],
   "source": [
    "x, y = 400, 400"
   ]
  },
  {
   "cell_type": "code",
   "execution_count": 2,
   "metadata": {},
   "outputs": [],
   "source": [
    "import pyautogui\n",
    "x, "
   ]
  },
  {
   "cell_type": "code",
   "execution_count": 5,
   "metadata": {
    "ExecuteTime": {
     "end_time": "2020-03-13T00:35:47.336330Z",
     "start_time": "2020-03-13T00:35:47.329375Z"
    },
    "scrolled": true
   },
   "outputs": [
    {
     "name": "stdout",
     "output_type": "stream",
     "text": [
      "pixel is (255, 255, 255)\n",
      "It is white!\n"
     ]
    }
   ],
   "source": [
    "pixel = pyautogui.pixel(x, y)\n",
    "print(\"pixel is\", pixel)\n",
    "if pixel > (200, 200, 200):\n",
    "    print(\"It is white!\")\n",
    "else:\n",
    "    print(\"It is Not white\")"
   ]
  },
  {
   "cell_type": "code",
   "execution_count": 8,
   "metadata": {},
   "outputs": [],
   "source": [
    "import time\n",
    "time.sleep(3)"
   ]
  },
  {
   "cell_type": "code",
   "execution_count": 9,
   "metadata": {},
   "outputs": [
    {
     "name": "stdout",
     "output_type": "stream",
     "text": [
      "(221, 0, 0)\n",
      "It is Red!\n"
     ]
    }
   ],
   "source": [
    "pixel = pyautogui.pixel(x, y)\n",
    "print(pixel)\n",
    "if pixel[0] > 200 and pixel[1:2] < (100, 100):\n",
    "    print(\"It is Red!\")\n",
    "else:\n",
    "    print(\"It is Not Red\")"
   ]
  },
  {
   "cell_type": "code",
   "execution_count": 104,
   "metadata": {},
   "outputs": [
    {
     "data": {
      "image/png": "[encoded data removed]",
      "text/plain": [
       "<PIL.Image.Image image mode=RGB size=5x5 at 0x2AF015D25C0>"
      ]
     },
     "execution_count": 104,
     "metadata": {},
     "output_type": "execute_result"
    }
   ],
   "source": [
    "screenshot = pyautogui.screenshot()\n",
    "screenshot = screenshot.crop((10, 300, 15, 305))\n",
    "screenshot"
   ]
  },
  {
   "cell_type": "code",
   "execution_count": 105,
   "metadata": {},
   "outputs": [
    {
     "data": {
      "text/plain": [
       "array([[ True,  True,  True,  True,  True],\n",
       "       [ True,  True,  True,  True,  True],\n",
       "       [ True,  True,  True,  True,  True],\n",
       "       [ True,  True,  True,  True,  True],\n",
       "       [ True,  True,  True,  True,  True]])"
      ]
     },
     "execution_count": 105,
     "metadata": {},
     "output_type": "execute_result"
    }
   ],
   "source": [
    "import numpy as np\n",
    "screenshot = pyautogui.screenshot()\n",
    "screenshot = screenshot.crop((300, 300, 305, 305))\n",
    "screenshot = np.array(screenshot)\n",
    "result = (screenshot > [200, 200, 200])\n",
    "result.sum(axis = 2) == 3"
   ]
  },
  {
   "cell_type": "code",
   "execution_count": 94,
   "metadata": {},
   "outputs": [],
   "source": [
    "result = (screenshot > [200, 200, 200])"
   ]
  },
  {
   "cell_type": "code",
   "execution_count": 91,
   "metadata": {},
   "outputs": [
    {
     "data": {
      "text/plain": [
       "(20, 20, 3)"
      ]
     },
     "execution_count": 91,
     "metadata": {},
     "output_type": "execute_result"
    }
   ],
   "source": [
    "a.shape"
   ]
  },
  {
   "cell_type": "code",
   "execution_count": 92,
   "metadata": {},
   "outputs": [
    {
     "data": {
      "text/plain": [
       "array([[0, 0, 0, 0, 0, 0, 0, 0, 0, 0, 0, 0, 0, 0, 0, 0, 0, 0, 0, 0],\n",
       "       [0, 0, 0, 0, 0, 0, 0, 0, 0, 0, 0, 0, 0, 0, 0, 0, 0, 0, 0, 0],\n",
       "       [0, 0, 0, 0, 0, 0, 0, 0, 0, 0, 0, 0, 0, 0, 0, 0, 0, 0, 0, 0],\n",
       "       [0, 0, 0, 0, 0, 0, 0, 0, 0, 0, 0, 0, 0, 0, 0, 0, 0, 0, 0, 0],\n",
       "       [0, 0, 0, 0, 0, 0, 0, 0, 0, 0, 0, 0, 0, 0, 0, 0, 0, 0, 0, 0],\n",
       "       [0, 0, 0, 0, 0, 0, 0, 0, 0, 0, 0, 0, 0, 0, 0, 0, 0, 0, 0, 0],\n",
       "       [0, 0, 0, 0, 0, 0, 0, 0, 0, 0, 0, 0, 0, 0, 0, 0, 0, 0, 0, 0],\n",
       "       [0, 0, 0, 0, 0, 0, 0, 0, 0, 0, 0, 0, 0, 0, 0, 0, 0, 0, 0, 0],\n",
       "       [0, 0, 0, 0, 0, 0, 0, 0, 0, 0, 0, 0, 0, 0, 0, 0, 0, 0, 0, 0],\n",
       "       [0, 0, 0, 0, 0, 0, 0, 0, 0, 0, 0, 0, 0, 0, 0, 0, 0, 0, 0, 0],\n",
       "       [0, 0, 0, 0, 0, 0, 0, 0, 0, 0, 0, 0, 0, 0, 0, 0, 0, 0, 0, 0],\n",
       "       [0, 0, 0, 0, 0, 0, 0, 0, 0, 0, 0, 0, 0, 0, 0, 0, 0, 0, 0, 0],\n",
       "       [0, 0, 0, 0, 0, 0, 0, 0, 0, 0, 0, 0, 0, 0, 0, 0, 0, 0, 0, 0],\n",
       "       [0, 0, 0, 0, 0, 0, 0, 0, 0, 0, 0, 0, 0, 0, 0, 0, 0, 0, 0, 0],\n",
       "       [0, 0, 0, 0, 0, 0, 0, 0, 0, 0, 0, 0, 0, 0, 0, 0, 0, 0, 0, 0],\n",
       "       [0, 0, 0, 0, 0, 0, 0, 0, 0, 0, 0, 0, 0, 0, 0, 0, 0, 0, 0, 0],\n",
       "       [0, 0, 0, 0, 0, 0, 0, 0, 0, 0, 0, 0, 0, 0, 0, 0, 0, 0, 0, 0],\n",
       "       [0, 0, 0, 0, 0, 0, 0, 0, 0, 0, 0, 0, 0, 0, 0, 0, 0, 0, 0, 0],\n",
       "       [0, 0, 0, 0, 0, 0, 0, 0, 0, 0, 0, 0, 0, 0, 0, 0, 0, 0, 0, 0],\n",
       "       [0, 0, 0, 0, 0, 0, 0, 0, 0, 0, 0, 0, 0, 0, 0, 0, 0, 0, 0, 0]])"
      ]
     },
     "execution_count": 92,
     "metadata": {},
     "output_type": "execute_result"
    }
   ],
   "source": [
    "a.sum(axis = 2)"
   ]
  },
  {
   "cell_type": "code",
   "execution_count": 1,
   "metadata": {
    "ExecuteTime": {
     "end_time": "2020-03-12T23:52:30.221291Z",
     "start_time": "2020-03-12T23:52:29.597912Z"
    }
   },
   "outputs": [],
   "source": [
    "import pyautogui"
   ]
  },
  {
   "cell_type": "code",
   "execution_count": 3,
   "metadata": {
    "ExecuteTime": {
     "end_time": "2020-03-12T23:54:45.145837Z",
     "start_time": "2020-03-12T23:54:45.033138Z"
    }
   },
   "outputs": [],
   "source": [
    "   pyautogui.click(861, 513, duration=3)"
   ]
  },
  {
   "cell_type": "code",
   "execution_count": 106,
   "metadata": {
    "ExecuteTime": {
     "end_time": "2020-03-07T11:33:19.335944Z",
     "start_time": "2020-03-07T11:33:10.267471Z"
    }
   },
   "outputs": [],
   "source": [
    "def selectCourse(course_id):\n",
    "    durate = 0.5\n",
    "    pyautogui.moveTo(40,260,durate, pyautogui.easeInQuad)\n",
    "    click()\n",
    "    sleep(1)\n",
    "    pyautogui.moveTo(200,271, durate, pyautogui.easeInQuad)\n",
    "    pyautogui.click(clicks=2)\n",
    "    pyautogui.write(str(course_id))\n",
    "    pyautogui.moveTo(861, 513, durate, pyautogui.easeInQuad)\n",
    "    pyautogui.click()\n",
    "    sleep(1)\n",
    "    pyautogui.moveTo(880, 627, durate, pyautogui.easeInQuad)\n",
    "    pyautogui.click()\n",
    "    pyautogui.moveTo(39, 562, durate, pyautogui.easeInQuad)\n",
    "    pyautogui.click()\n",
    "    pyautogui.moveTo(988, 751, durate, pyautogui.easeInQuad)\n",
    "    pyautogui.click()\n",
    "    pyautogui.moveTo(988, 778, durate, pyautogui.easeInQuad)\n",
    "    pyautogui.click()\n",
    "    pyautogui.moveTo(1089, 794, durate, pyautogui.easeInQuad)\n",
    "    pyautogui.click()\n",
    "    pyautogui.moveTo(949, 810, durate, pyautogui.easeInQuad)\n",
    "    pyautogui.click()\n",
    "selectCourse(\"0905\")"
   ]
  },
  {
   "cell_type": "code",
   "execution_count": 113,
   "metadata": {
    "ExecuteTime": {
     "end_time": "2020-03-07T11:38:22.491104Z",
     "start_time": "2020-03-07T11:38:22.477139Z"
    }
   },
   "outputs": [],
   "source": [
    "durate = 2\n",
    "import time\n",
    "class External:\n",
    "    def goToExternal():\n",
    "        moveTo(900,180)\n",
    "        click()\n",
    "        sleep(2)\n",
    "        moveTo(960, 615)\n",
    "        click()\n",
    "    def selectCourse(course_id):\n",
    "        durate = 0.5\n",
    "        pyautogui.moveTo(30,258,durate, pyautogui.easeInQuad)\n",
    "        click()\n",
    "        sleep(1)\n",
    "        pyautogui.moveTo(200,221, durate, pyautogui.easeInQuad)\n",
    "        pyautogui.click(clicks=2)\n",
    "        pyautogui.write(str(course_id))\n",
    "        pyautogui.moveTo(850,460, durate, pyautogui.easeInQuad)\n",
    "        pyautogui.click()\n",
    "        sleep(5)\n",
    "        pyautogui.moveTo(850,557, durate, pyautogui.easeInQuad)\n",
    "        pyautogui.click()\n",
    "        pyautogui.moveTo(50,500, durate, pyautogui.easeInQuad)\n",
    "        pyautogui.click()\n",
    "        pyautogui.moveTo(1013, 705, durate, pyautogui.easeInQuad)\n",
    "        pyautogui.click()\n",
    "        pyautogui.moveTo(1013, 721, durate, pyautogui.easeInQuad)\n",
    "        pyautogui.click()\n",
    "        pyautogui.moveTo(1053, 735, durate, pyautogui.easeInQuad)\n",
    "        pyautogui.click()\n",
    "        pyautogui.moveTo(949, 769, durate, pyautogui.easeInQuad)\n",
    "        pyautogui.click()\n",
    "\n",
    "class Internal():\n",
    "    def goToInternal():\n",
    "        moveTo(290,180)\n",
    "        click()\n",
    "        sleep(2)\n",
    "    def selectCourse(course_id):\n",
    "        durate = 0.5\n",
    "        pyautogui.moveTo(40,260,durate, pyautogui.easeInQuad)\n",
    "        click()\n",
    "        sleep(1)\n",
    "        pyautogui.moveTo(200,271, durate, pyautogui.easeInQuad)\n",
    "        pyautogui.click(clicks=2)\n",
    "        pyautogui.write(str(course_id))\n",
    "        pyautogui.moveTo(861, 513, durate, pyautogui.easeInQuad)\n",
    "        pyautogui.click()\n",
    "        sleep(5)\n",
    "        pyautogui.moveTo(880, 627, durate, pyautogui.easeInQuad)\n",
    "        pyautogui.click()\n",
    "        pyautogui.moveTo(39, 562, durate, pyautogui.easeInQuad)\n",
    "        pyautogui.click()\n",
    "        time.sleep(1)\n",
    "        pyautogui.moveTo(988, 751, durate, pyautogui.easeInQuad)\n",
    "        pyautogui.click()\n",
    "        pyautogui.moveTo(988, 778, durate, pyautogui.easeInQuad)\n",
    "        pyautogui.click()\n",
    "        pyautogui.moveTo(1089, 794, durate, pyautogui.easeInQuad)\n",
    "        pyautogui.click()\n",
    "        pyautogui.moveTo(949, 810, durate, pyautogui.easeInQuad)\n",
    "        pyautogui.click()"
   ]
  },
  {
   "cell_type": "code",
   "execution_count": 115,
   "metadata": {
    "ExecuteTime": {
     "end_time": "2020-03-07T11:39:03.802840Z",
     "start_time": "2020-03-07T11:38:46.052820Z"
    }
   },
   "outputs": [],
   "source": [
    "External.goToExternal()\n",
    "External.selectCourse(3347)\n",
    "goToInternal()"
   ]
  },
  {
   "cell_type": "code",
   "execution_count": 116,
   "metadata": {
    "ExecuteTime": {
     "end_time": "2020-03-07T11:40:36.157074Z",
     "start_time": "2020-03-07T11:39:43.052687Z"
    }
   },
   "outputs": [
    {
     "name": "stdout",
     "output_type": "stream",
     "text": [
      "Finish\n"
     ]
    }
   ],
   "source": [
    "course_id = [\"0905\", \"0958\", \"ext:3190\", \"ext:3347\"]\n",
    "for course in course_id:\n",
    "    if \"ext:\" in course:\n",
    "        External.goToExternal()\n",
    "        External.selectCourse(course_id= course.split(\":\")[1])\n",
    "        Internal.goToInternal()\n",
    "    else:\n",
    "        selectCourse(course_id= course)\n",
    "print(\"Finish\")"
   ]
  },
  {
   "cell_type": "code",
   "execution_count": 33,
   "metadata": {
    "ExecuteTime": {
     "end_time": "2020-03-07T08:37:23.546337Z",
     "start_time": "2020-03-07T08:37:23.325927Z"
    },
    "scrolled": true
   },
   "outputs": [],
   "source": [
    "goToInternal()"
   ]
  },
  {
   "cell_type": "code",
   "execution_count": 10,
   "metadata": {
    "ExecuteTime": {
     "end_time": "2020-03-07T08:33:12.934744Z",
     "start_time": "2020-03-07T08:33:12.828910Z"
    }
   },
   "outputs": [],
   "source": [
    "moveTo(900,180)"
   ]
  },
  {
   "cell_type": "code",
   "execution_count": 9,
   "metadata": {
    "ExecuteTime": {
     "end_time": "2020-03-07T08:33:00.810927Z",
     "start_time": "2020-03-07T08:33:00.805969Z"
    }
   },
   "outputs": [
    {
     "data": {
      "text/plain": [
       "Point(x=1084, y=185)"
      ]
     },
     "execution_count": 9,
     "metadata": {},
     "output_type": "execute_result"
    }
   ],
   "source": [
    "pyautogui.position()"
   ]
  },
  {
   "cell_type": "code",
   "execution_count": null,
   "metadata": {},
   "outputs": [],
   "source": []
  }
 ],
 "metadata": {
  "kernelspec": {
   "display_name": "Python 3",
   "language": "python",
   "name": "python3"
  },
  "language_info": {
   "codemirror_mode": {
    "name": "ipython",
    "version": 3
   },
   "file_extension": ".py",
   "mimetype": "text/x-python",
   "name": "python",
   "nbconvert_exporter": "python",
   "pygments_lexer": "ipython3",
   "version": "3.6.8"
  },
  "toc": {
   "base_numbering": 1,
   "nav_menu": {},
   "number_sections": true,
   "sideBar": true,
   "skip_h1_title": false,
   "title_cell": "Table of Contents",
   "title_sidebar": "Contents",
   "toc_cell": false,
   "toc_position": {},
   "toc_section_display": true,
   "toc_window_display": false
  }
 },
 "nbformat": 4,
 "nbformat_minor": 2
}
