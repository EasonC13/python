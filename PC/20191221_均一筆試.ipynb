{
 "cells": [
  {
   "cell_type": "markdown",
   "metadata": {},
   "source": [
    "# 1."
   ]
  },
  {
   "cell_type": "code",
   "execution_count": 23,
   "metadata": {
    "ExecuteTime": {
     "end_time": "2019-12-21T11:12:49.985869Z",
     "start_time": "2019-12-21T11:12:49.978889Z"
    }
   },
   "outputs": [
    {
     "name": "stdout",
     "output_type": "stream",
     "text": [
      "ymedacaiynuj\n",
      "deppilf ssalc moor si tnatropmi\n"
     ]
    }
   ],
   "source": [
    "#1. (A.) 請寫一個程式把裡面的字串反過來。 \n",
    "def inverse(strs):\n",
    "    return strs[::-1]\n",
    "\n",
    "print(inverse(\"junyiacademy\"))\n",
    "#(B.) 請寫一個程式把裡面的字串,每個單字本身做反轉,但是單字的順序不變。\n",
    "def inverse2(strs):\n",
    "    strs = strs.split(\" \")\n",
    "    out = []\n",
    "    for i in strs:\n",
    "        out.append(inverse(i))\n",
    "    return \" \".join(out)\n",
    "print(inverse2(\"flipped class room is important\"))"
   ]
  },
  {
   "cell_type": "markdown",
   "metadata": {},
   "source": [
    "# 2."
   ]
  },
  {
   "cell_type": "code",
   "execution_count": 26,
   "metadata": {
    "ExecuteTime": {
     "end_time": "2019-12-21T11:13:41.332515Z",
     "start_time": "2019-12-21T11:13:40.001874Z"
    }
   },
   "outputs": [
    {
     "name": "stdout",
     "output_type": "stream",
     "text": [
      "請輸入>> 15\n"
     ]
    },
    {
     "data": {
      "text/plain": [
       "9"
      ]
     },
     "execution_count": 26,
     "metadata": {},
     "output_type": "execute_result"
    }
   ],
   "source": [
    "#2\n",
    "def get(inputs):\n",
    "    inputs = int(inputs)\n",
    "    out = []\n",
    "    for i in range(1,inputs+1):\n",
    "        if i%3==0 and i%5==0:\n",
    "            out.append(i)\n",
    "        elif i%5==0:\n",
    "            pass\n",
    "        elif i%3 == 0:\n",
    "            pass\n",
    "        else:\n",
    "            out.append(i)\n",
    "    return len(out)\n",
    "\n",
    "get(input(\"請輸入>> \"))"
   ]
  },
  {
   "cell_type": "markdown",
   "metadata": {},
   "source": [
    "# 3.\n",
    "標示都是錯的，因此可以將每個袋子的可能性降低到兩種<br>\n",
    "因此，標示混和的，一定是鉛筆或原子筆。<br>\n",
    "如果是標示鉛筆的，會是混和或原子筆<br>\n",
    "如果是標示原子筆的，會是混和或鉛筆<br>\n",
    "<br><br>\n",
    "方法：<br>\n",
    "我會挑混和的下手：<br>\n",
    "如果我拿出鉛筆：<br>\n",
    "1. 混和標籤的是鉛筆。<br>\n",
    "2. 原子筆標籤的是混和。<br>\n",
    "3. 鉛筆標籤的是原子筆。<br>\n",
    "<br>\n",
    "如果我拿出原子筆：<br>\n",
    "1. 混和標籤的是原子筆。<br>\n",
    "2. 原子筆標籤的是鉛筆。<br>\n",
    "3. 鉛筆標籤的是混和。<br>\n",
    "\n",
    "因為前提提到，標示都是錯的，每種袋子的可能性只有兩種。<br>\n",
    "標示混和的，一定是鉛筆或原子筆。<br>\n",
    "標示鉛筆的，會是混和或原子筆<br>\n",
    "標示原子筆的，會是混和或鉛筆<br>\n",
    "我以混和標籤抽到鉛筆為例。<br>\n",
    "而現在我知道混和的是鉛筆，則其它就不會是鉛筆。<br>\n",
    "因此：\n",
    "1. 混和的是鉛筆(已知)\n",
    "2. 標示鉛筆的，會是混和或原子筆<br>\n",
    "3. 標示原子筆的，會是混和或~~鉛筆~~(鉛筆在別處)<br>\n",
    "因此原子筆會是混和。<br>\n",
    "接下來：<br>\n",
    "1. 混和的是鉛筆(已知)\n",
    "2. 標示鉛筆的，會是~~混和~~或原子筆(混和在別處)<br>\n",
    "3. 標示原子筆的，會是混和(前一步驟得知)<br>\n",
    "於是可以得到結論：<br>\n",
    "1. 混和的是鉛筆\n",
    "2. 標示鉛筆的，會是原子筆<br>\n",
    "3. 標示原子筆的，會是混和<br>"
   ]
  },
  {
   "cell_type": "markdown",
   "metadata": {},
   "source": [
    "### 4.\n",
    "實際上，並沒有三十元不見。<br>\n",
    "三個人實際的出資就是 300-30 = 270元。<br>\n",
    "題目的算式：三個人出資 + 服務生多收的錢 = 870，並不成立。<br>\n",
    "題目的解題者的算式代表著：<br>\n",
    "((錯誤的)商品優惠價格) = 三個人出的錢 + 服務生出的錢<br>\n",
    "此算式要成立，商品必須要是870元，而且三位顧客出810元，服務生幫忙墊了60元，也就是：<br>\n",
    "870 = 810 + 60<br><br>\n",
    "但服務生並沒有幫忙出60元，而是暗扛走60元，因此算式中的加號要改為減號：<br>\n",
    "商品優惠價格 = 810 - 60 = 750<br>\n",
    "<br>\n",
    "換句話說，服務生案扛三個人六十元，意思是服務生多收了三個人六十元，因此三個人出資-服務生多收的錢 = 實際特價商品價格：<br>\n",
    "270*3 - 60 =810 - 60 = 750元<br>\n",
    "\n",
    "或者說，商品特惠價格+服務生暗扛的錢 = 實際三個人的出資<br>\n",
    "750+60 = 270*3 = 810<br>\n"
   ]
  },
  {
   "cell_type": "code",
   "execution_count": null,
   "metadata": {},
   "outputs": [],
   "source": []
  }
 ],
 "metadata": {
  "kernelspec": {
   "display_name": "Python 3",
   "language": "python",
   "name": "python3"
  },
  "language_info": {
   "codemirror_mode": {
    "name": "ipython",
    "version": 3
   },
   "file_extension": ".py",
   "mimetype": "text/x-python",
   "name": "python",
   "nbconvert_exporter": "python",
   "pygments_lexer": "ipython3",
   "version": "3.6.8"
  },
  "toc": {
   "base_numbering": 1,
   "nav_menu": {},
   "number_sections": false,
   "sideBar": true,
   "skip_h1_title": false,
   "title_cell": "Table of Contents",
   "title_sidebar": "Contents",
   "toc_cell": false,
   "toc_position": {},
   "toc_section_display": true,
   "toc_window_display": true
  }
 },
 "nbformat": 4,
 "nbformat_minor": 2
}
