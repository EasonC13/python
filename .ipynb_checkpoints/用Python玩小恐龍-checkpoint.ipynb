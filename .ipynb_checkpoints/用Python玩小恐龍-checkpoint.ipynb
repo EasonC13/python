{
 "cells": [
  {
   "cell_type": "code",
   "execution_count": 34,
   "metadata": {
    "ExecuteTime": {
     "end_time": "2019-12-09T11:44:22.861105Z",
     "start_time": "2019-12-09T11:44:10.573994Z"
    }
   },
   "outputs": [
    {
     "ename": "KeyboardInterrupt",
     "evalue": "",
     "output_type": "error",
     "traceback": [
      "\u001b[1;31m---------------------------------------------------------------------------\u001b[0m",
      "\u001b[1;31mKeyboardInterrupt\u001b[0m                         Traceback (most recent call last)",
      "\u001b[1;32m<ipython-input-34-56282a063a35>\u001b[0m in \u001b[0;36m<module>\u001b[1;34m\u001b[0m\n\u001b[0;32m     82\u001b[0m \u001b[0mtimes\u001b[0m \u001b[1;33m=\u001b[0m \u001b[0mtime\u001b[0m\u001b[1;33m.\u001b[0m\u001b[0mtime\u001b[0m\u001b[1;33m(\u001b[0m\u001b[1;33m)\u001b[0m\u001b[1;33m\u001b[0m\u001b[1;33m\u001b[0m\u001b[0m\n\u001b[0;32m     83\u001b[0m \u001b[1;32mwhile\u001b[0m \u001b[1;33m(\u001b[0m\u001b[1;33m(\u001b[0m\u001b[0mtime\u001b[0m\u001b[1;33m.\u001b[0m\u001b[0mtime\u001b[0m\u001b[1;33m(\u001b[0m\u001b[1;33m)\u001b[0m \u001b[1;33m-\u001b[0m \u001b[0mtimes\u001b[0m\u001b[1;33m)\u001b[0m\u001b[1;33m<\u001b[0m\u001b[1;36m27\u001b[0m\u001b[1;33m)\u001b[0m\u001b[1;33m:\u001b[0m\u001b[1;33m\u001b[0m\u001b[1;33m\u001b[0m\u001b[0m\n\u001b[1;32m---> 84\u001b[1;33m     \u001b[0ma\u001b[0m \u001b[1;33m=\u001b[0m \u001b[0mdetect_len_short\u001b[0m\u001b[1;33m(\u001b[0m\u001b[1;33m)\u001b[0m\u001b[1;33m\u001b[0m\u001b[1;33m\u001b[0m\u001b[0m\n\u001b[0m\u001b[0;32m     85\u001b[0m     \u001b[1;32mif\u001b[0m \u001b[0ma\u001b[0m \u001b[1;33m==\u001b[0m \u001b[1;36m1\u001b[0m\u001b[1;33m:\u001b[0m\u001b[1;33m\u001b[0m\u001b[1;33m\u001b[0m\u001b[0m\n\u001b[0;32m     86\u001b[0m         \u001b[0mpyautogui\u001b[0m\u001b[1;33m.\u001b[0m\u001b[0mpress\u001b[0m\u001b[1;33m(\u001b[0m\u001b[1;34m'up'\u001b[0m\u001b[1;33m)\u001b[0m\u001b[1;33m\u001b[0m\u001b[1;33m\u001b[0m\u001b[0m\n",
      "\u001b[1;32m<ipython-input-34-56282a063a35>\u001b[0m in \u001b[0;36mdetect_len_short\u001b[1;34m()\u001b[0m\n\u001b[0;32m      6\u001b[0m \u001b[1;33m\u001b[0m\u001b[0m\n\u001b[0;32m      7\u001b[0m \u001b[1;32mdef\u001b[0m \u001b[0mdetect_len_short\u001b[0m\u001b[1;33m(\u001b[0m\u001b[1;33m)\u001b[0m\u001b[1;33m:\u001b[0m\u001b[1;33m\u001b[0m\u001b[1;33m\u001b[0m\u001b[0m\n\u001b[1;32m----> 8\u001b[1;33m     \u001b[0ma\u001b[0m \u001b[1;33m=\u001b[0m \u001b[0mImageGrab\u001b[0m\u001b[1;33m.\u001b[0m\u001b[0mgrab\u001b[0m\u001b[1;33m(\u001b[0m\u001b[1;33m)\u001b[0m\u001b[1;33m\u001b[0m\u001b[1;33m\u001b[0m\u001b[0m\n\u001b[0m\u001b[0;32m      9\u001b[0m     \u001b[0marea\u001b[0m \u001b[1;33m=\u001b[0m \u001b[1;33m(\u001b[0m\u001b[1;36m250\u001b[0m\u001b[1;33m,\u001b[0m \u001b[1;36m670\u001b[0m\u001b[1;33m,\u001b[0m \u001b[1;36m600\u001b[0m\u001b[1;33m,\u001b[0m \u001b[1;36m680\u001b[0m\u001b[1;33m)\u001b[0m\u001b[1;33m\u001b[0m\u001b[1;33m\u001b[0m\u001b[0m\n\u001b[0;32m     10\u001b[0m     \u001b[1;31m#print(np.unique(np.array(a.crop(area))))\u001b[0m\u001b[1;33m\u001b[0m\u001b[1;33m\u001b[0m\u001b[1;33m\u001b[0m\u001b[0m\n",
      "\u001b[1;32m~\\Anaconda3\\lib\\site-packages\\PIL\\ImageGrab.py\u001b[0m in \u001b[0;36mgrab\u001b[1;34m(bbox, include_layered_windows)\u001b[0m\n\u001b[0;32m     48\u001b[0m             \u001b[1;34m\"BGR\"\u001b[0m\u001b[1;33m,\u001b[0m\u001b[1;33m\u001b[0m\u001b[1;33m\u001b[0m\u001b[0m\n\u001b[0;32m     49\u001b[0m             \u001b[1;33m(\u001b[0m\u001b[0msize\u001b[0m\u001b[1;33m[\u001b[0m\u001b[1;36m0\u001b[0m\u001b[1;33m]\u001b[0m \u001b[1;33m*\u001b[0m \u001b[1;36m3\u001b[0m \u001b[1;33m+\u001b[0m \u001b[1;36m3\u001b[0m\u001b[1;33m)\u001b[0m \u001b[1;33m&\u001b[0m \u001b[1;33m-\u001b[0m\u001b[1;36m4\u001b[0m\u001b[1;33m,\u001b[0m\u001b[1;33m\u001b[0m\u001b[1;33m\u001b[0m\u001b[0m\n\u001b[1;32m---> 50\u001b[1;33m             \u001b[1;33m-\u001b[0m\u001b[1;36m1\u001b[0m\u001b[1;33m,\u001b[0m\u001b[1;33m\u001b[0m\u001b[1;33m\u001b[0m\u001b[0m\n\u001b[0m\u001b[0;32m     51\u001b[0m         )\n\u001b[0;32m     52\u001b[0m     \u001b[1;32mif\u001b[0m \u001b[0mbbox\u001b[0m\u001b[1;33m:\u001b[0m\u001b[1;33m\u001b[0m\u001b[1;33m\u001b[0m\u001b[0m\n",
      "\u001b[1;32m~\\Anaconda3\\lib\\site-packages\\PIL\\Image.py\u001b[0m in \u001b[0;36mfrombytes\u001b[1;34m(mode, size, data, decoder_name, *args)\u001b[0m\n\u001b[0;32m   2543\u001b[0m         \u001b[0margs\u001b[0m \u001b[1;33m=\u001b[0m \u001b[0mmode\u001b[0m\u001b[1;33m\u001b[0m\u001b[1;33m\u001b[0m\u001b[0m\n\u001b[0;32m   2544\u001b[0m \u001b[1;33m\u001b[0m\u001b[0m\n\u001b[1;32m-> 2545\u001b[1;33m     \u001b[0mim\u001b[0m \u001b[1;33m=\u001b[0m \u001b[0mnew\u001b[0m\u001b[1;33m(\u001b[0m\u001b[0mmode\u001b[0m\u001b[1;33m,\u001b[0m \u001b[0msize\u001b[0m\u001b[1;33m)\u001b[0m\u001b[1;33m\u001b[0m\u001b[1;33m\u001b[0m\u001b[0m\n\u001b[0m\u001b[0;32m   2546\u001b[0m     \u001b[0mim\u001b[0m\u001b[1;33m.\u001b[0m\u001b[0mfrombytes\u001b[0m\u001b[1;33m(\u001b[0m\u001b[0mdata\u001b[0m\u001b[1;33m,\u001b[0m \u001b[0mdecoder_name\u001b[0m\u001b[1;33m,\u001b[0m \u001b[0margs\u001b[0m\u001b[1;33m)\u001b[0m\u001b[1;33m\u001b[0m\u001b[1;33m\u001b[0m\u001b[0m\n\u001b[0;32m   2547\u001b[0m     \u001b[1;32mreturn\u001b[0m \u001b[0mim\u001b[0m\u001b[1;33m\u001b[0m\u001b[1;33m\u001b[0m\u001b[0m\n",
      "\u001b[1;32m~\\Anaconda3\\lib\\site-packages\\PIL\\Image.py\u001b[0m in \u001b[0;36mnew\u001b[1;34m(mode, size, color)\u001b[0m\n\u001b[0;32m   2507\u001b[0m         \u001b[0mim\u001b[0m\u001b[1;33m.\u001b[0m\u001b[0mpalette\u001b[0m \u001b[1;33m=\u001b[0m \u001b[0mImagePalette\u001b[0m\u001b[1;33m.\u001b[0m\u001b[0mImagePalette\u001b[0m\u001b[1;33m(\u001b[0m\u001b[1;33m)\u001b[0m\u001b[1;33m\u001b[0m\u001b[1;33m\u001b[0m\u001b[0m\n\u001b[0;32m   2508\u001b[0m         \u001b[0mcolor\u001b[0m \u001b[1;33m=\u001b[0m \u001b[0mim\u001b[0m\u001b[1;33m.\u001b[0m\u001b[0mpalette\u001b[0m\u001b[1;33m.\u001b[0m\u001b[0mgetcolor\u001b[0m\u001b[1;33m(\u001b[0m\u001b[0mcolor\u001b[0m\u001b[1;33m)\u001b[0m\u001b[1;33m\u001b[0m\u001b[1;33m\u001b[0m\u001b[0m\n\u001b[1;32m-> 2509\u001b[1;33m     \u001b[1;32mreturn\u001b[0m \u001b[0mim\u001b[0m\u001b[1;33m.\u001b[0m\u001b[0m_new\u001b[0m\u001b[1;33m(\u001b[0m\u001b[0mcore\u001b[0m\u001b[1;33m.\u001b[0m\u001b[0mfill\u001b[0m\u001b[1;33m(\u001b[0m\u001b[0mmode\u001b[0m\u001b[1;33m,\u001b[0m \u001b[0msize\u001b[0m\u001b[1;33m,\u001b[0m \u001b[0mcolor\u001b[0m\u001b[1;33m)\u001b[0m\u001b[1;33m)\u001b[0m\u001b[1;33m\u001b[0m\u001b[1;33m\u001b[0m\u001b[0m\n\u001b[0m\u001b[0;32m   2510\u001b[0m \u001b[1;33m\u001b[0m\u001b[0m\n\u001b[0;32m   2511\u001b[0m \u001b[1;33m\u001b[0m\u001b[0m\n",
      "\u001b[1;31mKeyboardInterrupt\u001b[0m: "
     ]
    }
   ],
   "source": [
    "import pyautogui\n",
    "import time\n",
    "from PIL import ImageGrab, Image\n",
    "import numpy as np\n",
    "k = 1\n",
    "\n",
    "def detect_len_short():\n",
    "    a = ImageGrab.grab()\n",
    "    area = (250, 670, 600, 680)\n",
    "    #print(np.unique(np.array(a.crop(area))))\n",
    "    if len(np.unique(np.array(a.crop(area))))> k:\n",
    "        return 1\n",
    "    return 0\n",
    "\n",
    "def detect_len():\n",
    "    a = ImageGrab.grab()\n",
    "    area = (250, 670, 650, 680)\n",
    "    area2 = (250, 550, 650, 580)\n",
    "    \n",
    "    if len(np.unique(np.array(a.crop(area))))> k:\n",
    "        return 1\n",
    "    elif len(np.unique(np.array(a.crop(area2)))) > k:\n",
    "        return 2\n",
    "    return 0\n",
    "\n",
    "def detect_len_ext():\n",
    "    a = ImageGrab.grab()\n",
    "    area = (250, 670, 800, 680)\n",
    "    area2 = (250, 550, 800, 580)\n",
    "    \n",
    "    if len(np.unique(np.array(a.crop(area))))> k:\n",
    "        return 1\n",
    "    elif len(np.unique(np.array(a.crop(area2)))) > k:\n",
    "        return 2\n",
    "    return 0\n",
    "\n",
    "def detect_len_ext2():\n",
    "    a = ImageGrab.grab()\n",
    "    area = (250, 670, 850, 680)\n",
    "    area2 = (250, 550, 850, 580)\n",
    "    \n",
    "    if len(np.unique(np.array(a.crop(area))))> k:\n",
    "        return 1\n",
    "    elif len(np.unique(np.array(a.crop(area2)))) > k:\n",
    "        return 2\n",
    "    return 0\n",
    "\n",
    "def detect_len_ext3():\n",
    "    a = ImageGrab.grab()\n",
    "    area = (250, 670, 950, 680)\n",
    "    area2 = (250, 550, 950, 580)\n",
    "    \n",
    "    if len(np.unique(np.array(a.crop(area))))> k:\n",
    "        return 1\n",
    "    elif len(np.unique(np.array(a.crop(area2)))) > k:\n",
    "        return 2\n",
    "    return 0\n",
    "\n",
    "def detect():\n",
    "    a = ImageGrab.grab()\n",
    "    area = (250, 670, 650, 680)\n",
    "    area2 = (250, 550, 650, 580)\n",
    "    if (83 in np.array(a.crop(area))) or (172 in np.array(a.crop(area))):\n",
    "        return 1\n",
    "    elif (83 in np.array(a.crop(area2))) or (172 in np.array(a.crop(area2))):\n",
    "        return 2\n",
    "    return 0\n",
    "\n",
    "def detect_ground():\n",
    "    a = ImageGrab.grab()\n",
    "    area = (250, 670, 650, 680)\n",
    "    return (83 in np.array(a.crop(area))) or (172 in np.array(a.crop(area)))\n",
    "\n",
    "def detect_bird():\n",
    "    a = ImageGrab.grab()\n",
    "    area = (250, 550, 750, 600)\n",
    "    cropped_img = a.crop(area)\n",
    "    area = (250, 670, 750, 680)\n",
    "    return ((83 in np.array(cropped_img)) and (83 not in np.array(a.crop(area)))) or ((172 in np.array(cropped_img)) and (172 not in np.array(a.crop(area))))\n",
    "\n",
    "#time.sleep(2)\n",
    "times = time.time()\n",
    "while ((time.time() - times)<27):\n",
    "    a = detect_len_short()\n",
    "    if a == 1:\n",
    "        pyautogui.press('up')\n",
    "    elif a == 2:\n",
    "        pyautogui.keyDown('down')\n",
    "        time.sleep(0.5)\n",
    "        pyautogui.keyUp('down')\n",
    "\n",
    "print(\"Go to pro!\")\n",
    "print(time.time() - times)\n",
    "while(time.time() - times < 60):\n",
    "    mod = detect_len()\n",
    "    if mod == 1:\n",
    "        pyautogui.press('up')\n",
    "    elif mod == 2:\n",
    "        pyautogui.keyDown('down')\n",
    "        time.sleep(0.3)\n",
    "        pyautogui.keyUp('down')\n",
    "\n",
    "        \n",
    "print(\"Time to play harder.\")\n",
    "\n",
    "while(time.time() - times < 120):\n",
    "    mod = detect_len_ext()\n",
    "    if mod == 1:\n",
    "        pyautogui.press('up')\n",
    "        time.sleep(0.1)\n",
    "        pyautogui.press('down')\n",
    "    elif mod == 2:\n",
    "        pyautogui.keyDown('down')\n",
    "        time.sleep(0.3)\n",
    "        pyautogui.keyUp('down')\n",
    "        \n",
    "print(\"Exploring!\")\n",
    "\n",
    "while(time.time() - times < 240):\n",
    "    mod = detect_len_ext2()\n",
    "    if mod == 1:\n",
    "        pyautogui.press('up')\n",
    "        time.sleep(0.08)\n",
    "        pyautogui.press('down')\n",
    "    elif mod == 2:\n",
    "        pyautogui.keyDown('down')\n",
    "        time.sleep(0.20)\n",
    "        pyautogui.keyUp('down')\n",
    "\n",
    "print(\"Ever Lasting!!\")\n",
    "\n",
    "while(time.time() - times < 340):\n",
    "    mod = detect_len_ext2()\n",
    "    if mod == 1:\n",
    "        pyautogui.press('up')\n",
    "        time.sleep(0.08)\n",
    "        pyautogui.press('down')\n",
    "    elif mod == 2:\n",
    "        pyautogui.keyDown('down')\n",
    "        time.sleep(0.2)\n",
    "        pyautogui.keyUp('down')\n",
    "    \n",
    "print(\"Extreme!!\")\n",
    "\n",
    "while(1):\n",
    "    mod = detect_len_ext3()\n",
    "    if mod == 1:\n",
    "        pyautogui.press('up')\n",
    "        time.sleep(0.08)\n",
    "        pyautogui.press('down')\n",
    "    elif mod == 2:\n",
    "        pyautogui.keyDown('down')\n",
    "        time.sleep(0.20)\n",
    "        pyautogui.keyUp('down')"
   ]
  },
  {
   "cell_type": "code",
   "execution_count": null,
   "metadata": {
    "ExecuteTime": {
     "end_time": "2019-12-09T03:35:44.120625Z",
     "start_time": "2019-12-09T03:35:43.438Z"
    }
   },
   "outputs": [],
   "source": [
    "time.time() - times"
   ]
  },
  {
   "cell_type": "code",
   "execution_count": null,
   "metadata": {},
   "outputs": [],
   "source": []
  },
  {
   "cell_type": "code",
   "execution_count": null,
   "metadata": {},
   "outputs": [],
   "source": []
  },
  {
   "cell_type": "code",
   "execution_count": null,
   "metadata": {},
   "outputs": [],
   "source": []
  },
  {
   "cell_type": "code",
   "execution_count": null,
   "metadata": {},
   "outputs": [],
   "source": []
  },
  {
   "cell_type": "code",
   "execution_count": null,
   "metadata": {},
   "outputs": [],
   "source": []
  },
  {
   "cell_type": "code",
   "execution_count": null,
   "metadata": {},
   "outputs": [],
   "source": []
  },
  {
   "cell_type": "code",
   "execution_count": null,
   "metadata": {},
   "outputs": [],
   "source": []
  },
  {
   "cell_type": "code",
   "execution_count": null,
   "metadata": {},
   "outputs": [],
   "source": []
  },
  {
   "cell_type": "code",
   "execution_count": 13,
   "metadata": {
    "ExecuteTime": {
     "end_time": "2019-12-09T03:10:46.038185Z",
     "start_time": "2019-12-09T03:10:39.210403Z"
    }
   },
   "outputs": [
    {
     "name": "stdout",
     "output_type": "stream",
     "text": [
      "Time to play harder.\n",
      "Exploring!\n"
     ]
    },
    {
     "ename": "KeyboardInterrupt",
     "evalue": "",
     "output_type": "error",
     "traceback": [
      "\u001b[1;31m---------------------------------------------------------------------------\u001b[0m",
      "\u001b[1;31mKeyboardInterrupt\u001b[0m                         Traceback (most recent call last)",
      "\u001b[1;32m<ipython-input-13-b1564ce3a692>\u001b[0m in \u001b[0;36m<module>\u001b[1;34m\u001b[0m\n\u001b[0;32m     93\u001b[0m \u001b[1;33m\u001b[0m\u001b[0m\n\u001b[0;32m     94\u001b[0m \u001b[1;32mwhile\u001b[0m\u001b[1;33m(\u001b[0m\u001b[0mtime\u001b[0m\u001b[1;33m.\u001b[0m\u001b[0mtime\u001b[0m\u001b[1;33m(\u001b[0m\u001b[1;33m)\u001b[0m \u001b[1;33m-\u001b[0m \u001b[0mtimes\u001b[0m \u001b[1;33m<\u001b[0m \u001b[1;36m240\u001b[0m\u001b[1;33m)\u001b[0m\u001b[1;33m:\u001b[0m\u001b[1;33m\u001b[0m\u001b[1;33m\u001b[0m\u001b[0m\n\u001b[1;32m---> 95\u001b[1;33m     \u001b[0mmod\u001b[0m \u001b[1;33m=\u001b[0m \u001b[0mdetect_len_ext\u001b[0m\u001b[1;33m(\u001b[0m\u001b[1;33m)\u001b[0m\u001b[1;33m\u001b[0m\u001b[1;33m\u001b[0m\u001b[0m\n\u001b[0m\u001b[0;32m     96\u001b[0m     \u001b[1;32mif\u001b[0m \u001b[0mmod\u001b[0m \u001b[1;33m==\u001b[0m \u001b[1;36m1\u001b[0m\u001b[1;33m:\u001b[0m\u001b[1;33m\u001b[0m\u001b[1;33m\u001b[0m\u001b[0m\n\u001b[0;32m     97\u001b[0m         \u001b[0mpyautogui\u001b[0m\u001b[1;33m.\u001b[0m\u001b[0mpress\u001b[0m\u001b[1;33m(\u001b[0m\u001b[1;34m'up'\u001b[0m\u001b[1;33m)\u001b[0m\u001b[1;33m\u001b[0m\u001b[1;33m\u001b[0m\u001b[0m\n",
      "\u001b[1;32m<ipython-input-13-b1564ce3a692>\u001b[0m in \u001b[0;36mdetect_len_ext\u001b[1;34m()\u001b[0m\n\u001b[0;32m     15\u001b[0m \u001b[1;33m\u001b[0m\u001b[0m\n\u001b[0;32m     16\u001b[0m \u001b[1;32mdef\u001b[0m \u001b[0mdetect_len_ext\u001b[0m\u001b[1;33m(\u001b[0m\u001b[1;33m)\u001b[0m\u001b[1;33m:\u001b[0m\u001b[1;33m\u001b[0m\u001b[1;33m\u001b[0m\u001b[0m\n\u001b[1;32m---> 17\u001b[1;33m     \u001b[0ma\u001b[0m \u001b[1;33m=\u001b[0m \u001b[0mImageGrab\u001b[0m\u001b[1;33m.\u001b[0m\u001b[0mgrab\u001b[0m\u001b[1;33m(\u001b[0m\u001b[1;33m)\u001b[0m\u001b[1;33m\u001b[0m\u001b[1;33m\u001b[0m\u001b[0m\n\u001b[0m\u001b[0;32m     18\u001b[0m     \u001b[0marea\u001b[0m \u001b[1;33m=\u001b[0m \u001b[1;33m(\u001b[0m\u001b[1;36m250\u001b[0m\u001b[1;33m,\u001b[0m \u001b[1;36m670\u001b[0m\u001b[1;33m,\u001b[0m \u001b[1;36m750\u001b[0m\u001b[1;33m,\u001b[0m \u001b[1;36m680\u001b[0m\u001b[1;33m)\u001b[0m\u001b[1;33m\u001b[0m\u001b[1;33m\u001b[0m\u001b[0m\n\u001b[0;32m     19\u001b[0m     \u001b[0marea2\u001b[0m \u001b[1;33m=\u001b[0m \u001b[1;33m(\u001b[0m\u001b[1;36m250\u001b[0m\u001b[1;33m,\u001b[0m \u001b[1;36m550\u001b[0m\u001b[1;33m,\u001b[0m \u001b[1;36m750\u001b[0m\u001b[1;33m,\u001b[0m \u001b[1;36m580\u001b[0m\u001b[1;33m)\u001b[0m\u001b[1;33m\u001b[0m\u001b[1;33m\u001b[0m\u001b[0m\n",
      "\u001b[1;32m~\\Anaconda3\\lib\\site-packages\\PIL\\ImageGrab.py\u001b[0m in \u001b[0;36mgrab\u001b[1;34m(bbox, include_layered_windows)\u001b[0m\n\u001b[0;32m     39\u001b[0m         \u001b[0mos\u001b[0m\u001b[1;33m.\u001b[0m\u001b[0munlink\u001b[0m\u001b[1;33m(\u001b[0m\u001b[0mfilepath\u001b[0m\u001b[1;33m)\u001b[0m\u001b[1;33m\u001b[0m\u001b[1;33m\u001b[0m\u001b[0m\n\u001b[0;32m     40\u001b[0m     \u001b[1;32melse\u001b[0m\u001b[1;33m:\u001b[0m\u001b[1;33m\u001b[0m\u001b[1;33m\u001b[0m\u001b[0m\n\u001b[1;32m---> 41\u001b[1;33m         \u001b[0msize\u001b[0m\u001b[1;33m,\u001b[0m \u001b[0mdata\u001b[0m \u001b[1;33m=\u001b[0m \u001b[0mgrabber\u001b[0m\u001b[1;33m(\u001b[0m\u001b[0minclude_layered_windows\u001b[0m\u001b[1;33m)\u001b[0m\u001b[1;33m\u001b[0m\u001b[1;33m\u001b[0m\u001b[0m\n\u001b[0m\u001b[0;32m     42\u001b[0m         im = Image.frombytes(\n\u001b[0;32m     43\u001b[0m             \u001b[1;34m\"RGB\"\u001b[0m\u001b[1;33m,\u001b[0m\u001b[1;33m\u001b[0m\u001b[1;33m\u001b[0m\u001b[0m\n",
      "\u001b[1;31mKeyboardInterrupt\u001b[0m: "
     ]
    }
   ],
   "source": [
    "import pyautogui\n",
    "import time\n",
    "from PIL import ImageGrab, Image\n",
    "\n",
    "def detect_len():\n",
    "    a = ImageGrab.grab()\n",
    "    area = (250, 670, 700, 680)\n",
    "    area2 = (250, 550, 700, 580)\n",
    "    \n",
    "    if len(np.unique(np.array(a.crop(area))))> 3:\n",
    "        return 1\n",
    "    elif len(np.unique(np.array(a.crop(area2)))) > 3:\n",
    "        return 2\n",
    "    return 0\n",
    "\n",
    "def detect_len_ext():\n",
    "    a = ImageGrab.grab()\n",
    "    area = (250, 670, 750, 680)\n",
    "    area2 = (250, 550, 750, 580)\n",
    "    \n",
    "    if len(np.unique(np.array(a.crop(area))))> 3:\n",
    "        return 1\n",
    "    elif len(np.unique(np.array(a.crop(area2)))) > 3:\n",
    "        return 2\n",
    "    return 0\n",
    "\n",
    "def detect_len_ext2():\n",
    "    a = ImageGrab.grab()\n",
    "    area = (250, 670, 850, 680)\n",
    "    area2 = (250, 550, 850, 580)\n",
    "    \n",
    "    if len(np.unique(np.array(a.crop(area))))> 3:\n",
    "        return 1\n",
    "    elif len(np.unique(np.array(a.crop(area2)))) > 3:\n",
    "        return 2\n",
    "    return 0\n",
    "\n",
    "def detect():\n",
    "    a = ImageGrab.grab()\n",
    "    area = (250, 670, 650, 680)\n",
    "    area2 = (250, 550, 650, 580)\n",
    "    if (83 in np.array(a.crop(area))) or (172 in np.array(a.crop(area))):\n",
    "        return 1\n",
    "    elif (83 in np.array(a.crop(area2))) or (172 in np.array(a.crop(area2))):\n",
    "        return 2\n",
    "    return 0\n",
    "\n",
    "def detect_ground():\n",
    "    a = ImageGrab.grab()\n",
    "    area = (250, 670, 650, 680)\n",
    "    return (83 in np.array(a.crop(area))) or (172 in np.array(a.crop(area)))\n",
    "\n",
    "def detect_bird():\n",
    "    a = ImageGrab.grab()\n",
    "    area = (250, 550, 750, 600)\n",
    "    cropped_img = a.crop(area)\n",
    "    area = (250, 670, 750, 680)\n",
    "    return ((83 in np.array(cropped_img)) and (83 not in np.array(a.crop(area)))) or ((172 in np.array(cropped_img)) and (172 not in np.array(a.crop(area))))\n",
    "\n",
    "\"\"\"#time.sleep(2)\n",
    "times = time.time()\n",
    "while ((time.time() - times)<27):\n",
    "    if detect_ground():\n",
    "        time.sleep(0.1)\n",
    "        pyautogui.press('up')\n",
    "\n",
    "print(\"Go to pro!\")\n",
    "\"\"\"\n",
    "while(time.time() - times < 60):\n",
    "    mod = detect_len()\n",
    "    if mod == 1:\n",
    "        pyautogui.press('up')\n",
    "    elif mod == 2:\n",
    "        pyautogui.keyDown('down')\n",
    "        time.sleep(0.3)\n",
    "        pyautogui.keyUp('down')\n",
    "\n",
    "        \n",
    "print(\"Time to play harder.\")\n",
    "\n",
    "while(time.time() - times < 100):\n",
    "    mod = detect_len_ext()\n",
    "    if mod == 1:\n",
    "        pyautogui.press('up')\n",
    "        time.sleep(0.1)\n",
    "        pyautogui.press('down')\n",
    "    elif mod == 2:\n",
    "        pyautogui.keyDown('down')\n",
    "        time.sleep(0.3)\n",
    "        pyautogui.keyUp('down')\n",
    "        \n",
    "print(\"Exploring!\")\n",
    "\n",
    "while(time.time() - times < 240):\n",
    "    mod = detect_len_ext()\n",
    "    if mod == 1:\n",
    "        pyautogui.press('up')\n",
    "        time.sleep(0.05)\n",
    "        pyautogui.press('down')\n",
    "    elif mod == 2:\n",
    "        pyautogui.keyDown('down')\n",
    "        time.sleep(0.15)\n",
    "        pyautogui.keyUp('down')\n",
    "\n",
    "print(\"Ever Lasting\")\n",
    "\n",
    "while(1):\n",
    "    mod = detect_len_ext2()\n",
    "    if mod == 1:\n",
    "        pyautogui.press('up')\n",
    "        time.sleep(0.05)\n",
    "        pyautogui.press('down')\n",
    "    elif mod == 2:\n",
    "        pyautogui.keyDown('down')\n",
    "        time.sleep(0.15)\n",
    "        pyautogui.keyUp('down')\n",
    "        \n",
    "        "
   ]
  },
  {
   "cell_type": "code",
   "execution_count": 303,
   "metadata": {
    "ExecuteTime": {
     "end_time": "2019-11-22T09:32:03.979161Z",
     "start_time": "2019-11-22T09:32:03.898379Z"
    }
   },
   "outputs": [
    {
     "data": {
      "text/plain": [
       "0"
      ]
     },
     "execution_count": 303,
     "metadata": {},
     "output_type": "execute_result"
    }
   ],
   "source": [
    "detect_len_short()"
   ]
  },
  {
   "cell_type": "code",
   "execution_count": 3,
   "metadata": {
    "ExecuteTime": {
     "end_time": "2019-11-04T10:12:13.977358Z",
     "start_time": "2019-11-04T10:11:30.499252Z"
    }
   },
   "outputs": [
    {
     "ename": "KeyboardInterrupt",
     "evalue": "",
     "output_type": "error",
     "traceback": [
      "\u001b[1;31m---------------------------------------------------------------------------\u001b[0m",
      "\u001b[1;31mKeyboardInterrupt\u001b[0m                         Traceback (most recent call last)",
      "\u001b[1;32m<ipython-input-3-459065345686>\u001b[0m in \u001b[0;36m<module>\u001b[1;34m\u001b[0m\n\u001b[0;32m      6\u001b[0m     \u001b[1;32mif\u001b[0m \u001b[0mpyautogui\u001b[0m\u001b[1;33m.\u001b[0m\u001b[0mpixel\u001b[0m\u001b[1;33m(\u001b[0m\u001b[1;36m350\u001b[0m\u001b[1;33m,\u001b[0m \u001b[1;36m647\u001b[0m\u001b[1;33m)\u001b[0m\u001b[1;33m[\u001b[0m\u001b[1;36m0\u001b[0m\u001b[1;33m]\u001b[0m \u001b[1;33m!=\u001b[0m \u001b[1;36m255\u001b[0m\u001b[1;33m:\u001b[0m\u001b[1;33m\u001b[0m\u001b[1;33m\u001b[0m\u001b[0m\n\u001b[0;32m      7\u001b[0m         \u001b[0mpyautogui\u001b[0m\u001b[1;33m.\u001b[0m\u001b[0mpress\u001b[0m\u001b[1;33m(\u001b[0m\u001b[1;34m'up'\u001b[0m\u001b[1;33m)\u001b[0m\u001b[1;33m\u001b[0m\u001b[1;33m\u001b[0m\u001b[0m\n\u001b[1;32m----> 8\u001b[1;33m     \u001b[1;32melif\u001b[0m \u001b[0mpyautogui\u001b[0m\u001b[1;33m.\u001b[0m\u001b[0mpixel\u001b[0m\u001b[1;33m(\u001b[0m\u001b[1;36m284\u001b[0m\u001b[1;33m,\u001b[0m \u001b[1;36m577\u001b[0m\u001b[1;33m)\u001b[0m\u001b[1;33m[\u001b[0m\u001b[1;36m0\u001b[0m\u001b[1;33m]\u001b[0m \u001b[1;33m!=\u001b[0m \u001b[1;36m255\u001b[0m\u001b[1;33m:\u001b[0m\u001b[1;33m\u001b[0m\u001b[1;33m\u001b[0m\u001b[0m\n\u001b[0m\u001b[0;32m      9\u001b[0m         \u001b[0mpyautogui\u001b[0m\u001b[1;33m.\u001b[0m\u001b[0mpress\u001b[0m\u001b[1;33m(\u001b[0m\u001b[1;34m'down'\u001b[0m\u001b[1;33m)\u001b[0m\u001b[1;33m\u001b[0m\u001b[1;33m\u001b[0m\u001b[0m\n",
      "\u001b[1;32m~\\Anaconda3\\lib\\site-packages\\pyscreeze\\__init__.py\u001b[0m in \u001b[0;36mpixel\u001b[1;34m(x, y)\u001b[0m\n\u001b[0;32m    466\u001b[0m         \u001b[1;31m# On Windows, calling GetDC() and GetPixel() is twice as fast as using our screenshot() function.\u001b[0m\u001b[1;33m\u001b[0m\u001b[1;33m\u001b[0m\u001b[1;33m\u001b[0m\u001b[0m\n\u001b[0;32m    467\u001b[0m         \u001b[1;32mwith\u001b[0m \u001b[0m__win32_openDC\u001b[0m\u001b[1;33m(\u001b[0m\u001b[1;36m0\u001b[0m\u001b[1;33m)\u001b[0m \u001b[1;32mas\u001b[0m \u001b[0mhdc\u001b[0m\u001b[1;33m:\u001b[0m \u001b[1;31m# handle will be released automatically\u001b[0m\u001b[1;33m\u001b[0m\u001b[1;33m\u001b[0m\u001b[0m\n\u001b[1;32m--> 468\u001b[1;33m             \u001b[0mcolor\u001b[0m \u001b[1;33m=\u001b[0m \u001b[0mwindll\u001b[0m\u001b[1;33m.\u001b[0m\u001b[0mgdi32\u001b[0m\u001b[1;33m.\u001b[0m\u001b[0mGetPixel\u001b[0m\u001b[1;33m(\u001b[0m\u001b[0mhdc\u001b[0m\u001b[1;33m,\u001b[0m \u001b[0mx\u001b[0m\u001b[1;33m,\u001b[0m \u001b[0my\u001b[0m\u001b[1;33m)\u001b[0m\u001b[1;33m\u001b[0m\u001b[1;33m\u001b[0m\u001b[0m\n\u001b[0m\u001b[0;32m    469\u001b[0m             \u001b[1;32mif\u001b[0m \u001b[0mcolor\u001b[0m \u001b[1;33m<\u001b[0m \u001b[1;36m0\u001b[0m\u001b[1;33m:\u001b[0m\u001b[1;33m\u001b[0m\u001b[1;33m\u001b[0m\u001b[0m\n\u001b[0;32m    470\u001b[0m                 \u001b[1;32mraise\u001b[0m \u001b[0mWindowsError\u001b[0m\u001b[1;33m(\u001b[0m\u001b[1;34m\"windll.gdi32.GetPixel faild : return {}\"\u001b[0m\u001b[1;33m.\u001b[0m\u001b[0mformat\u001b[0m\u001b[1;33m(\u001b[0m\u001b[0mcolor\u001b[0m\u001b[1;33m)\u001b[0m\u001b[1;33m)\u001b[0m\u001b[1;33m\u001b[0m\u001b[1;33m\u001b[0m\u001b[0m\n",
      "\u001b[1;31mKeyboardInterrupt\u001b[0m: "
     ]
    }
   ],
   "source": [
    "import pyautogui\n",
    "import time\n",
    "\n",
    "time.sleep(2)\n",
    "while(1):\n",
    "    if pyautogui.pixel(350, 647)[0] != 255:\n",
    "        pyautogui.press('up')\n",
    "    elif pyautogui.pixel(284, 577)[0] != 255:\n",
    "        pyautogui.press('down')"
   ]
  },
  {
   "cell_type": "code",
   "execution_count": 11,
   "metadata": {
    "ExecuteTime": {
     "end_time": "2019-11-04T10:14:26.826399Z",
     "start_time": "2019-11-04T10:14:26.490298Z"
    }
   },
   "outputs": [
    {
     "name": "stdout",
     "output_type": "stream",
     "text": [
      "0.3281219005584717\n"
     ]
    }
   ],
   "source": [
    "import time\n",
    "import win32gui, win32ui, win32con, win32api\n",
    "def window_capture(filename):\n",
    "  hwnd = 0 # 視窗的編號，0號表示當前活躍視窗\n",
    "  # 根據視窗控制代碼獲取視窗的裝置上下文DC（Divice Context）\n",
    "  hwndDC = win32gui.GetWindowDC(hwnd)\n",
    "  # 根據視窗的DC獲取mfcDC\n",
    "  mfcDC = win32ui.CreateDCFromHandle(hwndDC)\n",
    "  # mfcDC建立可相容的DC\n",
    "  saveDC = mfcDC.CreateCompatibleDC()\n",
    "  # 建立bigmap準備儲存圖片\n",
    "  saveBitMap = win32ui.CreateBitmap()\n",
    "  # 獲取監控器資訊\n",
    "  MoniterDev = win32api.EnumDisplayMonitors(None, None)\n",
    "  w = MoniterDev[0][2][2]\n",
    "  h = MoniterDev[0][2][3]\n",
    "  # print w,h　　　#圖片大小\n",
    "  # 為bitmap開闢空間\n",
    "  saveBitMap.CreateCompatibleBitmap(mfcDC, w, h)\n",
    "  # 高度saveDC，將截圖儲存到saveBitmap中\n",
    "  saveDC.SelectObject(saveBitMap)\n",
    "  # 擷取從左上角（0，0）長寬為（w，h）的圖片\n",
    "  saveDC.BitBlt((0, 0), (w, h), mfcDC, (0, 0), win32con.SRCCOPY)\n",
    "  return saveDC\n",
    "beg = time.time()\n",
    "for i in range(10):\n",
    "  a = window_capture(\"haha.jpg\")\n",
    "end = time.time()\n",
    "print(end - beg)"
   ]
  },
  {
   "cell_type": "code",
   "execution_count": 3,
   "metadata": {
    "ExecuteTime": {
     "end_time": "2019-11-22T04:34:14.051107Z",
     "start_time": "2019-11-22T04:34:13.600286Z"
    }
   },
   "outputs": [],
   "source": [
    "import matplotlib.pyplot as plt\n",
    "plt.show(a)"
   ]
  },
  {
   "cell_type": "code",
   "execution_count": 1,
   "metadata": {
    "ExecuteTime": {
     "end_time": "2019-11-22T04:34:01.037332Z",
     "start_time": "2019-11-22T04:33:57.412265Z"
    }
   },
   "outputs": [
    {
     "name": "stdout",
     "output_type": "stream",
     "text": [
      "3.255035877227783\n"
     ]
    }
   ],
   "source": [
    "import time\n",
    "import numpy as np\n",
    "from PIL import ImageGrab, Image\n",
    "# 每抓取一次螢幕需要的時間約為1s,如果影象尺寸小一些效率就會高一些\n",
    "beg = time.time()\n",
    "debug = False\n",
    "for i in range(10):\n",
    "  img = ImageGrab.grab(bbox=(250, 161, 1141, 610))\n",
    "  img = np.array(img.getdata(), np.uint8).reshape(img.size[1], img.size[0], 3)\n",
    "end = time.time()\n",
    "print(end - beg)"
   ]
  },
  {
   "cell_type": "code",
   "execution_count": 18,
   "metadata": {
    "ExecuteTime": {
     "end_time": "2019-11-04T10:16:28.076897Z",
     "start_time": "2019-11-04T10:16:28.019471Z"
    }
   },
   "outputs": [],
   "source": [
    "plt.show()"
   ]
  },
  {
   "cell_type": "code",
   "execution_count": 23,
   "metadata": {
    "ExecuteTime": {
     "end_time": "2019-11-04T10:17:24.907316Z",
     "start_time": "2019-11-04T10:17:24.834511Z"
    }
   },
   "outputs": [
    {
     "data": {
      "text/plain": [
       "(1920, 3)"
      ]
     },
     "execution_count": 23,
     "metadata": {},
     "output_type": "execute_result"
    }
   ],
   "source": []
  },
  {
   "cell_type": "code",
   "execution_count": 32,
   "metadata": {
    "ExecuteTime": {
     "end_time": "2019-11-04T10:21:34.620175Z",
     "start_time": "2019-11-04T10:21:31.547540Z"
    }
   },
   "outputs": [],
   "source": [
    "time.sleep(3)\n"
   ]
  },
  {
   "cell_type": "code",
   "execution_count": 246,
   "metadata": {
    "ExecuteTime": {
     "end_time": "2019-11-22T08:35:27.095009Z",
     "start_time": "2019-11-22T08:34:22.411214Z"
    }
   },
   "outputs": [
    {
     "name": "stdout",
     "output_type": "stream",
     "text": [
      "Go to pro!\n",
      "27.138855457305908\n",
      "Cont jump\n",
      "Cont jump\n",
      "Cont jump\n",
      "Cont jump\n",
      "Cont jump\n",
      "Cont jump\n",
      "Cont jump\n",
      "Cont jump\n",
      "Cont jump\n",
      "Cont jump\n",
      "Cont jump\n",
      "Cont jump\n",
      "Cont jump\n",
      "Cont jump\n",
      "Cont jump\n",
      "Cont jump\n",
      "Cont jump\n",
      "Cont jump\n",
      "Cont jump\n",
      "Cont jump\n"
     ]
    },
    {
     "ename": "KeyboardInterrupt",
     "evalue": "",
     "output_type": "error",
     "traceback": [
      "\u001b[1;31m---------------------------------------------------------------------------\u001b[0m",
      "\u001b[1;31mKeyboardInterrupt\u001b[0m                         Traceback (most recent call last)",
      "\u001b[1;32m<ipython-input-246-d4bd247d1bc1>\u001b[0m in \u001b[0;36m<module>\u001b[1;34m\u001b[0m\n\u001b[0;32m     37\u001b[0m \u001b[0mprint\u001b[0m\u001b[1;33m(\u001b[0m\u001b[0mtime\u001b[0m\u001b[1;33m.\u001b[0m\u001b[0mtime\u001b[0m\u001b[1;33m(\u001b[0m\u001b[1;33m)\u001b[0m \u001b[1;33m-\u001b[0m \u001b[0mtimes\u001b[0m\u001b[1;33m)\u001b[0m\u001b[1;33m\u001b[0m\u001b[1;33m\u001b[0m\u001b[0m\n\u001b[0;32m     38\u001b[0m \u001b[1;32mwhile\u001b[0m\u001b[1;33m(\u001b[0m\u001b[1;36m1\u001b[0m\u001b[1;33m)\u001b[0m\u001b[1;33m:\u001b[0m\u001b[1;33m\u001b[0m\u001b[1;33m\u001b[0m\u001b[0m\n\u001b[1;32m---> 39\u001b[1;33m     \u001b[0mmod\u001b[0m \u001b[1;33m=\u001b[0m \u001b[0mdetect\u001b[0m\u001b[1;33m(\u001b[0m\u001b[1;33m)\u001b[0m\u001b[1;33m\u001b[0m\u001b[1;33m\u001b[0m\u001b[0m\n\u001b[0m\u001b[0;32m     40\u001b[0m     \u001b[1;32mif\u001b[0m \u001b[0mmod\u001b[0m \u001b[1;33m==\u001b[0m \u001b[1;36m1\u001b[0m\u001b[1;33m:\u001b[0m\u001b[1;33m\u001b[0m\u001b[1;33m\u001b[0m\u001b[0m\n\u001b[0;32m     41\u001b[0m         \u001b[0mpyautogui\u001b[0m\u001b[1;33m.\u001b[0m\u001b[0mpress\u001b[0m\u001b[1;33m(\u001b[0m\u001b[1;34m'up'\u001b[0m\u001b[1;33m)\u001b[0m\u001b[1;33m\u001b[0m\u001b[1;33m\u001b[0m\u001b[0m\n",
      "\u001b[1;32m<ipython-input-246-d4bd247d1bc1>\u001b[0m in \u001b[0;36mdetect\u001b[1;34m()\u001b[0m\n\u001b[0;32m      5\u001b[0m \u001b[1;33m\u001b[0m\u001b[0m\n\u001b[0;32m      6\u001b[0m \u001b[1;32mdef\u001b[0m \u001b[0mdetect\u001b[0m\u001b[1;33m(\u001b[0m\u001b[1;33m)\u001b[0m\u001b[1;33m:\u001b[0m\u001b[1;33m\u001b[0m\u001b[1;33m\u001b[0m\u001b[0m\n\u001b[1;32m----> 7\u001b[1;33m     \u001b[0ma\u001b[0m \u001b[1;33m=\u001b[0m \u001b[0mImageGrab\u001b[0m\u001b[1;33m.\u001b[0m\u001b[0mgrab\u001b[0m\u001b[1;33m(\u001b[0m\u001b[1;33m)\u001b[0m\u001b[1;33m\u001b[0m\u001b[1;33m\u001b[0m\u001b[0m\n\u001b[0m\u001b[0;32m      8\u001b[0m     \u001b[0marea\u001b[0m \u001b[1;33m=\u001b[0m \u001b[1;33m(\u001b[0m\u001b[1;36m250\u001b[0m\u001b[1;33m,\u001b[0m \u001b[1;36m670\u001b[0m\u001b[1;33m,\u001b[0m \u001b[1;36m650\u001b[0m\u001b[1;33m,\u001b[0m \u001b[1;36m680\u001b[0m\u001b[1;33m)\u001b[0m\u001b[1;33m\u001b[0m\u001b[1;33m\u001b[0m\u001b[0m\n\u001b[0;32m      9\u001b[0m     \u001b[0marea2\u001b[0m \u001b[1;33m=\u001b[0m \u001b[1;33m(\u001b[0m\u001b[1;36m250\u001b[0m\u001b[1;33m,\u001b[0m \u001b[1;36m550\u001b[0m\u001b[1;33m,\u001b[0m \u001b[1;36m650\u001b[0m\u001b[1;33m,\u001b[0m \u001b[1;36m580\u001b[0m\u001b[1;33m)\u001b[0m\u001b[1;33m\u001b[0m\u001b[1;33m\u001b[0m\u001b[0m\n",
      "\u001b[1;32m~\\Anaconda3\\lib\\site-packages\\PIL\\ImageGrab.py\u001b[0m in \u001b[0;36mgrab\u001b[1;34m(bbox, include_layered_windows)\u001b[0m\n\u001b[0;32m     48\u001b[0m             \u001b[1;34m\"BGR\"\u001b[0m\u001b[1;33m,\u001b[0m\u001b[1;33m\u001b[0m\u001b[1;33m\u001b[0m\u001b[0m\n\u001b[0;32m     49\u001b[0m             \u001b[1;33m(\u001b[0m\u001b[0msize\u001b[0m\u001b[1;33m[\u001b[0m\u001b[1;36m0\u001b[0m\u001b[1;33m]\u001b[0m \u001b[1;33m*\u001b[0m \u001b[1;36m3\u001b[0m \u001b[1;33m+\u001b[0m \u001b[1;36m3\u001b[0m\u001b[1;33m)\u001b[0m \u001b[1;33m&\u001b[0m \u001b[1;33m-\u001b[0m\u001b[1;36m4\u001b[0m\u001b[1;33m,\u001b[0m\u001b[1;33m\u001b[0m\u001b[1;33m\u001b[0m\u001b[0m\n\u001b[1;32m---> 50\u001b[1;33m             \u001b[1;33m-\u001b[0m\u001b[1;36m1\u001b[0m\u001b[1;33m,\u001b[0m\u001b[1;33m\u001b[0m\u001b[1;33m\u001b[0m\u001b[0m\n\u001b[0m\u001b[0;32m     51\u001b[0m         )\n\u001b[0;32m     52\u001b[0m     \u001b[1;32mif\u001b[0m \u001b[0mbbox\u001b[0m\u001b[1;33m:\u001b[0m\u001b[1;33m\u001b[0m\u001b[1;33m\u001b[0m\u001b[0m\n",
      "\u001b[1;32m~\\Anaconda3\\lib\\site-packages\\PIL\\Image.py\u001b[0m in \u001b[0;36mfrombytes\u001b[1;34m(mode, size, data, decoder_name, *args)\u001b[0m\n\u001b[0;32m   2543\u001b[0m         \u001b[0margs\u001b[0m \u001b[1;33m=\u001b[0m \u001b[0mmode\u001b[0m\u001b[1;33m\u001b[0m\u001b[1;33m\u001b[0m\u001b[0m\n\u001b[0;32m   2544\u001b[0m \u001b[1;33m\u001b[0m\u001b[0m\n\u001b[1;32m-> 2545\u001b[1;33m     \u001b[0mim\u001b[0m \u001b[1;33m=\u001b[0m \u001b[0mnew\u001b[0m\u001b[1;33m(\u001b[0m\u001b[0mmode\u001b[0m\u001b[1;33m,\u001b[0m \u001b[0msize\u001b[0m\u001b[1;33m)\u001b[0m\u001b[1;33m\u001b[0m\u001b[1;33m\u001b[0m\u001b[0m\n\u001b[0m\u001b[0;32m   2546\u001b[0m     \u001b[0mim\u001b[0m\u001b[1;33m.\u001b[0m\u001b[0mfrombytes\u001b[0m\u001b[1;33m(\u001b[0m\u001b[0mdata\u001b[0m\u001b[1;33m,\u001b[0m \u001b[0mdecoder_name\u001b[0m\u001b[1;33m,\u001b[0m \u001b[0margs\u001b[0m\u001b[1;33m)\u001b[0m\u001b[1;33m\u001b[0m\u001b[1;33m\u001b[0m\u001b[0m\n\u001b[0;32m   2547\u001b[0m     \u001b[1;32mreturn\u001b[0m \u001b[0mim\u001b[0m\u001b[1;33m\u001b[0m\u001b[1;33m\u001b[0m\u001b[0m\n",
      "\u001b[1;32m~\\Anaconda3\\lib\\site-packages\\PIL\\Image.py\u001b[0m in \u001b[0;36mnew\u001b[1;34m(mode, size, color)\u001b[0m\n\u001b[0;32m   2507\u001b[0m         \u001b[0mim\u001b[0m\u001b[1;33m.\u001b[0m\u001b[0mpalette\u001b[0m \u001b[1;33m=\u001b[0m \u001b[0mImagePalette\u001b[0m\u001b[1;33m.\u001b[0m\u001b[0mImagePalette\u001b[0m\u001b[1;33m(\u001b[0m\u001b[1;33m)\u001b[0m\u001b[1;33m\u001b[0m\u001b[1;33m\u001b[0m\u001b[0m\n\u001b[0;32m   2508\u001b[0m         \u001b[0mcolor\u001b[0m \u001b[1;33m=\u001b[0m \u001b[0mim\u001b[0m\u001b[1;33m.\u001b[0m\u001b[0mpalette\u001b[0m\u001b[1;33m.\u001b[0m\u001b[0mgetcolor\u001b[0m\u001b[1;33m(\u001b[0m\u001b[0mcolor\u001b[0m\u001b[1;33m)\u001b[0m\u001b[1;33m\u001b[0m\u001b[1;33m\u001b[0m\u001b[0m\n\u001b[1;32m-> 2509\u001b[1;33m     \u001b[1;32mreturn\u001b[0m \u001b[0mim\u001b[0m\u001b[1;33m.\u001b[0m\u001b[0m_new\u001b[0m\u001b[1;33m(\u001b[0m\u001b[0mcore\u001b[0m\u001b[1;33m.\u001b[0m\u001b[0mfill\u001b[0m\u001b[1;33m(\u001b[0m\u001b[0mmode\u001b[0m\u001b[1;33m,\u001b[0m \u001b[0msize\u001b[0m\u001b[1;33m,\u001b[0m \u001b[0mcolor\u001b[0m\u001b[1;33m)\u001b[0m\u001b[1;33m)\u001b[0m\u001b[1;33m\u001b[0m\u001b[1;33m\u001b[0m\u001b[0m\n\u001b[0m\u001b[0;32m   2510\u001b[0m \u001b[1;33m\u001b[0m\u001b[0m\n\u001b[0;32m   2511\u001b[0m \u001b[1;33m\u001b[0m\u001b[0m\n",
      "\u001b[1;31mKeyboardInterrupt\u001b[0m: "
     ]
    }
   ],
   "source": [
    "import pyautogui\n",
    "import time\n",
    "from PIL import ImageGrab, Image\n",
    "\n",
    "\n",
    "def detect():\n",
    "    a = ImageGrab.grab()\n",
    "    area = (250, 670, 650, 680)\n",
    "    area2 = (250, 550, 650, 580)\n",
    "    if (83 in np.array(a.crop(area))) or (172 in np.array(a.crop(area))):\n",
    "        return 1\n",
    "    elif (83 in np.array(a.crop(area2))) or (172 in np.array(a.crop(area2))):\n",
    "        return 2\n",
    "    return 0\n",
    "\n",
    "def detect_ground():\n",
    "    a = ImageGrab.grab()\n",
    "    area = (250, 670, 650, 680)\n",
    "    return (83 in np.array(a.crop(area))) or (172 in np.array(a.crop(area)))\n",
    "\n",
    "def detect_bird():\n",
    "    a = ImageGrab.grab()\n",
    "    area = (250, 550, 750, 600)\n",
    "    cropped_img = a.crop(area)\n",
    "    area = (250, 670, 750, 680)\n",
    "    return ((83 in np.array(cropped_img)) and (83 not in np.array(a.crop(area)))) or ((172 in np.array(cropped_img)) and (172 not in np.array(a.crop(area))))\n",
    "\n",
    "#time.sleep(2)\n",
    "times = time.time()\n",
    "\n",
    "while ((time.time() - times)<27):\n",
    "    if detect_ground():\n",
    "        time.sleep(0.1)\n",
    "        pyautogui.press('up')\n",
    "\n",
    "print(\"Go to pro!\")\n",
    "print(time.time() - times)\n",
    "while(1):\n",
    "    mod = detect()\n",
    "    if mod == 1:\n",
    "        pyautogui.press('up')\n",
    "    elif mod == 2:\n",
    "        pyautogui.keyDown('down')\n",
    "        time.sleep(0.3)\n",
    "        pyautogui.keyUp('down')\n",
    "    if abs((time.time() - times) - 62)<2 or abs((time.time() - times) - 78)<2:\n",
    "        print(\"Cont jump\")\n",
    "        pyautogui.press('up')"
   ]
  },
  {
   "cell_type": "code",
   "execution_count": 238,
   "metadata": {
    "ExecuteTime": {
     "end_time": "2019-11-22T08:26:11.390171Z",
     "start_time": "2019-11-22T08:26:11.385183Z"
    }
   },
   "outputs": [
    {
     "data": {
      "text/plain": [
       "12.996980428695679"
      ]
     },
     "execution_count": 238,
     "metadata": {},
     "output_type": "execute_result"
    }
   ],
   "source": [
    "abs(time.time() - times)"
   ]
  },
  {
   "cell_type": "code",
   "execution_count": 233,
   "metadata": {
    "ExecuteTime": {
     "end_time": "2019-11-22T08:24:53.078995Z",
     "start_time": "2019-11-22T08:24:52.073461Z"
    }
   },
   "outputs": [
    {
     "data": {
      "text/plain": [
       "1.0005455017089844"
      ]
     },
     "execution_count": 233,
     "metadata": {},
     "output_type": "execute_result"
    }
   ],
   "source": [
    "times = time.time()\n",
    "time.sleep(1)\n",
    "time.time() - times"
   ]
  },
  {
   "cell_type": "code",
   "execution_count": 274,
   "metadata": {
    "ExecuteTime": {
     "end_time": "2019-11-22T08:39:25.351931Z",
     "start_time": "2019-11-22T08:39:25.344950Z"
    }
   },
   "outputs": [
    {
     "data": {
      "image/png": "[encoded data removed]",
      "text/plain": [
       "<PIL.Image.Image image mode=RGB size=500x20 at 0x24828F30438>"
      ]
     },
     "execution_count": 274,
     "metadata": {},
     "output_type": "execute_result"
    }
   ],
   "source": [
    "np.unique(np.array(a.crop(area)))\n",
    "\n",
    "a.crop(((250, 660, 750, 680)))"
   ]
  },
  {
   "cell_type": "code",
   "execution_count": 271,
   "metadata": {
    "ExecuteTime": {
     "end_time": "2019-11-22T08:38:41.732898Z",
     "start_time": "2019-11-22T08:38:41.643410Z"
    }
   },
   "outputs": [
    {
     "data": {
      "text/plain": [
       "array([[[255, 253, 253],\n",
       "        [255, 253, 253],\n",
       "        [255, 253, 253],\n",
       "        ...,\n",
       "        [ 83,  82,  82],\n",
       "        [ 83,  82,  82],\n",
       "        [ 83,  82,  82]],\n",
       "\n",
       "       [[255, 253, 253],\n",
       "        [255, 253, 253],\n",
       "        [255, 253, 253],\n",
       "        ...,\n",
       "        [ 83,  82,  82],\n",
       "        [ 83,  82,  82],\n",
       "        [ 83,  82,  82]],\n",
       "\n",
       "       [[255, 253, 253],\n",
       "        [255, 253, 253],\n",
       "        [255, 253, 253],\n",
       "        ...,\n",
       "        [ 83,  82,  82],\n",
       "        [ 83,  82,  82],\n",
       "        [ 83,  82,  82]],\n",
       "\n",
       "       ...,\n",
       "\n",
       "       [[255, 253, 253],\n",
       "        [255, 253, 253],\n",
       "        [255, 253, 253],\n",
       "        ...,\n",
       "        [ 83,  82,  82],\n",
       "        [ 83,  82,  82],\n",
       "        [ 83,  82,  82]],\n",
       "\n",
       "       [[255, 253, 253],\n",
       "        [255, 253, 253],\n",
       "        [255, 253, 253],\n",
       "        ...,\n",
       "        [ 83,  82,  82],\n",
       "        [ 83,  82,  82],\n",
       "        [ 83,  82,  82]],\n",
       "\n",
       "       [[255, 253, 253],\n",
       "        [255, 253, 253],\n",
       "        [255, 253, 253],\n",
       "        ...,\n",
       "        [ 83,  82,  82],\n",
       "        [ 83,  82,  82],\n",
       "        [ 83,  82,  82]]], dtype=uint8)"
      ]
     },
     "execution_count": 271,
     "metadata": {},
     "output_type": "execute_result"
    }
   ],
   "source": [
    "a = ImageGrab.grab()\n",
    "\n",
    "area2 = (250, 550, 650, 580)\n",
    "area = (250, 660, 750, 680)\n",
    "np.array(a.crop(area))"
   ]
  },
  {
   "cell_type": "code",
   "execution_count": 211,
   "metadata": {
    "ExecuteTime": {
     "end_time": "2019-11-22T05:35:52.804894Z",
     "start_time": "2019-11-22T05:35:52.799908Z"
    }
   },
   "outputs": [
    {
     "data": {
      "text/plain": [
       "14.1336030960083"
      ]
     },
     "execution_count": 211,
     "metadata": {},
     "output_type": "execute_result"
    }
   ],
   "source": [
    "time.time() - times"
   ]
  },
  {
   "cell_type": "code",
   "execution_count": 193,
   "metadata": {
    "ExecuteTime": {
     "end_time": "2019-11-22T05:26:01.034398Z",
     "start_time": "2019-11-22T05:26:00.024438Z"
    }
   },
   "outputs": [
    {
     "data": {
      "text/plain": [
       "1.0000112056732178"
      ]
     },
     "execution_count": 193,
     "metadata": {},
     "output_type": "execute_result"
    }
   ],
   "source": [
    "times = time.time()\n",
    "time.sleep(1)\n",
    "time.time() - times"
   ]
  },
  {
   "cell_type": "code",
   "execution_count": 224,
   "metadata": {
    "ExecuteTime": {
     "end_time": "2019-11-22T05:39:55.425369Z",
     "start_time": "2019-11-22T05:39:35.745720Z"
    }
   },
   "outputs": [
    {
     "ename": "KeyboardInterrupt",
     "evalue": "",
     "output_type": "error",
     "traceback": [
      "\u001b[1;31m---------------------------------------------------------------------------\u001b[0m",
      "\u001b[1;31mKeyboardInterrupt\u001b[0m                         Traceback (most recent call last)",
      "\u001b[1;32m<ipython-input-224-1dbbcce85c77>\u001b[0m in \u001b[0;36m<module>\u001b[1;34m\u001b[0m\n\u001b[0;32m     18\u001b[0m     \u001b[1;32mif\u001b[0m \u001b[0mdetect_ground\u001b[0m\u001b[1;33m(\u001b[0m\u001b[1;33m)\u001b[0m\u001b[1;33m:\u001b[0m\u001b[1;33m\u001b[0m\u001b[1;33m\u001b[0m\u001b[0m\n\u001b[0;32m     19\u001b[0m \u001b[1;33m\u001b[0m\u001b[0m\n\u001b[1;32m---> 20\u001b[1;33m         \u001b[0mpyautogui\u001b[0m\u001b[1;33m.\u001b[0m\u001b[0mpress\u001b[0m\u001b[1;33m(\u001b[0m\u001b[1;34m'up'\u001b[0m\u001b[1;33m)\u001b[0m\u001b[1;33m\u001b[0m\u001b[1;33m\u001b[0m\u001b[0m\n\u001b[0m\u001b[0;32m     21\u001b[0m     \u001b[1;32melif\u001b[0m \u001b[0mdetect_bird\u001b[0m\u001b[1;33m(\u001b[0m\u001b[1;33m)\u001b[0m\u001b[1;33m:\u001b[0m\u001b[1;33m\u001b[0m\u001b[1;33m\u001b[0m\u001b[0m\n\u001b[0;32m     22\u001b[0m         \u001b[0mpyautogui\u001b[0m\u001b[1;33m.\u001b[0m\u001b[0mkeyDown\u001b[0m\u001b[1;33m(\u001b[0m\u001b[1;34m'down'\u001b[0m\u001b[1;33m)\u001b[0m\u001b[1;33m\u001b[0m\u001b[1;33m\u001b[0m\u001b[0m\n",
      "\u001b[1;32m~\\Anaconda3\\lib\\site-packages\\pyautogui\\__init__.py\u001b[0m in \u001b[0;36mpress\u001b[1;34m(keys, presses, interval, pause, logScreenshot, _pause)\u001b[0m\n\u001b[0;32m   1157\u001b[0m         \u001b[0mtime\u001b[0m\u001b[1;33m.\u001b[0m\u001b[0msleep\u001b[0m\u001b[1;33m(\u001b[0m\u001b[0minterval\u001b[0m\u001b[1;33m)\u001b[0m\u001b[1;33m\u001b[0m\u001b[1;33m\u001b[0m\u001b[0m\n\u001b[0;32m   1158\u001b[0m \u001b[1;33m\u001b[0m\u001b[0m\n\u001b[1;32m-> 1159\u001b[1;33m     \u001b[0m_autoPause\u001b[0m\u001b[1;33m(\u001b[0m\u001b[0mpause\u001b[0m\u001b[1;33m,\u001b[0m \u001b[0m_pause\u001b[0m\u001b[1;33m)\u001b[0m\u001b[1;33m\u001b[0m\u001b[1;33m\u001b[0m\u001b[0m\n\u001b[0m\u001b[0;32m   1160\u001b[0m \u001b[1;33m\u001b[0m\u001b[0m\n\u001b[0;32m   1161\u001b[0m \u001b[1;32mdef\u001b[0m \u001b[0mtypewrite\u001b[0m\u001b[1;33m(\u001b[0m\u001b[0mmessage\u001b[0m\u001b[1;33m,\u001b[0m \u001b[0minterval\u001b[0m\u001b[1;33m=\u001b[0m\u001b[1;36m0.0\u001b[0m\u001b[1;33m,\u001b[0m \u001b[0mpause\u001b[0m\u001b[1;33m=\u001b[0m\u001b[1;32mNone\u001b[0m\u001b[1;33m,\u001b[0m \u001b[0mlogScreenshot\u001b[0m\u001b[1;33m=\u001b[0m\u001b[1;32mNone\u001b[0m\u001b[1;33m,\u001b[0m \u001b[0m_pause\u001b[0m\u001b[1;33m=\u001b[0m\u001b[1;32mTrue\u001b[0m\u001b[1;33m)\u001b[0m\u001b[1;33m:\u001b[0m\u001b[1;33m\u001b[0m\u001b[1;33m\u001b[0m\u001b[0m\n",
      "\u001b[1;32m~\\Anaconda3\\lib\\site-packages\\pyautogui\\__init__.py\u001b[0m in \u001b[0;36m_autoPause\u001b[1;34m(pause, _pause)\u001b[0m\n\u001b[0;32m    220\u001b[0m     \u001b[1;32melif\u001b[0m \u001b[0m_pause\u001b[0m\u001b[1;33m:\u001b[0m\u001b[1;33m\u001b[0m\u001b[1;33m\u001b[0m\u001b[0m\n\u001b[0;32m    221\u001b[0m         \u001b[1;32massert\u001b[0m \u001b[0misinstance\u001b[0m\u001b[1;33m(\u001b[0m\u001b[0mPAUSE\u001b[0m\u001b[1;33m,\u001b[0m \u001b[0mint\u001b[0m\u001b[1;33m)\u001b[0m \u001b[1;32mor\u001b[0m \u001b[0misinstance\u001b[0m\u001b[1;33m(\u001b[0m\u001b[0mPAUSE\u001b[0m\u001b[1;33m,\u001b[0m \u001b[0mfloat\u001b[0m\u001b[1;33m)\u001b[0m\u001b[1;33m\u001b[0m\u001b[1;33m\u001b[0m\u001b[0m\n\u001b[1;32m--> 222\u001b[1;33m         \u001b[0mtime\u001b[0m\u001b[1;33m.\u001b[0m\u001b[0msleep\u001b[0m\u001b[1;33m(\u001b[0m\u001b[0mPAUSE\u001b[0m\u001b[1;33m)\u001b[0m\u001b[1;33m\u001b[0m\u001b[1;33m\u001b[0m\u001b[0m\n\u001b[0m\u001b[0;32m    223\u001b[0m \u001b[1;33m\u001b[0m\u001b[0m\n\u001b[0;32m    224\u001b[0m \u001b[1;33m\u001b[0m\u001b[0m\n",
      "\u001b[1;31mKeyboardInterrupt\u001b[0m: "
     ]
    }
   ],
   "source": [
    "import pyautogui\n",
    "import time\n",
    "from PIL import ImageGrab, Image\n",
    "def detect_ground():\n",
    "    a = ImageGrab.grab()\n",
    "    area = (250, 670, 650, 680)\n",
    "    return (83 in np.array(a.crop(area))) or (172 in np.array(a.crop(area)))\n",
    "\n",
    "def detect_bird():\n",
    "    a = ImageGrab.grab()\n",
    "    area = (250, 550, 750, 600)\n",
    "    cropped_img = a.crop(area)\n",
    "    area = (250, 670, 750, 680)\n",
    "    return ((83 in np.array(cropped_img)) and (83 not in np.array(a.crop(area)))) or ((172 in np.array(cropped_img)) and (172 not in np.array(a.crop(area))))\n",
    "\n",
    "time.sleep(2)\n",
    "while(1):\n",
    "    if detect_ground():\n",
    "        \n",
    "        pyautogui.press('up')\n",
    "    elif detect_bird():\n",
    "        pyautogui.keyDown('down')\n",
    "        time.sleep(0.3)\n",
    "        pyautogui.keyUp('down')"
   ]
  },
  {
   "cell_type": "code",
   "execution_count": 174,
   "metadata": {
    "ExecuteTime": {
     "end_time": "2019-11-22T05:14:09.275205Z",
     "start_time": "2019-11-22T05:14:09.192371Z"
    }
   },
   "outputs": [
    {
     "data": {
      "image/png": "[encoded data removed]",
      "text/plain": [
       "<PIL.Image.Image image mode=RGB size=2060x50 at 0x248291449E8>"
      ]
     },
     "execution_count": 174,
     "metadata": {},
     "output_type": "execute_result"
    }
   ],
   "source": [
    "a = ImageGrab.grab()\n",
    "area = (20, 550, 2080, 600)\n",
    "cropped_img = a.crop(area)\n",
    "cropped_img"
   ]
  },
  {
   "cell_type": "code",
   "execution_count": 53,
   "metadata": {
    "ExecuteTime": {
     "end_time": "2019-11-22T04:45:26.880739Z",
     "start_time": "2019-11-22T04:45:26.776045Z"
    }
   },
   "outputs": [
    {
     "data": {
      "text/plain": [
       "(1620, 2880, 3)"
      ]
     },
     "execution_count": 53,
     "metadata": {},
     "output_type": "execute_result"
    }
   ],
   "source": [
    "a = ImageGrab.grab()\n",
    "np.array(a).shape"
   ]
  },
  {
   "cell_type": "code",
   "execution_count": 62,
   "metadata": {
    "ExecuteTime": {
     "end_time": "2019-11-22T04:46:31.033138Z",
     "start_time": "2019-11-22T04:46:29.754427Z"
    }
   },
   "outputs": [
    {
     "name": "stdout",
     "output_type": "stream",
     "text": [
      "False\n",
      "Wall time: 1.14 s\n"
     ]
    },
    {
     "data": {
      "image/png": "[encoded data removed]",
      "text/plain": [
       "<Figure size 432x288 with 1 Axes>"
      ]
     },
     "metadata": {
      "needs_background": "light"
     },
     "output_type": "display_data"
    }
   ],
   "source": [
    "%%time\n",
    "time.sleep(1)\n",
    "a = ImageGrab.grab()\n",
    "a = np.array(a)[600:647]\n",
    "plt.imshow(A)\n",
    "\n",
    "a = np.array(a)[600:647]\n",
    "\n",
    "a = a[:][300:700]\n",
    "#plt.imshow(np.array(a))\n",
    "\n",
    "print(83 in a)"
   ]
  },
  {
   "cell_type": "code",
   "execution_count": null,
   "metadata": {},
   "outputs": [],
   "source": [
    "from PIL import Image\n",
    "img = Image.open(\"ImageName.jpg\")\n",
    "area = (400, 400, 800, 800)\n",
    "cropped_img = img.crop(area)\n",
    "cropped_img.show()"
   ]
  },
  {
   "cell_type": "markdown",
   "metadata": {},
   "source": [
    "Returns a rectangular region from this image. The box is a\n",
    "4-tuple defining the left, upper, right, and lower pixel"
   ]
  },
  {
   "cell_type": "code",
   "execution_count": 183,
   "metadata": {
    "ExecuteTime": {
     "end_time": "2019-11-22T05:22:06.862350Z",
     "start_time": "2019-11-22T05:22:06.800500Z"
    }
   },
   "outputs": [
    {
     "data": {
      "image/png": "[encoded data removed]",
      "text/plain": [
       "<PIL.Image.Image image mode=RGB size=300x120 at 0x24826509B38>"
      ]
     },
     "execution_count": 183,
     "metadata": {},
     "output_type": "execute_result"
    }
   ],
   "source": [
    "a = ImageGrab.grab()\n",
    "area = (200, 500, 500, 620)\n",
    "cropped_img = a.crop(area)\n",
    "cropped_img"
   ]
  },
  {
   "cell_type": "code",
   "execution_count": 184,
   "metadata": {
    "ExecuteTime": {
     "end_time": "2019-11-22T05:22:06.982032Z",
     "start_time": "2019-11-22T05:22:06.976047Z"
    }
   },
   "outputs": [
    {
     "data": {
      "text/plain": [
       "array([[[  0,   0,   0],\n",
       "        [  0,   0,   0],\n",
       "        [  0,   0,   0],\n",
       "        ...,\n",
       "        [  0,   0,   0],\n",
       "        [  0,   0,   0],\n",
       "        [  0,   0,   0]],\n",
       "\n",
       "       [[  0,   0,   0],\n",
       "        [  0,   0,   0],\n",
       "        [  0,   0,   0],\n",
       "        ...,\n",
       "        [  0,   0,   0],\n",
       "        [  0,   0,   0],\n",
       "        [  0,   0,   0]],\n",
       "\n",
       "       [[  0,   0,   0],\n",
       "        [  0,   0,   0],\n",
       "        [  0,   0,   0],\n",
       "        ...,\n",
       "        [  0,   0,   0],\n",
       "        [  0,   0,   0],\n",
       "        [  0,   0,   0]],\n",
       "\n",
       "       ...,\n",
       "\n",
       "       [[172, 172, 172],\n",
       "        [172, 172, 172],\n",
       "        [172, 172, 172],\n",
       "        ...,\n",
       "        [  0,   0,   0],\n",
       "        [  0,   0,   0],\n",
       "        [  0,   0,   0]],\n",
       "\n",
       "       [[172, 172, 172],\n",
       "        [172, 172, 172],\n",
       "        [172, 172, 172],\n",
       "        ...,\n",
       "        [  0,   0,   0],\n",
       "        [  0,   0,   0],\n",
       "        [  0,   0,   0]],\n",
       "\n",
       "       [[172, 172, 172],\n",
       "        [172, 172, 172],\n",
       "        [172, 172, 172],\n",
       "        ...,\n",
       "        [  0,   0,   0],\n",
       "        [  0,   0,   0],\n",
       "        [  0,   0,   0]]], dtype=uint8)"
      ]
     },
     "execution_count": 184,
     "metadata": {},
     "output_type": "execute_result"
    }
   ],
   "source": [
    "np.array(cropped_img)"
   ]
  },
  {
   "cell_type": "code",
   "execution_count": 99,
   "metadata": {
    "ExecuteTime": {
     "end_time": "2019-11-22T04:53:19.710634Z",
     "start_time": "2019-11-22T04:53:19.705539Z"
    }
   },
   "outputs": [
    {
     "data": {
      "text/plain": [
       "()"
      ]
     },
     "execution_count": 99,
     "metadata": {},
     "output_type": "execute_result"
    }
   ],
   "source": [
    "np.array(cropped_img).shape"
   ]
  },
  {
   "cell_type": "code",
   "execution_count": 65,
   "metadata": {
    "ExecuteTime": {
     "end_time": "2019-11-22T04:47:19.109351Z",
     "start_time": "2019-11-22T04:47:17.817077Z"
    }
   },
   "outputs": [
    {
     "data": {
      "text/plain": [
       "(47, 2880, 3)"
      ]
     },
     "execution_count": 65,
     "metadata": {},
     "output_type": "execute_result"
    },
    {
     "data": {
      "image/png": "[encoded data removed]",
      "text/plain": [
       "<Figure size 432x288 with 1 Axes>"
      ]
     },
     "metadata": {
      "needs_background": "light"
     },
     "output_type": "display_data"
    }
   ],
   "source": [
    "time.sleep(1)\n",
    "a = ImageGrab.grab()\n",
    "a = np.array(a)[600:647]\n",
    "plt.imshow(a)\n",
    "\n",
    "a.shape"
   ]
  },
  {
   "cell_type": "code",
   "execution_count": 72,
   "metadata": {
    "ExecuteTime": {
     "end_time": "2019-11-22T04:48:27.518037Z",
     "start_time": "2019-11-22T04:48:27.513050Z"
    }
   },
   "outputs": [
    {
     "data": {
      "text/plain": [
       "(2880, 3)"
      ]
     },
     "execution_count": 72,
     "metadata": {},
     "output_type": "execute_result"
    }
   ],
   "source": []
  },
  {
   "cell_type": "code",
   "execution_count": 73,
   "metadata": {
    "ExecuteTime": {
     "end_time": "2019-11-22T04:48:37.118342Z",
     "start_time": "2019-11-22T04:48:36.975724Z"
    }
   },
   "outputs": [
    {
     "data": {
      "text/plain": [
       "<matplotlib.image.AxesImage at 0x248213d1278>"
      ]
     },
     "execution_count": 73,
     "metadata": {},
     "output_type": "execute_result"
    },
    {
     "data": {
      "image/png": "[encoded data removed]",
      "text/plain": [
       "<Figure size 432x288 with 1 Axes>"
      ]
     },
     "metadata": {
      "needs_background": "light"
     },
     "output_type": "display_data"
    }
   ],
   "source": [
    "plt.imshow(a)"
   ]
  },
  {
   "cell_type": "code",
   "execution_count": 60,
   "metadata": {
    "ExecuteTime": {
     "end_time": "2019-11-22T04:46:12.404069Z",
     "start_time": "2019-11-22T04:46:12.232528Z"
    }
   },
   "outputs": [
    {
     "ename": "ValueError",
     "evalue": "zero-size array to reduction operation minimum which has no identity",
     "output_type": "error",
     "traceback": [
      "\u001b[1;31m---------------------------------------------------------------------------\u001b[0m",
      "\u001b[1;31mValueError\u001b[0m                                Traceback (most recent call last)",
      "\u001b[1;32m<ipython-input-60-c71f75257c05>\u001b[0m in \u001b[0;36m<module>\u001b[1;34m\u001b[0m\n\u001b[1;32m----> 1\u001b[1;33m \u001b[0mplt\u001b[0m\u001b[1;33m.\u001b[0m\u001b[0mimshow\u001b[0m\u001b[1;33m(\u001b[0m\u001b[0mnp\u001b[0m\u001b[1;33m.\u001b[0m\u001b[0marray\u001b[0m\u001b[1;33m(\u001b[0m\u001b[0ma\u001b[0m\u001b[1;33m)\u001b[0m\u001b[1;33m)\u001b[0m\u001b[1;33m\u001b[0m\u001b[1;33m\u001b[0m\u001b[0m\n\u001b[0m",
      "\u001b[1;32m~\\Anaconda3\\lib\\site-packages\\matplotlib\\pyplot.py\u001b[0m in \u001b[0;36mimshow\u001b[1;34m(X, cmap, norm, aspect, interpolation, alpha, vmin, vmax, origin, extent, shape, filternorm, filterrad, imlim, resample, url, data, **kwargs)\u001b[0m\n\u001b[0;32m   2675\u001b[0m         \u001b[0mfilternorm\u001b[0m\u001b[1;33m=\u001b[0m\u001b[0mfilternorm\u001b[0m\u001b[1;33m,\u001b[0m \u001b[0mfilterrad\u001b[0m\u001b[1;33m=\u001b[0m\u001b[0mfilterrad\u001b[0m\u001b[1;33m,\u001b[0m \u001b[0mimlim\u001b[0m\u001b[1;33m=\u001b[0m\u001b[0mimlim\u001b[0m\u001b[1;33m,\u001b[0m\u001b[1;33m\u001b[0m\u001b[1;33m\u001b[0m\u001b[0m\n\u001b[0;32m   2676\u001b[0m         resample=resample, url=url, **({\"data\": data} if data is not\n\u001b[1;32m-> 2677\u001b[1;33m         None else {}), **kwargs)\n\u001b[0m\u001b[0;32m   2678\u001b[0m     \u001b[0msci\u001b[0m\u001b[1;33m(\u001b[0m\u001b[0m__ret\u001b[0m\u001b[1;33m)\u001b[0m\u001b[1;33m\u001b[0m\u001b[1;33m\u001b[0m\u001b[0m\n\u001b[0;32m   2679\u001b[0m     \u001b[1;32mreturn\u001b[0m \u001b[0m__ret\u001b[0m\u001b[1;33m\u001b[0m\u001b[1;33m\u001b[0m\u001b[0m\n",
      "\u001b[1;32m~\\Anaconda3\\lib\\site-packages\\matplotlib\\__init__.py\u001b[0m in \u001b[0;36minner\u001b[1;34m(ax, data, *args, **kwargs)\u001b[0m\n\u001b[0;32m   1587\u001b[0m     \u001b[1;32mdef\u001b[0m \u001b[0minner\u001b[0m\u001b[1;33m(\u001b[0m\u001b[0max\u001b[0m\u001b[1;33m,\u001b[0m \u001b[1;33m*\u001b[0m\u001b[0margs\u001b[0m\u001b[1;33m,\u001b[0m \u001b[0mdata\u001b[0m\u001b[1;33m=\u001b[0m\u001b[1;32mNone\u001b[0m\u001b[1;33m,\u001b[0m \u001b[1;33m**\u001b[0m\u001b[0mkwargs\u001b[0m\u001b[1;33m)\u001b[0m\u001b[1;33m:\u001b[0m\u001b[1;33m\u001b[0m\u001b[1;33m\u001b[0m\u001b[0m\n\u001b[0;32m   1588\u001b[0m         \u001b[1;32mif\u001b[0m \u001b[0mdata\u001b[0m \u001b[1;32mis\u001b[0m \u001b[1;32mNone\u001b[0m\u001b[1;33m:\u001b[0m\u001b[1;33m\u001b[0m\u001b[1;33m\u001b[0m\u001b[0m\n\u001b[1;32m-> 1589\u001b[1;33m             \u001b[1;32mreturn\u001b[0m \u001b[0mfunc\u001b[0m\u001b[1;33m(\u001b[0m\u001b[0max\u001b[0m\u001b[1;33m,\u001b[0m \u001b[1;33m*\u001b[0m\u001b[0mmap\u001b[0m\u001b[1;33m(\u001b[0m\u001b[0msanitize_sequence\u001b[0m\u001b[1;33m,\u001b[0m \u001b[0margs\u001b[0m\u001b[1;33m)\u001b[0m\u001b[1;33m,\u001b[0m \u001b[1;33m**\u001b[0m\u001b[0mkwargs\u001b[0m\u001b[1;33m)\u001b[0m\u001b[1;33m\u001b[0m\u001b[1;33m\u001b[0m\u001b[0m\n\u001b[0m\u001b[0;32m   1590\u001b[0m \u001b[1;33m\u001b[0m\u001b[0m\n\u001b[0;32m   1591\u001b[0m         \u001b[0mbound\u001b[0m \u001b[1;33m=\u001b[0m \u001b[0mnew_sig\u001b[0m\u001b[1;33m.\u001b[0m\u001b[0mbind\u001b[0m\u001b[1;33m(\u001b[0m\u001b[0max\u001b[0m\u001b[1;33m,\u001b[0m \u001b[1;33m*\u001b[0m\u001b[0margs\u001b[0m\u001b[1;33m,\u001b[0m \u001b[1;33m**\u001b[0m\u001b[0mkwargs\u001b[0m\u001b[1;33m)\u001b[0m\u001b[1;33m\u001b[0m\u001b[1;33m\u001b[0m\u001b[0m\n",
      "\u001b[1;32m~\\Anaconda3\\lib\\site-packages\\matplotlib\\cbook\\deprecation.py\u001b[0m in \u001b[0;36mwrapper\u001b[1;34m(*args, **kwargs)\u001b[0m\n\u001b[0;32m    367\u001b[0m                 \u001b[1;34mf\"%(removal)s.  If any parameter follows {name!r}, they \"\u001b[0m\u001b[1;33m\u001b[0m\u001b[1;33m\u001b[0m\u001b[0m\n\u001b[0;32m    368\u001b[0m                 f\"should be pass as keyword, not positionally.\")\n\u001b[1;32m--> 369\u001b[1;33m         \u001b[1;32mreturn\u001b[0m \u001b[0mfunc\u001b[0m\u001b[1;33m(\u001b[0m\u001b[1;33m*\u001b[0m\u001b[0margs\u001b[0m\u001b[1;33m,\u001b[0m \u001b[1;33m**\u001b[0m\u001b[0mkwargs\u001b[0m\u001b[1;33m)\u001b[0m\u001b[1;33m\u001b[0m\u001b[1;33m\u001b[0m\u001b[0m\n\u001b[0m\u001b[0;32m    370\u001b[0m \u001b[1;33m\u001b[0m\u001b[0m\n\u001b[0;32m    371\u001b[0m     \u001b[1;32mreturn\u001b[0m \u001b[0mwrapper\u001b[0m\u001b[1;33m\u001b[0m\u001b[1;33m\u001b[0m\u001b[0m\n",
      "\u001b[1;32m~\\Anaconda3\\lib\\site-packages\\matplotlib\\cbook\\deprecation.py\u001b[0m in \u001b[0;36mwrapper\u001b[1;34m(*args, **kwargs)\u001b[0m\n\u001b[0;32m    367\u001b[0m                 \u001b[1;34mf\"%(removal)s.  If any parameter follows {name!r}, they \"\u001b[0m\u001b[1;33m\u001b[0m\u001b[1;33m\u001b[0m\u001b[0m\n\u001b[0;32m    368\u001b[0m                 f\"should be pass as keyword, not positionally.\")\n\u001b[1;32m--> 369\u001b[1;33m         \u001b[1;32mreturn\u001b[0m \u001b[0mfunc\u001b[0m\u001b[1;33m(\u001b[0m\u001b[1;33m*\u001b[0m\u001b[0margs\u001b[0m\u001b[1;33m,\u001b[0m \u001b[1;33m**\u001b[0m\u001b[0mkwargs\u001b[0m\u001b[1;33m)\u001b[0m\u001b[1;33m\u001b[0m\u001b[1;33m\u001b[0m\u001b[0m\n\u001b[0m\u001b[0;32m    370\u001b[0m \u001b[1;33m\u001b[0m\u001b[0m\n\u001b[0;32m    371\u001b[0m     \u001b[1;32mreturn\u001b[0m \u001b[0mwrapper\u001b[0m\u001b[1;33m\u001b[0m\u001b[1;33m\u001b[0m\u001b[0m\n",
      "\u001b[1;32m~\\Anaconda3\\lib\\site-packages\\matplotlib\\axes\\_axes.py\u001b[0m in \u001b[0;36mimshow\u001b[1;34m(self, X, cmap, norm, aspect, interpolation, alpha, vmin, vmax, origin, extent, shape, filternorm, filterrad, imlim, resample, url, **kwargs)\u001b[0m\n\u001b[0;32m   5658\u001b[0m                               resample=resample, **kwargs)\n\u001b[0;32m   5659\u001b[0m \u001b[1;33m\u001b[0m\u001b[0m\n\u001b[1;32m-> 5660\u001b[1;33m         \u001b[0mim\u001b[0m\u001b[1;33m.\u001b[0m\u001b[0mset_data\u001b[0m\u001b[1;33m(\u001b[0m\u001b[0mX\u001b[0m\u001b[1;33m)\u001b[0m\u001b[1;33m\u001b[0m\u001b[1;33m\u001b[0m\u001b[0m\n\u001b[0m\u001b[0;32m   5661\u001b[0m         \u001b[0mim\u001b[0m\u001b[1;33m.\u001b[0m\u001b[0mset_alpha\u001b[0m\u001b[1;33m(\u001b[0m\u001b[0malpha\u001b[0m\u001b[1;33m)\u001b[0m\u001b[1;33m\u001b[0m\u001b[1;33m\u001b[0m\u001b[0m\n\u001b[0;32m   5662\u001b[0m         \u001b[1;32mif\u001b[0m \u001b[0mim\u001b[0m\u001b[1;33m.\u001b[0m\u001b[0mget_clip_path\u001b[0m\u001b[1;33m(\u001b[0m\u001b[1;33m)\u001b[0m \u001b[1;32mis\u001b[0m \u001b[1;32mNone\u001b[0m\u001b[1;33m:\u001b[0m\u001b[1;33m\u001b[0m\u001b[1;33m\u001b[0m\u001b[0m\n",
      "\u001b[1;32m~\\Anaconda3\\lib\\site-packages\\matplotlib\\image.py\u001b[0m in \u001b[0;36mset_data\u001b[1;34m(self, A)\u001b[0m\n\u001b[0;32m    689\u001b[0m             \u001b[1;31m# making reliable interpretation impossible.\u001b[0m\u001b[1;33m\u001b[0m\u001b[1;33m\u001b[0m\u001b[1;33m\u001b[0m\u001b[0m\n\u001b[0;32m    690\u001b[0m             \u001b[0mhigh\u001b[0m \u001b[1;33m=\u001b[0m \u001b[1;36m255\u001b[0m \u001b[1;32mif\u001b[0m \u001b[0mnp\u001b[0m\u001b[1;33m.\u001b[0m\u001b[0missubdtype\u001b[0m\u001b[1;33m(\u001b[0m\u001b[0mself\u001b[0m\u001b[1;33m.\u001b[0m\u001b[0m_A\u001b[0m\u001b[1;33m.\u001b[0m\u001b[0mdtype\u001b[0m\u001b[1;33m,\u001b[0m \u001b[0mnp\u001b[0m\u001b[1;33m.\u001b[0m\u001b[0minteger\u001b[0m\u001b[1;33m)\u001b[0m \u001b[1;32melse\u001b[0m \u001b[1;36m1\u001b[0m\u001b[1;33m\u001b[0m\u001b[1;33m\u001b[0m\u001b[0m\n\u001b[1;32m--> 691\u001b[1;33m             \u001b[1;32mif\u001b[0m \u001b[0mself\u001b[0m\u001b[1;33m.\u001b[0m\u001b[0m_A\u001b[0m\u001b[1;33m.\u001b[0m\u001b[0mmin\u001b[0m\u001b[1;33m(\u001b[0m\u001b[1;33m)\u001b[0m \u001b[1;33m<\u001b[0m \u001b[1;36m0\u001b[0m \u001b[1;32mor\u001b[0m \u001b[0mhigh\u001b[0m \u001b[1;33m<\u001b[0m \u001b[0mself\u001b[0m\u001b[1;33m.\u001b[0m\u001b[0m_A\u001b[0m\u001b[1;33m.\u001b[0m\u001b[0mmax\u001b[0m\u001b[1;33m(\u001b[0m\u001b[1;33m)\u001b[0m\u001b[1;33m:\u001b[0m\u001b[1;33m\u001b[0m\u001b[1;33m\u001b[0m\u001b[0m\n\u001b[0m\u001b[0;32m    692\u001b[0m                 _log.warning(\n\u001b[0;32m    693\u001b[0m                     \u001b[1;34m'Clipping input data to the valid range for imshow with '\u001b[0m\u001b[1;33m\u001b[0m\u001b[1;33m\u001b[0m\u001b[0m\n",
      "\u001b[1;32m~\\Anaconda3\\lib\\site-packages\\numpy\\ma\\core.py\u001b[0m in \u001b[0;36mmin\u001b[1;34m(self, axis, out, fill_value, keepdims)\u001b[0m\n\u001b[0;32m   5600\u001b[0m         \u001b[1;32mif\u001b[0m \u001b[0mout\u001b[0m \u001b[1;32mis\u001b[0m \u001b[1;32mNone\u001b[0m\u001b[1;33m:\u001b[0m\u001b[1;33m\u001b[0m\u001b[1;33m\u001b[0m\u001b[0m\n\u001b[0;32m   5601\u001b[0m             result = self.filled(fill_value).min(\n\u001b[1;32m-> 5602\u001b[1;33m                 axis=axis, out=out, **kwargs).view(type(self))\n\u001b[0m\u001b[0;32m   5603\u001b[0m             \u001b[1;32mif\u001b[0m \u001b[0mresult\u001b[0m\u001b[1;33m.\u001b[0m\u001b[0mndim\u001b[0m\u001b[1;33m:\u001b[0m\u001b[1;33m\u001b[0m\u001b[1;33m\u001b[0m\u001b[0m\n\u001b[0;32m   5604\u001b[0m                 \u001b[1;31m# Set the mask\u001b[0m\u001b[1;33m\u001b[0m\u001b[1;33m\u001b[0m\u001b[1;33m\u001b[0m\u001b[0m\n",
      "\u001b[1;32m~\\Anaconda3\\lib\\site-packages\\numpy\\core\\_methods.py\u001b[0m in \u001b[0;36m_amin\u001b[1;34m(a, axis, out, keepdims, initial)\u001b[0m\n\u001b[0;32m     30\u001b[0m def _amin(a, axis=None, out=None, keepdims=False,\n\u001b[0;32m     31\u001b[0m           initial=_NoValue):\n\u001b[1;32m---> 32\u001b[1;33m     \u001b[1;32mreturn\u001b[0m \u001b[0mumr_minimum\u001b[0m\u001b[1;33m(\u001b[0m\u001b[0ma\u001b[0m\u001b[1;33m,\u001b[0m \u001b[0maxis\u001b[0m\u001b[1;33m,\u001b[0m \u001b[1;32mNone\u001b[0m\u001b[1;33m,\u001b[0m \u001b[0mout\u001b[0m\u001b[1;33m,\u001b[0m \u001b[0mkeepdims\u001b[0m\u001b[1;33m,\u001b[0m \u001b[0minitial\u001b[0m\u001b[1;33m)\u001b[0m\u001b[1;33m\u001b[0m\u001b[1;33m\u001b[0m\u001b[0m\n\u001b[0m\u001b[0;32m     33\u001b[0m \u001b[1;33m\u001b[0m\u001b[0m\n\u001b[0;32m     34\u001b[0m def _sum(a, axis=None, dtype=None, out=None, keepdims=False,\n",
      "\u001b[1;31mValueError\u001b[0m: zero-size array to reduction operation minimum which has no identity"
     ]
    },
    {
     "data": {
      "image/png": "[encoded data removed]",
      "text/plain": [
       "<Figure size 432x288 with 1 Axes>"
      ]
     },
     "metadata": {
      "needs_background": "light"
     },
     "output_type": "display_data"
    }
   ],
   "source": [
    "plt.imshow(np.array(a))"
   ]
  },
  {
   "cell_type": "code",
   "execution_count": 58,
   "metadata": {
    "ExecuteTime": {
     "end_time": "2019-11-22T04:45:58.206245Z",
     "start_time": "2019-11-22T04:45:58.201259Z"
    }
   },
   "outputs": [
    {
     "data": {
      "text/plain": [
       "(400, 3)"
      ]
     },
     "execution_count": 58,
     "metadata": {},
     "output_type": "execute_result"
    }
   ],
   "source": [
    "a.shape"
   ]
  },
  {
   "cell_type": "code",
   "execution_count": 46,
   "metadata": {
    "ExecuteTime": {
     "end_time": "2019-11-22T04:43:52.202393Z",
     "start_time": "2019-11-22T04:43:52.159508Z"
    }
   },
   "outputs": [
    {
     "name": "stdout",
     "output_type": "stream",
     "text": [
      "[255 255 255]\n",
      "[255 255 255]\n",
      "[255 255 255]\n",
      "[255 255 255]\n",
      "[255 255 255]\n",
      "[255 255 255]\n",
      "[255 255 255]\n",
      "[255 255 255]\n",
      "[255 255 255]\n",
      "[255 255 255]\n",
      "[255 255 255]\n",
      "[255 255 255]\n",
      "[255 255 255]\n",
      "[255 255 255]\n",
      "[255 255 255]\n",
      "[255 255 255]\n",
      "[255 255 255]\n",
      "[255 255 255]\n",
      "[255 255 255]\n",
      "[255 255 255]\n",
      "[255 255 255]\n",
      "[255 255 255]\n",
      "[255 255 255]\n",
      "[255 255 255]\n",
      "[255 255 255]\n",
      "[255 255 255]\n",
      "[255 255 255]\n",
      "[255 255 255]\n",
      "[255 255 255]\n",
      "[255 255 255]\n",
      "[255 255 255]\n",
      "[255 255 255]\n",
      "[255 255 255]\n",
      "[255 255 255]\n",
      "[255 255 255]\n",
      "[255 255 255]\n",
      "[255 255 255]\n",
      "[255 255 255]\n",
      "[255 255 255]\n",
      "[255 255 255]\n",
      "[255 255 255]\n",
      "[255 255 255]\n",
      "[255 255 255]\n",
      "[255 255 255]\n",
      "[255 255 255]\n",
      "[255 255 255]\n",
      "[255 255 255]\n",
      "[255 255 255]\n",
      "[255 255 255]\n",
      "[255 255 255]\n",
      "[255 255 255]\n",
      "[255 255 255]\n",
      "[255 255 255]\n",
      "[255 255 255]\n",
      "[255 255 255]\n",
      "[255 255 255]\n",
      "[255 255 255]\n",
      "[255 255 255]\n",
      "[255 255 255]\n",
      "[255 255 255]\n",
      "[255 255 255]\n",
      "[255 255 255]\n",
      "[255 255 255]\n",
      "[255 255 255]\n",
      "[255 255 255]\n",
      "[255 255 255]\n",
      "[255 255 255]\n",
      "[255 255 255]\n",
      "[255 255 255]\n",
      "[255 255 255]\n",
      "[255 255 255]\n",
      "[255 255 255]\n",
      "[255 255 255]\n",
      "[255 255 255]\n",
      "[255 255 255]\n",
      "[255 255 255]\n",
      "[255 255 255]\n",
      "[255 255 255]\n",
      "[255 255 255]\n",
      "[255 255 255]\n",
      "[255 255 255]\n",
      "[255 255 255]\n",
      "[255 255 255]\n",
      "[255 255 255]\n",
      "[255 255 255]\n",
      "[255 255 255]\n",
      "[255 255 255]\n",
      "[255 255 255]\n",
      "[255 255 255]\n",
      "[255 255 255]\n",
      "[255 255 255]\n",
      "[255 255 255]\n",
      "[255 255 255]\n",
      "[255 255 255]\n",
      "[255 255 255]\n",
      "[255 255 255]\n",
      "[255 255 255]\n",
      "[255 255 255]\n",
      "[255 255 255]\n",
      "[255 255 255]\n",
      "[255 255 255]\n",
      "[255 255 255]\n",
      "[255 255 255]\n",
      "[255 255 255]\n",
      "[255 255 255]\n",
      "[255 255 255]\n",
      "[255 255 255]\n",
      "[255 255 255]\n",
      "[255 255 255]\n",
      "[255 255 255]\n",
      "[255 255 255]\n",
      "[255 255 255]\n",
      "[255 255 255]\n",
      "[255 255 255]\n",
      "[255 255 255]\n",
      "[255 255 255]\n",
      "[255 255 255]\n",
      "[255 255 255]\n",
      "[255 255 255]\n",
      "[255 255 255]\n",
      "[255 255 255]\n",
      "[255 255 255]\n",
      "[255 255 255]\n",
      "[255 255 255]\n",
      "[255 255 255]\n",
      "[255 255 255]\n",
      "[255 255 255]\n",
      "[255 255 255]\n",
      "[255 255 255]\n",
      "[255 255 255]\n",
      "[255 255 255]\n",
      "[255 255 255]\n",
      "[255 255 255]\n",
      "[255 255 255]\n",
      "[255 255 255]\n",
      "[255 255 255]\n",
      "[255 255 255]\n",
      "[255 255 255]\n",
      "[255 255 255]\n",
      "[255 255 255]\n",
      "[255 255 255]\n",
      "[255 255 255]\n",
      "[255 255 255]\n",
      "[255 255 255]\n",
      "[255 255 255]\n",
      "[255 255 255]\n",
      "[255 255 255]\n",
      "[255 255 255]\n",
      "[255 255 255]\n",
      "[255 255 255]\n",
      "[255 255 255]\n",
      "[255 255 255]\n",
      "[255 255 255]\n",
      "[255 255 255]\n",
      "[255 255 255]\n",
      "[255 255 255]\n",
      "[255 255 255]\n",
      "[255 255 255]\n",
      "[255 255 255]\n",
      "[255 255 255]\n",
      "[255 255 255]\n",
      "[255 255 255]\n",
      "[255 255 255]\n",
      "[255 255 255]\n",
      "[255 255 255]\n",
      "[255 255 255]\n",
      "[255 255 255]\n",
      "[255 255 255]\n",
      "[255 255 255]\n",
      "[255 255 255]\n",
      "[255 255 255]\n",
      "[255 255 255]\n",
      "[255 255 255]\n",
      "[255 255 255]\n",
      "[255 255 255]\n",
      "[255 255 255]\n",
      "[255 255 255]\n",
      "[255 255 255]\n",
      "[255 255 255]\n",
      "[255 255 255]\n",
      "[255 255 255]\n",
      "[255 255 255]\n",
      "[255 255 255]\n",
      "[255 255 255]\n",
      "[255 255 255]\n",
      "[255 255 255]\n",
      "[255 255 255]\n",
      "[255 255 255]\n",
      "[255 255 255]\n",
      "[255 255 255]\n",
      "[255 255 255]\n",
      "[255 255 255]\n",
      "[255 255 255]\n",
      "[255 255 255]\n",
      "[255 255 255]\n",
      "[255 255 255]\n",
      "[255 255 255]\n",
      "[255 255 255]\n",
      "[255 255 255]\n",
      "[255 255 255]\n",
      "[255 255 255]\n",
      "[255 255 255]\n",
      "[255 255 255]\n",
      "[255 255 255]\n",
      "[255 255 255]\n",
      "[255 255 255]\n",
      "[255 255 255]\n",
      "[255 255 255]\n",
      "[255 255 255]\n",
      "[255 255 255]\n",
      "[255 255 255]\n",
      "[255 255 255]\n",
      "[255 255 255]\n",
      "[255 255 255]\n",
      "[255 255 255]\n",
      "[255 255 255]\n",
      "[255 255 255]\n",
      "[255 255 255]\n",
      "[255 255 255]\n",
      "[255 255 255]\n",
      "[255 255 255]\n",
      "[255 255 255]\n",
      "[255 255 255]\n",
      "[255 255 255]\n",
      "[255 255 255]\n",
      "[255 255 255]\n",
      "[255 255 255]\n",
      "[255 255 255]\n",
      "[255 255 255]\n",
      "[255 255 255]\n",
      "[255 255 255]\n",
      "[255 255 255]\n",
      "[255 255 255]\n",
      "[255 255 255]\n",
      "[255 255 255]\n",
      "[255 255 255]\n",
      "[255 255 255]\n",
      "[255 255 255]\n",
      "[255 255 255]\n",
      "[255 255 255]\n",
      "[255 255 255]\n",
      "[255 255 255]\n",
      "[255 255 255]\n",
      "[255 255 255]\n",
      "[255 255 255]\n",
      "[255 255 255]\n",
      "[255 255 255]\n",
      "[255 255 255]\n",
      "[255 255 255]\n",
      "[255 255 255]\n",
      "[255 255 255]\n",
      "[255 255 255]\n",
      "[255 255 255]\n",
      "[255 255 255]\n",
      "[255 255 255]\n",
      "[255 255 255]\n",
      "[255 255 255]\n",
      "[255 255 255]\n",
      "[255 255 255]\n",
      "[255 255 255]\n",
      "[255 255 255]\n",
      "[255 255 255]\n",
      "[255 255 255]\n",
      "[255 255 255]\n",
      "[255 255 255]\n",
      "[255 255 255]\n",
      "[255 255 255]\n",
      "[255 255 255]\n",
      "[255 255 255]\n",
      "[255 255 255]\n",
      "[255 255 255]\n",
      "[255 255 255]\n",
      "[255 255 255]\n",
      "[255 255 255]\n",
      "[255 255 255]\n",
      "[255 255 255]\n",
      "[255 255 255]\n",
      "[255 255 255]\n",
      "[255 255 255]\n",
      "[255 255 255]\n",
      "[255 255 255]\n",
      "[255 255 255]\n",
      "[255 255 255]\n",
      "[255 255 255]\n",
      "[255 255 255]\n",
      "[255 255 255]\n",
      "[255 255 255]\n",
      "[255 255 255]\n",
      "[255 255 255]\n",
      "[255 255 255]\n",
      "[255 255 255]\n",
      "[255 255 255]\n",
      "[255 255 255]\n",
      "[255 255 255]\n",
      "[255 255 255]\n",
      "[255 255 255]\n",
      "[255 255 255]\n",
      "[255 255 255]\n",
      "[255 255 255]\n",
      "[255 255 255]\n",
      "[255 255 255]\n",
      "[255 255 255]\n",
      "[255 255 255]\n",
      "[255 255 255]\n",
      "[255 255 255]\n",
      "[255 255 255]\n",
      "[255 255 255]\n",
      "[255 255 255]\n",
      "[255 255 255]\n",
      "[255 255 255]\n",
      "[255 255 255]\n",
      "[255 255 255]\n",
      "[255 255 255]\n",
      "[255 255 255]\n",
      "[255 255 255]\n",
      "[255 255 255]\n",
      "[255 255 255]\n",
      "[255 255 255]\n",
      "[255 255 255]\n",
      "[255 255 255]\n",
      "[255 255 255]\n",
      "[255 255 255]\n",
      "[255 255 255]\n",
      "[255 255 255]\n",
      "[255 255 255]\n",
      "[255 255 255]\n",
      "[255 255 255]\n",
      "[255 255 255]\n",
      "[255 255 255]\n",
      "[255 255 255]\n",
      "[255 255 255]\n",
      "[255 255 255]\n",
      "[255 255 255]\n",
      "[255 255 255]\n",
      "[255 255 255]\n",
      "[255 255 255]\n",
      "[255 255 255]\n",
      "[255 255 255]\n",
      "[255 255 255]\n",
      "[255 255 255]\n"
     ]
    }
   ],
   "source": [
    "for i in a:\n",
    "    print(i)"
   ]
  },
  {
   "cell_type": "code",
   "execution_count": 63,
   "metadata": {
    "ExecuteTime": {
     "end_time": "2019-11-04T10:27:52.229251Z",
     "start_time": "2019-11-04T10:27:48.947976Z"
    }
   },
   "outputs": [
    {
     "ename": "ValueError",
     "evalue": "zero-size array to reduction operation minimum which has no identity",
     "output_type": "error",
     "traceback": [
      "\u001b[1;31m---------------------------------------------------------------------------\u001b[0m",
      "\u001b[1;31mValueError\u001b[0m                                Traceback (most recent call last)",
      "\u001b[1;32m<ipython-input-63-f21167b7d37a>\u001b[0m in \u001b[0;36m<module>\u001b[1;34m\u001b[0m\n\u001b[0;32m      1\u001b[0m \u001b[0mtime\u001b[0m\u001b[1;33m.\u001b[0m\u001b[0msleep\u001b[0m\u001b[1;33m(\u001b[0m\u001b[1;36m3\u001b[0m\u001b[1;33m)\u001b[0m\u001b[1;33m\u001b[0m\u001b[1;33m\u001b[0m\u001b[0m\n\u001b[1;32m----> 2\u001b[1;33m \u001b[0mplt\u001b[0m\u001b[1;33m.\u001b[0m\u001b[0mimshow\u001b[0m\u001b[1;33m(\u001b[0m\u001b[0mnp\u001b[0m\u001b[1;33m.\u001b[0m\u001b[0marray\u001b[0m\u001b[1;33m(\u001b[0m\u001b[0mImageGrab\u001b[0m\u001b[1;33m.\u001b[0m\u001b[0mgrab\u001b[0m\u001b[1;33m(\u001b[0m\u001b[1;33m)\u001b[0m\u001b[1;33m)\u001b[0m\u001b[1;33m[\u001b[0m\u001b[1;36m600\u001b[0m\u001b[1;33m:\u001b[0m\u001b[1;36m657\u001b[0m\u001b[1;33m]\u001b[0m\u001b[1;33m[\u001b[0m\u001b[1;36m100\u001b[0m\u001b[1;33m:\u001b[0m\u001b[1;36m733\u001b[0m\u001b[1;33m]\u001b[0m\u001b[1;33m)\u001b[0m\u001b[1;33m\u001b[0m\u001b[1;33m\u001b[0m\u001b[0m\n\u001b[0m",
      "\u001b[1;32m~\\Anaconda3\\lib\\site-packages\\matplotlib\\pyplot.py\u001b[0m in \u001b[0;36mimshow\u001b[1;34m(X, cmap, norm, aspect, interpolation, alpha, vmin, vmax, origin, extent, shape, filternorm, filterrad, imlim, resample, url, data, **kwargs)\u001b[0m\n\u001b[0;32m   2675\u001b[0m         \u001b[0mfilternorm\u001b[0m\u001b[1;33m=\u001b[0m\u001b[0mfilternorm\u001b[0m\u001b[1;33m,\u001b[0m \u001b[0mfilterrad\u001b[0m\u001b[1;33m=\u001b[0m\u001b[0mfilterrad\u001b[0m\u001b[1;33m,\u001b[0m \u001b[0mimlim\u001b[0m\u001b[1;33m=\u001b[0m\u001b[0mimlim\u001b[0m\u001b[1;33m,\u001b[0m\u001b[1;33m\u001b[0m\u001b[1;33m\u001b[0m\u001b[0m\n\u001b[0;32m   2676\u001b[0m         resample=resample, url=url, **({\"data\": data} if data is not\n\u001b[1;32m-> 2677\u001b[1;33m         None else {}), **kwargs)\n\u001b[0m\u001b[0;32m   2678\u001b[0m     \u001b[0msci\u001b[0m\u001b[1;33m(\u001b[0m\u001b[0m__ret\u001b[0m\u001b[1;33m)\u001b[0m\u001b[1;33m\u001b[0m\u001b[1;33m\u001b[0m\u001b[0m\n\u001b[0;32m   2679\u001b[0m     \u001b[1;32mreturn\u001b[0m \u001b[0m__ret\u001b[0m\u001b[1;33m\u001b[0m\u001b[1;33m\u001b[0m\u001b[0m\n",
      "\u001b[1;32m~\\Anaconda3\\lib\\site-packages\\matplotlib\\__init__.py\u001b[0m in \u001b[0;36minner\u001b[1;34m(ax, data, *args, **kwargs)\u001b[0m\n\u001b[0;32m   1587\u001b[0m     \u001b[1;32mdef\u001b[0m \u001b[0minner\u001b[0m\u001b[1;33m(\u001b[0m\u001b[0max\u001b[0m\u001b[1;33m,\u001b[0m \u001b[1;33m*\u001b[0m\u001b[0margs\u001b[0m\u001b[1;33m,\u001b[0m \u001b[0mdata\u001b[0m\u001b[1;33m=\u001b[0m\u001b[1;32mNone\u001b[0m\u001b[1;33m,\u001b[0m \u001b[1;33m**\u001b[0m\u001b[0mkwargs\u001b[0m\u001b[1;33m)\u001b[0m\u001b[1;33m:\u001b[0m\u001b[1;33m\u001b[0m\u001b[1;33m\u001b[0m\u001b[0m\n\u001b[0;32m   1588\u001b[0m         \u001b[1;32mif\u001b[0m \u001b[0mdata\u001b[0m \u001b[1;32mis\u001b[0m \u001b[1;32mNone\u001b[0m\u001b[1;33m:\u001b[0m\u001b[1;33m\u001b[0m\u001b[1;33m\u001b[0m\u001b[0m\n\u001b[1;32m-> 1589\u001b[1;33m             \u001b[1;32mreturn\u001b[0m \u001b[0mfunc\u001b[0m\u001b[1;33m(\u001b[0m\u001b[0max\u001b[0m\u001b[1;33m,\u001b[0m \u001b[1;33m*\u001b[0m\u001b[0mmap\u001b[0m\u001b[1;33m(\u001b[0m\u001b[0msanitize_sequence\u001b[0m\u001b[1;33m,\u001b[0m \u001b[0margs\u001b[0m\u001b[1;33m)\u001b[0m\u001b[1;33m,\u001b[0m \u001b[1;33m**\u001b[0m\u001b[0mkwargs\u001b[0m\u001b[1;33m)\u001b[0m\u001b[1;33m\u001b[0m\u001b[1;33m\u001b[0m\u001b[0m\n\u001b[0m\u001b[0;32m   1590\u001b[0m \u001b[1;33m\u001b[0m\u001b[0m\n\u001b[0;32m   1591\u001b[0m         \u001b[0mbound\u001b[0m \u001b[1;33m=\u001b[0m \u001b[0mnew_sig\u001b[0m\u001b[1;33m.\u001b[0m\u001b[0mbind\u001b[0m\u001b[1;33m(\u001b[0m\u001b[0max\u001b[0m\u001b[1;33m,\u001b[0m \u001b[1;33m*\u001b[0m\u001b[0margs\u001b[0m\u001b[1;33m,\u001b[0m \u001b[1;33m**\u001b[0m\u001b[0mkwargs\u001b[0m\u001b[1;33m)\u001b[0m\u001b[1;33m\u001b[0m\u001b[1;33m\u001b[0m\u001b[0m\n",
      "\u001b[1;32m~\\Anaconda3\\lib\\site-packages\\matplotlib\\cbook\\deprecation.py\u001b[0m in \u001b[0;36mwrapper\u001b[1;34m(*args, **kwargs)\u001b[0m\n\u001b[0;32m    367\u001b[0m                 \u001b[1;34mf\"%(removal)s.  If any parameter follows {name!r}, they \"\u001b[0m\u001b[1;33m\u001b[0m\u001b[1;33m\u001b[0m\u001b[0m\n\u001b[0;32m    368\u001b[0m                 f\"should be pass as keyword, not positionally.\")\n\u001b[1;32m--> 369\u001b[1;33m         \u001b[1;32mreturn\u001b[0m \u001b[0mfunc\u001b[0m\u001b[1;33m(\u001b[0m\u001b[1;33m*\u001b[0m\u001b[0margs\u001b[0m\u001b[1;33m,\u001b[0m \u001b[1;33m**\u001b[0m\u001b[0mkwargs\u001b[0m\u001b[1;33m)\u001b[0m\u001b[1;33m\u001b[0m\u001b[1;33m\u001b[0m\u001b[0m\n\u001b[0m\u001b[0;32m    370\u001b[0m \u001b[1;33m\u001b[0m\u001b[0m\n\u001b[0;32m    371\u001b[0m     \u001b[1;32mreturn\u001b[0m \u001b[0mwrapper\u001b[0m\u001b[1;33m\u001b[0m\u001b[1;33m\u001b[0m\u001b[0m\n",
      "\u001b[1;32m~\\Anaconda3\\lib\\site-packages\\matplotlib\\cbook\\deprecation.py\u001b[0m in \u001b[0;36mwrapper\u001b[1;34m(*args, **kwargs)\u001b[0m\n\u001b[0;32m    367\u001b[0m                 \u001b[1;34mf\"%(removal)s.  If any parameter follows {name!r}, they \"\u001b[0m\u001b[1;33m\u001b[0m\u001b[1;33m\u001b[0m\u001b[0m\n\u001b[0;32m    368\u001b[0m                 f\"should be pass as keyword, not positionally.\")\n\u001b[1;32m--> 369\u001b[1;33m         \u001b[1;32mreturn\u001b[0m \u001b[0mfunc\u001b[0m\u001b[1;33m(\u001b[0m\u001b[1;33m*\u001b[0m\u001b[0margs\u001b[0m\u001b[1;33m,\u001b[0m \u001b[1;33m**\u001b[0m\u001b[0mkwargs\u001b[0m\u001b[1;33m)\u001b[0m\u001b[1;33m\u001b[0m\u001b[1;33m\u001b[0m\u001b[0m\n\u001b[0m\u001b[0;32m    370\u001b[0m \u001b[1;33m\u001b[0m\u001b[0m\n\u001b[0;32m    371\u001b[0m     \u001b[1;32mreturn\u001b[0m \u001b[0mwrapper\u001b[0m\u001b[1;33m\u001b[0m\u001b[1;33m\u001b[0m\u001b[0m\n",
      "\u001b[1;32m~\\Anaconda3\\lib\\site-packages\\matplotlib\\axes\\_axes.py\u001b[0m in \u001b[0;36mimshow\u001b[1;34m(self, X, cmap, norm, aspect, interpolation, alpha, vmin, vmax, origin, extent, shape, filternorm, filterrad, imlim, resample, url, **kwargs)\u001b[0m\n\u001b[0;32m   5658\u001b[0m                               resample=resample, **kwargs)\n\u001b[0;32m   5659\u001b[0m \u001b[1;33m\u001b[0m\u001b[0m\n\u001b[1;32m-> 5660\u001b[1;33m         \u001b[0mim\u001b[0m\u001b[1;33m.\u001b[0m\u001b[0mset_data\u001b[0m\u001b[1;33m(\u001b[0m\u001b[0mX\u001b[0m\u001b[1;33m)\u001b[0m\u001b[1;33m\u001b[0m\u001b[1;33m\u001b[0m\u001b[0m\n\u001b[0m\u001b[0;32m   5661\u001b[0m         \u001b[0mim\u001b[0m\u001b[1;33m.\u001b[0m\u001b[0mset_alpha\u001b[0m\u001b[1;33m(\u001b[0m\u001b[0malpha\u001b[0m\u001b[1;33m)\u001b[0m\u001b[1;33m\u001b[0m\u001b[1;33m\u001b[0m\u001b[0m\n\u001b[0;32m   5662\u001b[0m         \u001b[1;32mif\u001b[0m \u001b[0mim\u001b[0m\u001b[1;33m.\u001b[0m\u001b[0mget_clip_path\u001b[0m\u001b[1;33m(\u001b[0m\u001b[1;33m)\u001b[0m \u001b[1;32mis\u001b[0m \u001b[1;32mNone\u001b[0m\u001b[1;33m:\u001b[0m\u001b[1;33m\u001b[0m\u001b[1;33m\u001b[0m\u001b[0m\n",
      "\u001b[1;32m~\\Anaconda3\\lib\\site-packages\\matplotlib\\image.py\u001b[0m in \u001b[0;36mset_data\u001b[1;34m(self, A)\u001b[0m\n\u001b[0;32m    689\u001b[0m             \u001b[1;31m# making reliable interpretation impossible.\u001b[0m\u001b[1;33m\u001b[0m\u001b[1;33m\u001b[0m\u001b[1;33m\u001b[0m\u001b[0m\n\u001b[0;32m    690\u001b[0m             \u001b[0mhigh\u001b[0m \u001b[1;33m=\u001b[0m \u001b[1;36m255\u001b[0m \u001b[1;32mif\u001b[0m \u001b[0mnp\u001b[0m\u001b[1;33m.\u001b[0m\u001b[0missubdtype\u001b[0m\u001b[1;33m(\u001b[0m\u001b[0mself\u001b[0m\u001b[1;33m.\u001b[0m\u001b[0m_A\u001b[0m\u001b[1;33m.\u001b[0m\u001b[0mdtype\u001b[0m\u001b[1;33m,\u001b[0m \u001b[0mnp\u001b[0m\u001b[1;33m.\u001b[0m\u001b[0minteger\u001b[0m\u001b[1;33m)\u001b[0m \u001b[1;32melse\u001b[0m \u001b[1;36m1\u001b[0m\u001b[1;33m\u001b[0m\u001b[1;33m\u001b[0m\u001b[0m\n\u001b[1;32m--> 691\u001b[1;33m             \u001b[1;32mif\u001b[0m \u001b[0mself\u001b[0m\u001b[1;33m.\u001b[0m\u001b[0m_A\u001b[0m\u001b[1;33m.\u001b[0m\u001b[0mmin\u001b[0m\u001b[1;33m(\u001b[0m\u001b[1;33m)\u001b[0m \u001b[1;33m<\u001b[0m \u001b[1;36m0\u001b[0m \u001b[1;32mor\u001b[0m \u001b[0mhigh\u001b[0m \u001b[1;33m<\u001b[0m \u001b[0mself\u001b[0m\u001b[1;33m.\u001b[0m\u001b[0m_A\u001b[0m\u001b[1;33m.\u001b[0m\u001b[0mmax\u001b[0m\u001b[1;33m(\u001b[0m\u001b[1;33m)\u001b[0m\u001b[1;33m:\u001b[0m\u001b[1;33m\u001b[0m\u001b[1;33m\u001b[0m\u001b[0m\n\u001b[0m\u001b[0;32m    692\u001b[0m                 _log.warning(\n\u001b[0;32m    693\u001b[0m                     \u001b[1;34m'Clipping input data to the valid range for imshow with '\u001b[0m\u001b[1;33m\u001b[0m\u001b[1;33m\u001b[0m\u001b[0m\n",
      "\u001b[1;32m~\\Anaconda3\\lib\\site-packages\\numpy\\ma\\core.py\u001b[0m in \u001b[0;36mmin\u001b[1;34m(self, axis, out, fill_value, keepdims)\u001b[0m\n\u001b[0;32m   5600\u001b[0m         \u001b[1;32mif\u001b[0m \u001b[0mout\u001b[0m \u001b[1;32mis\u001b[0m \u001b[1;32mNone\u001b[0m\u001b[1;33m:\u001b[0m\u001b[1;33m\u001b[0m\u001b[1;33m\u001b[0m\u001b[0m\n\u001b[0;32m   5601\u001b[0m             result = self.filled(fill_value).min(\n\u001b[1;32m-> 5602\u001b[1;33m                 axis=axis, out=out, **kwargs).view(type(self))\n\u001b[0m\u001b[0;32m   5603\u001b[0m             \u001b[1;32mif\u001b[0m \u001b[0mresult\u001b[0m\u001b[1;33m.\u001b[0m\u001b[0mndim\u001b[0m\u001b[1;33m:\u001b[0m\u001b[1;33m\u001b[0m\u001b[1;33m\u001b[0m\u001b[0m\n\u001b[0;32m   5604\u001b[0m                 \u001b[1;31m# Set the mask\u001b[0m\u001b[1;33m\u001b[0m\u001b[1;33m\u001b[0m\u001b[1;33m\u001b[0m\u001b[0m\n",
      "\u001b[1;32m~\\Anaconda3\\lib\\site-packages\\numpy\\core\\_methods.py\u001b[0m in \u001b[0;36m_amin\u001b[1;34m(a, axis, out, keepdims, initial)\u001b[0m\n\u001b[0;32m     30\u001b[0m def _amin(a, axis=None, out=None, keepdims=False,\n\u001b[0;32m     31\u001b[0m           initial=_NoValue):\n\u001b[1;32m---> 32\u001b[1;33m     \u001b[1;32mreturn\u001b[0m \u001b[0mumr_minimum\u001b[0m\u001b[1;33m(\u001b[0m\u001b[0ma\u001b[0m\u001b[1;33m,\u001b[0m \u001b[0maxis\u001b[0m\u001b[1;33m,\u001b[0m \u001b[1;32mNone\u001b[0m\u001b[1;33m,\u001b[0m \u001b[0mout\u001b[0m\u001b[1;33m,\u001b[0m \u001b[0mkeepdims\u001b[0m\u001b[1;33m,\u001b[0m \u001b[0minitial\u001b[0m\u001b[1;33m)\u001b[0m\u001b[1;33m\u001b[0m\u001b[1;33m\u001b[0m\u001b[0m\n\u001b[0m\u001b[0;32m     33\u001b[0m \u001b[1;33m\u001b[0m\u001b[0m\n\u001b[0;32m     34\u001b[0m def _sum(a, axis=None, dtype=None, out=None, keepdims=False,\n",
      "\u001b[1;31mValueError\u001b[0m: zero-size array to reduction operation minimum which has no identity"
     ]
    },
    {
     "data": {
      "image/png": "[encoded data removed]",
      "text/plain": [
       "<Figure size 432x288 with 1 Axes>"
      ]
     },
     "metadata": {
      "needs_background": "light"
     },
     "output_type": "display_data"
    }
   ],
   "source": [
    "time.sleep(3)\n",
    "plt.imshow(np.array(ImageGrab.grab())[600:657])"
   ]
  },
  {
   "cell_type": "code",
   "execution_count": null,
   "metadata": {},
   "outputs": [],
   "source": [
    "target = np.array(ImageGrab.grab())[647][100:733]"
   ]
  },
  {
   "cell_type": "code",
   "execution_count": 48,
   "metadata": {
    "ExecuteTime": {
     "end_time": "2019-11-04T10:25:13.210607Z",
     "start_time": "2019-11-04T10:25:01.972224Z"
    }
   },
   "outputs": [
    {
     "ename": "KeyboardInterrupt",
     "evalue": "",
     "output_type": "error",
     "traceback": [
      "\u001b[1;31m---------------------------------------------------------------------------\u001b[0m",
      "\u001b[1;31mKeyboardInterrupt\u001b[0m                         Traceback (most recent call last)",
      "\u001b[1;32m<ipython-input-48-03e32a8e405d>\u001b[0m in \u001b[0;36m<module>\u001b[1;34m\u001b[0m\n\u001b[0;32m      1\u001b[0m \u001b[0mtime\u001b[0m\u001b[1;33m.\u001b[0m\u001b[0msleep\u001b[0m\u001b[1;33m(\u001b[0m\u001b[1;36m3\u001b[0m\u001b[1;33m)\u001b[0m\u001b[1;33m\u001b[0m\u001b[1;33m\u001b[0m\u001b[0m\n\u001b[0;32m      2\u001b[0m \u001b[1;32mwhile\u001b[0m\u001b[1;33m(\u001b[0m\u001b[1;36m1\u001b[0m\u001b[1;33m)\u001b[0m\u001b[1;33m:\u001b[0m\u001b[1;33m\u001b[0m\u001b[1;33m\u001b[0m\u001b[0m\n\u001b[1;32m----> 3\u001b[1;33m     \u001b[0mtarget\u001b[0m \u001b[1;33m=\u001b[0m \u001b[0mnp\u001b[0m\u001b[1;33m.\u001b[0m\u001b[0marray\u001b[0m\u001b[1;33m(\u001b[0m\u001b[0mImageGrab\u001b[0m\u001b[1;33m.\u001b[0m\u001b[0mgrab\u001b[0m\u001b[1;33m(\u001b[0m\u001b[1;33m)\u001b[0m\u001b[1;33m)\u001b[0m\u001b[1;33m[\u001b[0m\u001b[1;36m647\u001b[0m\u001b[1;33m]\u001b[0m\u001b[1;33m[\u001b[0m\u001b[1;36m100\u001b[0m\u001b[1;33m:\u001b[0m\u001b[1;36m733\u001b[0m\u001b[1;33m]\u001b[0m\u001b[1;33m\u001b[0m\u001b[1;33m\u001b[0m\u001b[0m\n\u001b[0m\u001b[0;32m      4\u001b[0m     \u001b[1;32mif\u001b[0m \u001b[1;33m(\u001b[0m\u001b[0mtarget\u001b[0m\u001b[1;33m[\u001b[0m\u001b[1;36m0\u001b[0m\u001b[1;33m:\u001b[0m\u001b[1;36m200\u001b[0m\u001b[1;33m]\u001b[0m\u001b[1;33m[\u001b[0m\u001b[1;33m:\u001b[0m\u001b[1;33m]\u001b[0m \u001b[1;33m==\u001b[0m \u001b[1;36m83\u001b[0m\u001b[1;33m)\u001b[0m\u001b[1;33m.\u001b[0m\u001b[0msum\u001b[0m\u001b[1;33m(\u001b[0m\u001b[1;33m)\u001b[0m\u001b[1;33m!=\u001b[0m\u001b[1;36m0\u001b[0m\u001b[1;33m:\u001b[0m\u001b[1;33m\u001b[0m\u001b[1;33m\u001b[0m\u001b[0m\n\u001b[0;32m      5\u001b[0m         \u001b[0mpyautogui\u001b[0m\u001b[1;33m.\u001b[0m\u001b[0mpress\u001b[0m\u001b[1;33m(\u001b[0m\u001b[1;34m'up'\u001b[0m\u001b[1;33m)\u001b[0m\u001b[1;33m\u001b[0m\u001b[1;33m\u001b[0m\u001b[0m\n",
      "\u001b[1;32m~\\Anaconda3\\lib\\site-packages\\PIL\\ImageGrab.py\u001b[0m in \u001b[0;36mgrab\u001b[1;34m(bbox, include_layered_windows)\u001b[0m\n\u001b[0;32m     48\u001b[0m             \u001b[1;34m\"BGR\"\u001b[0m\u001b[1;33m,\u001b[0m\u001b[1;33m\u001b[0m\u001b[1;33m\u001b[0m\u001b[0m\n\u001b[0;32m     49\u001b[0m             \u001b[1;33m(\u001b[0m\u001b[0msize\u001b[0m\u001b[1;33m[\u001b[0m\u001b[1;36m0\u001b[0m\u001b[1;33m]\u001b[0m \u001b[1;33m*\u001b[0m \u001b[1;36m3\u001b[0m \u001b[1;33m+\u001b[0m \u001b[1;36m3\u001b[0m\u001b[1;33m)\u001b[0m \u001b[1;33m&\u001b[0m \u001b[1;33m-\u001b[0m\u001b[1;36m4\u001b[0m\u001b[1;33m,\u001b[0m\u001b[1;33m\u001b[0m\u001b[1;33m\u001b[0m\u001b[0m\n\u001b[1;32m---> 50\u001b[1;33m             \u001b[1;33m-\u001b[0m\u001b[1;36m1\u001b[0m\u001b[1;33m,\u001b[0m\u001b[1;33m\u001b[0m\u001b[1;33m\u001b[0m\u001b[0m\n\u001b[0m\u001b[0;32m     51\u001b[0m         )\n\u001b[0;32m     52\u001b[0m     \u001b[1;32mif\u001b[0m \u001b[0mbbox\u001b[0m\u001b[1;33m:\u001b[0m\u001b[1;33m\u001b[0m\u001b[1;33m\u001b[0m\u001b[0m\n",
      "\u001b[1;32m~\\Anaconda3\\lib\\site-packages\\PIL\\Image.py\u001b[0m in \u001b[0;36mfrombytes\u001b[1;34m(mode, size, data, decoder_name, *args)\u001b[0m\n\u001b[0;32m   2543\u001b[0m         \u001b[0margs\u001b[0m \u001b[1;33m=\u001b[0m \u001b[0mmode\u001b[0m\u001b[1;33m\u001b[0m\u001b[1;33m\u001b[0m\u001b[0m\n\u001b[0;32m   2544\u001b[0m \u001b[1;33m\u001b[0m\u001b[0m\n\u001b[1;32m-> 2545\u001b[1;33m     \u001b[0mim\u001b[0m \u001b[1;33m=\u001b[0m \u001b[0mnew\u001b[0m\u001b[1;33m(\u001b[0m\u001b[0mmode\u001b[0m\u001b[1;33m,\u001b[0m \u001b[0msize\u001b[0m\u001b[1;33m)\u001b[0m\u001b[1;33m\u001b[0m\u001b[1;33m\u001b[0m\u001b[0m\n\u001b[0m\u001b[0;32m   2546\u001b[0m     \u001b[0mim\u001b[0m\u001b[1;33m.\u001b[0m\u001b[0mfrombytes\u001b[0m\u001b[1;33m(\u001b[0m\u001b[0mdata\u001b[0m\u001b[1;33m,\u001b[0m \u001b[0mdecoder_name\u001b[0m\u001b[1;33m,\u001b[0m \u001b[0margs\u001b[0m\u001b[1;33m)\u001b[0m\u001b[1;33m\u001b[0m\u001b[1;33m\u001b[0m\u001b[0m\n\u001b[0;32m   2547\u001b[0m     \u001b[1;32mreturn\u001b[0m \u001b[0mim\u001b[0m\u001b[1;33m\u001b[0m\u001b[1;33m\u001b[0m\u001b[0m\n",
      "\u001b[1;32m~\\Anaconda3\\lib\\site-packages\\PIL\\Image.py\u001b[0m in \u001b[0;36mnew\u001b[1;34m(mode, size, color)\u001b[0m\n\u001b[0;32m   2507\u001b[0m         \u001b[0mim\u001b[0m\u001b[1;33m.\u001b[0m\u001b[0mpalette\u001b[0m \u001b[1;33m=\u001b[0m \u001b[0mImagePalette\u001b[0m\u001b[1;33m.\u001b[0m\u001b[0mImagePalette\u001b[0m\u001b[1;33m(\u001b[0m\u001b[1;33m)\u001b[0m\u001b[1;33m\u001b[0m\u001b[1;33m\u001b[0m\u001b[0m\n\u001b[0;32m   2508\u001b[0m         \u001b[0mcolor\u001b[0m \u001b[1;33m=\u001b[0m \u001b[0mim\u001b[0m\u001b[1;33m.\u001b[0m\u001b[0mpalette\u001b[0m\u001b[1;33m.\u001b[0m\u001b[0mgetcolor\u001b[0m\u001b[1;33m(\u001b[0m\u001b[0mcolor\u001b[0m\u001b[1;33m)\u001b[0m\u001b[1;33m\u001b[0m\u001b[1;33m\u001b[0m\u001b[0m\n\u001b[1;32m-> 2509\u001b[1;33m     \u001b[1;32mreturn\u001b[0m \u001b[0mim\u001b[0m\u001b[1;33m.\u001b[0m\u001b[0m_new\u001b[0m\u001b[1;33m(\u001b[0m\u001b[0mcore\u001b[0m\u001b[1;33m.\u001b[0m\u001b[0mfill\u001b[0m\u001b[1;33m(\u001b[0m\u001b[0mmode\u001b[0m\u001b[1;33m,\u001b[0m \u001b[0msize\u001b[0m\u001b[1;33m,\u001b[0m \u001b[0mcolor\u001b[0m\u001b[1;33m)\u001b[0m\u001b[1;33m)\u001b[0m\u001b[1;33m\u001b[0m\u001b[1;33m\u001b[0m\u001b[0m\n\u001b[0m\u001b[0;32m   2510\u001b[0m \u001b[1;33m\u001b[0m\u001b[0m\n\u001b[0;32m   2511\u001b[0m \u001b[1;33m\u001b[0m\u001b[0m\n",
      "\u001b[1;31mKeyboardInterrupt\u001b[0m: "
     ]
    }
   ],
   "source": [
    "time.sleep(3)\n",
    "while(1):\n",
    "    target = np.array(ImageGrab.grab())[647][100:733]\n",
    "    if (target[0:200][:] == 83).sum()!=0:\n",
    "        pyautogui.press('up')"
   ]
  },
  {
   "cell_type": "code",
   "execution_count": 33,
   "metadata": {
    "ExecuteTime": {
     "end_time": "2019-11-04T10:21:39.551593Z",
     "start_time": "2019-11-04T10:21:39.411690Z"
    }
   },
   "outputs": [
    {
     "name": "stdout",
     "output_type": "stream",
     "text": [
      "0 [255 255 255]\n",
      "1 [255 255 255]\n",
      "2 [255 255 255]\n",
      "3 [255 255 255]\n",
      "4 [255 255 255]\n",
      "5 [255 255 255]\n",
      "6 [255 255 255]\n",
      "7 [255 255 255]\n",
      "8 [83 83 83]\n",
      "9 [83 83 83]\n",
      "10 [83 83 83]\n",
      "11 [83 83 83]\n",
      "12 [83 83 83]\n",
      "13 [83 83 83]\n",
      "14 [83 83 83]\n",
      "15 [83 83 83]\n",
      "16 [83 83 83]\n",
      "17 [83 83 83]\n",
      "18 [83 83 83]\n",
      "19 [83 83 83]\n",
      "20 [83 83 83]\n",
      "21 [83 83 83]\n",
      "22 [83 83 83]\n",
      "23 [83 83 83]\n",
      "24 [83 83 83]\n",
      "25 [83 83 83]\n",
      "26 [83 83 83]\n",
      "27 [83 83 83]\n",
      "28 [83 83 83]\n",
      "29 [83 83 83]\n",
      "30 [83 83 83]\n",
      "31 [83 83 83]\n",
      "32 [83 83 83]\n",
      "33 [83 83 83]\n",
      "34 [83 83 83]\n",
      "35 [83 83 83]\n",
      "36 [83 83 83]\n",
      "37 [83 83 83]\n",
      "38 [83 83 83]\n",
      "39 [83 83 83]\n",
      "40 [83 83 83]\n",
      "41 [83 83 83]\n",
      "42 [83 83 83]\n",
      "43 [83 83 83]\n",
      "44 [83 83 83]\n",
      "45 [83 83 83]\n",
      "46 [83 83 83]\n",
      "47 [83 83 83]\n",
      "48 [83 83 83]\n",
      "49 [83 83 83]\n",
      "50 [83 83 83]\n",
      "51 [83 83 83]\n",
      "52 [83 83 83]\n",
      "53 [83 83 83]\n",
      "54 [83 83 83]\n",
      "55 [83 83 83]\n",
      "56 [83 83 83]\n",
      "57 [83 83 83]\n",
      "58 [83 83 83]\n",
      "59 [83 83 83]\n",
      "60 [83 83 83]\n",
      "61 [83 83 83]\n",
      "62 [83 83 83]\n",
      "63 [83 83 83]\n",
      "64 [83 83 83]\n",
      "65 [255 255 255]\n",
      "66 [255 255 255]\n",
      "67 [255 255 255]\n",
      "68 [255 255 255]\n",
      "69 [255 255 255]\n",
      "70 [255 255 255]\n",
      "71 [255 255 255]\n",
      "72 [83 83 83]\n",
      "73 [83 83 83]\n",
      "74 [83 83 83]\n",
      "75 [83 83 83]\n",
      "76 [83 83 83]\n",
      "77 [83 83 83]\n",
      "78 [83 83 83]\n",
      "79 [83 83 83]\n",
      "80 [83 83 83]\n",
      "81 [255 255 255]\n",
      "82 [255 255 255]\n",
      "83 [255 255 255]\n",
      "84 [255 255 255]\n",
      "85 [255 255 255]\n",
      "86 [255 255 255]\n",
      "87 [255 255 255]\n",
      "88 [83 83 83]\n",
      "89 [83 83 83]\n",
      "90 [83 83 83]\n",
      "91 [83 83 83]\n",
      "92 [83 83 83]\n",
      "93 [83 83 83]\n",
      "94 [83 83 83]\n",
      "95 [83 83 83]\n",
      "96 [83 83 83]\n",
      "97 [83 83 83]\n",
      "98 [83 83 83]\n",
      "99 [83 83 83]\n",
      "100 [83 83 83]\n",
      "101 [83 83 83]\n",
      "102 [83 83 83]\n",
      "103 [83 83 83]\n",
      "104 [255 255 255]\n",
      "105 [255 255 255]\n",
      "106 [255 255 255]\n",
      "107 [255 255 255]\n",
      "108 [255 255 255]\n",
      "109 [255 255 255]\n",
      "110 [83 83 83]\n",
      "111 [83 83 83]\n",
      "112 [83 83 83]\n",
      "113 [83 83 83]\n",
      "114 [83 83 83]\n",
      "115 [83 83 83]\n",
      "116 [83 83 83]\n",
      "117 [83 83 83]\n",
      "118 [83 83 83]\n",
      "119 [83 83 83]\n",
      "120 [255 255 255]\n",
      "121 [255 255 255]\n",
      "122 [255 255 255]\n",
      "123 [255 255 255]\n",
      "124 [255 255 255]\n",
      "125 [255 255 255]\n",
      "126 [255 255 255]\n",
      "127 [255 255 255]\n",
      "128 [255 255 255]\n",
      "129 [255 255 255]\n",
      "130 [255 255 255]\n",
      "131 [255 255 255]\n",
      "132 [255 255 255]\n",
      "133 [255 255 255]\n",
      "134 [255 255 255]\n",
      "135 [255 255 255]\n",
      "136 [255 255 255]\n",
      "137 [255 255 255]\n",
      "138 [255 255 255]\n",
      "139 [255 255 255]\n",
      "140 [255 255 255]\n",
      "141 [255 255 255]\n",
      "142 [255 255 255]\n",
      "143 [255 255 255]\n",
      "144 [255 255 255]\n",
      "145 [255 255 255]\n",
      "146 [255 255 255]\n",
      "147 [255 255 255]\n",
      "148 [255 255 255]\n",
      "149 [255 255 255]\n",
      "150 [255 255 255]\n",
      "151 [255 255 255]\n",
      "152 [255 255 255]\n",
      "153 [255 255 255]\n",
      "154 [255 255 255]\n",
      "155 [255 255 255]\n",
      "156 [255 255 255]\n",
      "157 [255 255 255]\n",
      "158 [255 255 255]\n",
      "159 [255 255 255]\n",
      "160 [255 255 255]\n",
      "161 [255 255 255]\n",
      "162 [255 255 255]\n",
      "163 [255 255 255]\n",
      "164 [255 255 255]\n",
      "165 [255 255 255]\n",
      "166 [255 255 255]\n",
      "167 [255 255 255]\n",
      "168 [255 255 255]\n",
      "169 [255 255 255]\n",
      "170 [255 255 255]\n",
      "171 [255 255 255]\n",
      "172 [255 255 255]\n",
      "173 [255 255 255]\n",
      "174 [255 255 255]\n",
      "175 [255 255 255]\n",
      "176 [255 255 255]\n",
      "177 [255 255 255]\n",
      "178 [255 255 255]\n",
      "179 [255 255 255]\n",
      "180 [255 255 255]\n",
      "181 [255 255 255]\n",
      "182 [255 255 255]\n",
      "183 [255 255 255]\n",
      "184 [255 255 255]\n",
      "185 [255 255 255]\n",
      "186 [255 255 255]\n",
      "187 [255 255 255]\n",
      "188 [255 255 255]\n",
      "189 [255 255 255]\n",
      "190 [255 255 255]\n",
      "191 [255 255 255]\n",
      "192 [255 255 255]\n",
      "193 [255 255 255]\n",
      "194 [255 255 255]\n",
      "195 [255 255 255]\n",
      "196 [255 255 255]\n",
      "197 [255 255 255]\n",
      "198 [255 255 255]\n",
      "199 [255 255 255]\n",
      "200 [255 255 255]\n",
      "201 [255 255 255]\n",
      "202 [255 255 255]\n",
      "203 [255 255 255]\n",
      "204 [255 255 255]\n",
      "205 [255 255 255]\n",
      "206 [255 255 255]\n",
      "207 [255 255 255]\n",
      "208 [255 255 255]\n",
      "209 [255 255 255]\n",
      "210 [255 255 255]\n",
      "211 [255 255 255]\n",
      "212 [255 255 255]\n",
      "213 [255 255 255]\n",
      "214 [255 255 255]\n",
      "215 [255 255 255]\n",
      "216 [255 255 255]\n",
      "217 [255 255 255]\n",
      "218 [255 255 255]\n",
      "219 [255 255 255]\n",
      "220 [255 255 255]\n",
      "221 [255 255 255]\n",
      "222 [255 255 255]\n",
      "223 [255 255 255]\n",
      "224 [255 255 255]\n",
      "225 [255 255 255]\n",
      "226 [255 255 255]\n",
      "227 [255 255 255]\n",
      "228 [255 255 255]\n",
      "229 [255 255 255]\n",
      "230 [255 255 255]\n",
      "231 [255 255 255]\n",
      "232 [255 255 255]\n",
      "233 [255 255 255]\n",
      "234 [255 255 255]\n",
      "235 [255 255 255]\n",
      "236 [255 255 255]\n",
      "237 [255 255 255]\n",
      "238 [255 255 255]\n",
      "239 [255 255 255]\n",
      "240 [255 255 255]\n",
      "241 [255 255 255]\n",
      "242 [255 255 255]\n",
      "243 [255 255 255]\n",
      "244 [255 255 255]\n",
      "245 [255 255 255]\n",
      "246 [255 255 255]\n",
      "247 [255 255 255]\n",
      "248 [255 255 255]\n",
      "249 [255 255 255]\n",
      "250 [255 255 255]\n",
      "251 [255 255 255]\n",
      "252 [255 255 255]\n",
      "253 [255 255 255]\n",
      "254 [255 255 255]\n",
      "255 [255 255 255]\n",
      "256 [255 255 255]\n",
      "257 [255 255 255]\n",
      "258 [255 255 255]\n",
      "259 [255 255 255]\n",
      "260 [255 255 255]\n",
      "261 [255 255 255]\n",
      "262 [255 255 255]\n",
      "263 [255 255 255]\n",
      "264 [255 255 255]\n",
      "265 [255 255 255]\n",
      "266 [255 255 255]\n",
      "267 [255 255 255]\n",
      "268 [255 255 255]\n",
      "269 [255 255 255]\n",
      "270 [255 255 255]\n",
      "271 [255 255 255]\n",
      "272 [255 255 255]\n",
      "273 [255 255 255]\n",
      "274 [255 255 255]\n",
      "275 [255 255 255]\n",
      "276 [255 255 255]\n",
      "277 [255 255 255]\n",
      "278 [255 255 255]\n",
      "279 [255 255 255]\n",
      "280 [255 255 255]\n",
      "281 [255 255 255]\n",
      "282 [255 255 255]\n",
      "283 [255 255 255]\n",
      "284 [255 255 255]\n",
      "285 [255 255 255]\n",
      "286 [255 255 255]\n",
      "287 [255 255 255]\n",
      "288 [255 255 255]\n",
      "289 [255 255 255]\n",
      "290 [255 255 255]\n",
      "291 [255 255 255]\n",
      "292 [255 255 255]\n",
      "293 [255 255 255]\n",
      "294 [255 255 255]\n",
      "295 [255 255 255]\n",
      "296 [255 255 255]\n",
      "297 [255 255 255]\n",
      "298 [255 255 255]\n",
      "299 [255 255 255]\n",
      "300 [255 255 255]\n",
      "301 [255 255 255]\n",
      "302 [255 255 255]\n",
      "303 [255 255 255]\n",
      "304 [255 255 255]\n",
      "305 [255 255 255]\n",
      "306 [255 255 255]\n",
      "307 [255 255 255]\n",
      "308 [255 255 255]\n",
      "309 [255 255 255]\n",
      "310 [255 255 255]\n",
      "311 [255 255 255]\n",
      "312 [255 255 255]\n",
      "313 [255 255 255]\n",
      "314 [255 255 255]\n",
      "315 [255 255 255]\n",
      "316 [255 255 255]\n",
      "317 [255 255 255]\n",
      "318 [255 255 255]\n",
      "319 [255 255 255]\n",
      "320 [255 255 255]\n",
      "321 [255 255 255]\n",
      "322 [255 255 255]\n",
      "323 [255 255 255]\n",
      "324 [255 255 255]\n",
      "325 [255 255 255]\n",
      "326 [255 255 255]\n",
      "327 [255 255 255]\n",
      "328 [255 255 255]\n",
      "329 [255 255 255]\n",
      "330 [255 255 255]\n",
      "331 [255 255 255]\n",
      "332 [255 255 255]\n",
      "333 [255 255 255]\n",
      "334 [255 255 255]\n",
      "335 [255 255 255]\n",
      "336 [255 255 255]\n",
      "337 [255 255 255]\n",
      "338 [255 255 255]\n",
      "339 [255 255 255]\n",
      "340 [255 255 255]\n",
      "341 [255 255 255]\n",
      "342 [255 255 255]\n",
      "343 [255 255 255]\n",
      "344 [255 255 255]\n",
      "345 [255 255 255]\n",
      "346 [255 255 255]\n",
      "347 [255 255 255]\n",
      "348 [255 255 255]\n",
      "349 [255 255 255]\n",
      "350 [255 255 255]\n",
      "351 [255 255 255]\n",
      "352 [255 255 255]\n",
      "353 [255 255 255]\n",
      "354 [255 255 255]\n",
      "355 [255 255 255]\n",
      "356 [255 255 255]\n",
      "357 [255 255 255]\n",
      "358 [255 255 255]\n",
      "359 [255 255 255]\n",
      "360 [255 255 255]\n",
      "361 [255 255 255]\n",
      "362 [255 255 255]\n",
      "363 [255 255 255]\n",
      "364 [255 255 255]\n",
      "365 [255 255 255]\n",
      "366 [255 255 255]\n",
      "367 [255 255 255]\n",
      "368 [255 255 255]\n",
      "369 [255 255 255]\n",
      "370 [255 255 255]\n",
      "371 [255 255 255]\n",
      "372 [255 255 255]\n",
      "373 [255 255 255]\n",
      "374 [255 255 255]\n",
      "375 [255 255 255]\n",
      "376 [255 255 255]\n",
      "377 [255 255 255]\n",
      "378 [255 255 255]\n",
      "379 [255 255 255]\n",
      "380 [255 255 255]\n",
      "381 [255 255 255]\n",
      "382 [255 255 255]\n",
      "383 [255 255 255]\n",
      "384 [255 255 255]\n",
      "385 [255 255 255]\n",
      "386 [255 255 255]\n",
      "387 [255 255 255]\n",
      "388 [255 255 255]\n",
      "389 [255 255 255]\n",
      "390 [255 255 255]\n",
      "391 [255 255 255]\n",
      "392 [255 255 255]\n",
      "393 [255 255 255]\n",
      "394 [255 255 255]\n",
      "395 [255 255 255]\n",
      "396 [255 255 255]\n",
      "397 [255 255 255]\n",
      "398 [255 255 255]\n",
      "399 [255 255 255]\n",
      "400 [255 255 255]\n",
      "401 [255 255 255]\n",
      "402 [255 255 255]\n",
      "403 [255 255 255]\n",
      "404 [255 255 255]\n",
      "405 [255 255 255]\n",
      "406 [255 255 255]\n",
      "407 [255 255 255]\n",
      "408 [255 255 255]\n",
      "409 [255 255 255]\n",
      "410 [255 255 255]\n",
      "411 [255 255 255]\n",
      "412 [255 255 255]\n",
      "413 [255 255 255]\n",
      "414 [255 255 255]\n",
      "415 [255 255 255]\n",
      "416 [255 255 255]\n",
      "417 [255 255 255]\n",
      "418 [255 255 255]\n",
      "419 [255 255 255]\n",
      "420 [255 255 255]\n",
      "421 [255 255 255]\n",
      "422 [255 255 255]\n",
      "423 [255 255 255]\n",
      "424 [255 255 255]\n",
      "425 [255 255 255]\n",
      "426 [255 255 255]\n",
      "427 [255 255 255]\n",
      "428 [255 255 255]\n",
      "429 [255 255 255]\n",
      "430 [255 255 255]\n",
      "431 [255 255 255]\n",
      "432 [255 255 255]\n",
      "433 [255 255 255]\n",
      "434 [255 255 255]\n",
      "435 [255 255 255]\n",
      "436 [255 255 255]\n",
      "437 [255 255 255]\n",
      "438 [255 255 255]\n",
      "439 [255 255 255]\n",
      "440 [255 255 255]\n",
      "441 [255 255 255]\n",
      "442 [255 255 255]\n",
      "443 [255 255 255]\n",
      "444 [255 255 255]\n",
      "445 [255 255 255]\n",
      "446 [255 255 255]\n",
      "447 [255 255 255]\n",
      "448 [255 255 255]\n",
      "449 [255 255 255]\n",
      "450 [255 255 255]\n",
      "451 [255 255 255]\n",
      "452 [255 255 255]\n",
      "453 [255 255 255]\n",
      "454 [255 255 255]\n",
      "455 [255 255 255]\n",
      "456 [255 255 255]\n",
      "457 [255 255 255]\n",
      "458 [255 255 255]\n",
      "459 [255 255 255]\n",
      "460 [255 255 255]\n",
      "461 [255 255 255]\n",
      "462 [255 255 255]\n",
      "463 [255 255 255]\n",
      "464 [255 255 255]\n",
      "465 [255 255 255]\n",
      "466 [255 255 255]\n",
      "467 [255 255 255]\n",
      "468 [255 255 255]\n",
      "469 [255 255 255]\n",
      "470 [255 255 255]\n",
      "471 [255 255 255]\n",
      "472 [255 255 255]\n",
      "473 [255 255 255]\n",
      "474 [255 255 255]\n",
      "475 [255 255 255]\n",
      "476 [255 255 255]\n",
      "477 [255 255 255]\n",
      "478 [255 255 255]\n",
      "479 [255 255 255]\n",
      "480 [255 255 255]\n",
      "481 [255 255 255]\n",
      "482 [255 255 255]\n",
      "483 [255 255 255]\n",
      "484 [255 255 255]\n",
      "485 [255 255 255]\n",
      "486 [255 255 255]\n",
      "487 [255 255 255]\n",
      "488 [255 255 255]\n",
      "489 [255 255 255]\n",
      "490 [255 255 255]\n",
      "491 [255 255 255]\n",
      "492 [255 255 255]\n",
      "493 [255 255 255]\n",
      "494 [255 255 255]\n",
      "495 [255 255 255]\n",
      "496 [255 255 255]\n",
      "497 [255 255 255]\n",
      "498 [255 255 255]\n",
      "499 [255 255 255]\n",
      "500 [255 255 255]\n",
      "501 [255 255 255]\n",
      "502 [255 255 255]\n",
      "503 [255 255 255]\n",
      "504 [255 255 255]\n",
      "505 [255 255 255]\n",
      "506 [255 255 255]\n",
      "507 [255 255 255]\n",
      "508 [255 255 255]\n",
      "509 [255 255 255]\n",
      "510 [255 255 255]\n",
      "511 [255 255 255]\n",
      "512 [255 255 255]\n",
      "513 [255 255 255]\n",
      "514 [255 255 255]\n",
      "515 [255 255 255]\n",
      "516 [255 255 255]\n",
      "517 [255 255 255]\n",
      "518 [255 255 255]\n",
      "519 [255 255 255]\n",
      "520 [255 255 255]\n",
      "521 [255 255 255]\n",
      "522 [255 255 255]\n",
      "523 [255 255 255]\n",
      "524 [255 255 255]\n",
      "525 [255 255 255]\n",
      "526 [255 255 255]\n",
      "527 [255 255 255]\n",
      "528 [255 255 255]\n",
      "529 [255 247 247]\n",
      "530 [255 247 247]\n",
      "531 [255 247 247]\n",
      "532 [255 247 247]\n",
      "533 [83 83 83]\n",
      "534 [83 83 83]\n",
      "535 [83 83 83]\n",
      "536 [83 83 83]\n",
      "537 [83 83 83]\n",
      "538 [83 83 83]\n",
      "539 [83 83 83]\n",
      "540 [83 83 83]\n",
      "541 [83 83 83]\n",
      "542 [83 83 83]\n",
      "543 [83 83 83]\n",
      "544 [83 83 83]\n",
      "545 [83 83 83]\n",
      "546 [83 83 83]\n",
      "547 [83 83 83]\n",
      "548 [83 83 83]\n",
      "549 [255 247 247]\n",
      "550 [255 247 247]\n",
      "551 [255 247 247]\n",
      "552 [255 247 247]\n",
      "553 [255 247 247]\n",
      "554 [255 247 247]\n",
      "555 [255 247 247]\n",
      "556 [255 247 247]\n",
      "557 [255 247 247]\n",
      "558 [83 83 83]\n",
      "559 [83 83 83]\n",
      "560 [83 83 83]\n",
      "561 [83 83 83]\n",
      "562 [83 83 83]\n",
      "563 [83 83 83]\n",
      "564 [83 83 83]\n",
      "565 [83 83 83]\n",
      "566 [83 83 83]\n",
      "567 [83 83 83]\n",
      "568 [83 83 83]\n",
      "569 [83 83 83]\n",
      "570 [83 83 83]\n",
      "571 [83 83 83]\n",
      "572 [83 83 83]\n",
      "573 [83 83 83]\n",
      "574 [83 83 83]\n",
      "575 [83 83 83]\n",
      "576 [83 83 83]\n",
      "577 [83 83 83]\n",
      "578 [83 83 83]\n",
      "579 [83 83 83]\n",
      "580 [83 83 83]\n",
      "581 [255 247 247]\n",
      "582 [255 247 247]\n",
      "583 [255 247 247]\n",
      "584 [255 247 247]\n",
      "585 [255 247 247]\n",
      "586 [255 247 247]\n",
      "587 [255 247 247]\n",
      "588 [255 247 247]\n",
      "589 [255 247 247]\n",
      "590 [83 83 83]\n",
      "591 [83 83 83]\n",
      "592 [83 83 83]\n",
      "593 [83 83 83]\n",
      "594 [83 83 83]\n",
      "595 [83 83 83]\n",
      "596 [83 83 83]\n",
      "597 [83 83 83]\n",
      "598 [83 83 83]\n",
      "599 [83 83 83]\n",
      "600 [83 83 83]\n",
      "601 [83 83 83]\n",
      "602 [83 83 83]\n",
      "603 [83 83 83]\n",
      "604 [83 83 83]\n",
      "605 [83 83 83]\n",
      "606 [255 247 247]\n",
      "607 [255 247 247]\n",
      "608 [255 247 247]\n",
      "609 [255 255 255]\n",
      "610 [255 255 255]\n",
      "611 [255 255 255]\n",
      "612 [255 255 255]\n",
      "613 [255 255 255]\n",
      "614 [255 255 255]\n",
      "615 [255 255 255]\n",
      "616 [255 255 255]\n",
      "617 [255 255 255]\n",
      "618 [255 255 255]\n",
      "619 [255 255 255]\n",
      "620 [255 255 255]\n",
      "621 [255 255 255]\n",
      "622 [255 255 255]\n",
      "623 [255 255 255]\n",
      "624 [255 255 255]\n",
      "625 [255 255 255]\n",
      "626 [255 255 255]\n",
      "627 [255 255 255]\n",
      "628 [255 255 255]\n",
      "629 [255 255 255]\n",
      "630 [255 255 255]\n",
      "631 [255 255 255]\n",
      "632 [255 255 255]\n",
      "633 [255 255 255]\n",
      "634 [255 255 255]\n",
      "635 [255 255 255]\n",
      "636 [255 255 255]\n",
      "637 [255 255 255]\n",
      "638 [255 255 255]\n",
      "639 [255 255 255]\n",
      "640 [255 255 255]\n",
      "641 [255 255 255]\n",
      "642 [255 255 255]\n",
      "643 [255 255 255]\n",
      "644 [255 255 255]\n",
      "645 [255 255 255]\n",
      "646 [255 255 255]\n",
      "647 [255 255 255]\n"
     ]
    }
   ],
   "source": [
    "for i in range(len(target)):\n",
    "    print(i, target[i])"
   ]
  },
  {
   "cell_type": "code",
   "execution_count": null,
   "metadata": {},
   "outputs": [],
   "source": []
  }
 ],
 "metadata": {
  "kernelspec": {
   "display_name": "Python 3",
   "language": "python",
   "name": "python3"
  },
  "language_info": {
   "codemirror_mode": {
    "name": "ipython",
    "version": 3
   },
   "file_extension": ".py",
   "mimetype": "text/x-python",
   "name": "python",
   "nbconvert_exporter": "python",
   "pygments_lexer": "ipython3",
   "version": "3.6.8"
  },
  "toc": {
   "base_numbering": 1,
   "nav_menu": {},
   "number_sections": true,
   "sideBar": true,
   "skip_h1_title": false,
   "title_cell": "Table of Contents",
   "title_sidebar": "Contents",
   "toc_cell": false,
   "toc_position": {},
   "toc_section_display": true,
   "toc_window_display": false
  }
 },
 "nbformat": 4,
 "nbformat_minor": 2
}
