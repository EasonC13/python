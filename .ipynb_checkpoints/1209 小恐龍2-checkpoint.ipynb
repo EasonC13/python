{
 "cells": [
  {
   "cell_type": "code",
   "execution_count": 2,
   "metadata": {
    "ExecuteTime": {
     "end_time": "2019-12-09T11:45:15.664415Z",
     "start_time": "2019-12-09T11:45:15.409071Z"
    }
   },
   "outputs": [],
   "source": [
    "import pyautogui\n",
    "import time\n",
    "from PIL import ImageGrab, Image\n",
    "import numpy as np"
   ]
  },
  {
   "cell_type": "code",
   "execution_count": 48,
   "metadata": {
    "ExecuteTime": {
     "end_time": "2019-12-09T11:53:40.759261Z",
     "start_time": "2019-12-09T11:53:40.703997Z"
    }
   },
   "outputs": [
    {
     "data": {
      "image/png": "[encoded data removed]",
      "text/plain": [
       "<PIL.Image.Image image mode=RGB size=400x60 at 0x184E85539B0>"
      ]
     },
     "execution_count": 48,
     "metadata": {},
     "output_type": "execute_result"
    }
   ],
   "source": [
    "a = ImageGrab.grab()\n",
    "area = (400, 390, 800, 450)\n",
    "a.crop(area)"
   ]
  },
  {
   "cell_type": "code",
   "execution_count": 75,
   "metadata": {
    "ExecuteTime": {
     "end_time": "2019-12-09T13:44:00.653314Z",
     "start_time": "2019-12-09T13:42:15.242855Z"
    }
   },
   "outputs": [
    {
     "name": "stdout",
     "output_type": "stream",
     "text": [
      "Go to pro!\n",
      "30.037459135055542\n",
      "Time to play harder.\n",
      "Exploring!\n"
     ]
    },
    {
     "ename": "KeyboardInterrupt",
     "evalue": "",
     "output_type": "error",
     "traceback": [
      "\u001b[1;31m---------------------------------------------------------------------------\u001b[0m",
      "\u001b[1;31mKeyboardInterrupt\u001b[0m                         Traceback (most recent call last)",
      "\u001b[1;32m<ipython-input-75-d28d3972b1d5>\u001b[0m in \u001b[0;36m<module>\u001b[1;34m\u001b[0m\n\u001b[0;32m     73\u001b[0m     \u001b[0mmod\u001b[0m \u001b[1;33m=\u001b[0m \u001b[0mdetect_len_ext2\u001b[0m\u001b[1;33m(\u001b[0m\u001b[1;33m)\u001b[0m\u001b[1;33m\u001b[0m\u001b[1;33m\u001b[0m\u001b[0m\n\u001b[0;32m     74\u001b[0m     \u001b[1;32mif\u001b[0m \u001b[0mmod\u001b[0m \u001b[1;33m==\u001b[0m \u001b[1;36m1\u001b[0m\u001b[1;33m:\u001b[0m\u001b[1;33m\u001b[0m\u001b[1;33m\u001b[0m\u001b[0m\n\u001b[1;32m---> 75\u001b[1;33m         \u001b[0mpyautogui\u001b[0m\u001b[1;33m.\u001b[0m\u001b[0mpress\u001b[0m\u001b[1;33m(\u001b[0m\u001b[1;34m'up'\u001b[0m\u001b[1;33m)\u001b[0m\u001b[1;33m\u001b[0m\u001b[1;33m\u001b[0m\u001b[0m\n\u001b[0m\u001b[0;32m     76\u001b[0m         \u001b[0mtime\u001b[0m\u001b[1;33m.\u001b[0m\u001b[0msleep\u001b[0m\u001b[1;33m(\u001b[0m\u001b[1;36m0.1\u001b[0m\u001b[1;33m)\u001b[0m\u001b[1;33m\u001b[0m\u001b[1;33m\u001b[0m\u001b[0m\n\u001b[0;32m     77\u001b[0m         \u001b[0mpyautogui\u001b[0m\u001b[1;33m.\u001b[0m\u001b[0mpress\u001b[0m\u001b[1;33m(\u001b[0m\u001b[1;34m'down'\u001b[0m\u001b[1;33m)\u001b[0m\u001b[1;33m\u001b[0m\u001b[1;33m\u001b[0m\u001b[0m\n",
      "\u001b[1;32m~\\Anaconda3\\lib\\site-packages\\pyautogui\\__init__.py\u001b[0m in \u001b[0;36mpress\u001b[1;34m(keys, presses, interval, pause, logScreenshot, _pause)\u001b[0m\n\u001b[0;32m   1157\u001b[0m         \u001b[0mtime\u001b[0m\u001b[1;33m.\u001b[0m\u001b[0msleep\u001b[0m\u001b[1;33m(\u001b[0m\u001b[0minterval\u001b[0m\u001b[1;33m)\u001b[0m\u001b[1;33m\u001b[0m\u001b[1;33m\u001b[0m\u001b[0m\n\u001b[0;32m   1158\u001b[0m \u001b[1;33m\u001b[0m\u001b[0m\n\u001b[1;32m-> 1159\u001b[1;33m     \u001b[0m_autoPause\u001b[0m\u001b[1;33m(\u001b[0m\u001b[0mpause\u001b[0m\u001b[1;33m,\u001b[0m \u001b[0m_pause\u001b[0m\u001b[1;33m)\u001b[0m\u001b[1;33m\u001b[0m\u001b[1;33m\u001b[0m\u001b[0m\n\u001b[0m\u001b[0;32m   1160\u001b[0m \u001b[1;33m\u001b[0m\u001b[0m\n\u001b[0;32m   1161\u001b[0m \u001b[1;32mdef\u001b[0m \u001b[0mtypewrite\u001b[0m\u001b[1;33m(\u001b[0m\u001b[0mmessage\u001b[0m\u001b[1;33m,\u001b[0m \u001b[0minterval\u001b[0m\u001b[1;33m=\u001b[0m\u001b[1;36m0.0\u001b[0m\u001b[1;33m,\u001b[0m \u001b[0mpause\u001b[0m\u001b[1;33m=\u001b[0m\u001b[1;32mNone\u001b[0m\u001b[1;33m,\u001b[0m \u001b[0mlogScreenshot\u001b[0m\u001b[1;33m=\u001b[0m\u001b[1;32mNone\u001b[0m\u001b[1;33m,\u001b[0m \u001b[0m_pause\u001b[0m\u001b[1;33m=\u001b[0m\u001b[1;32mTrue\u001b[0m\u001b[1;33m)\u001b[0m\u001b[1;33m:\u001b[0m\u001b[1;33m\u001b[0m\u001b[1;33m\u001b[0m\u001b[0m\n",
      "\u001b[1;32m~\\Anaconda3\\lib\\site-packages\\pyautogui\\__init__.py\u001b[0m in \u001b[0;36m_autoPause\u001b[1;34m(pause, _pause)\u001b[0m\n\u001b[0;32m    220\u001b[0m     \u001b[1;32melif\u001b[0m \u001b[0m_pause\u001b[0m\u001b[1;33m:\u001b[0m\u001b[1;33m\u001b[0m\u001b[1;33m\u001b[0m\u001b[0m\n\u001b[0;32m    221\u001b[0m         \u001b[1;32massert\u001b[0m \u001b[0misinstance\u001b[0m\u001b[1;33m(\u001b[0m\u001b[0mPAUSE\u001b[0m\u001b[1;33m,\u001b[0m \u001b[0mint\u001b[0m\u001b[1;33m)\u001b[0m \u001b[1;32mor\u001b[0m \u001b[0misinstance\u001b[0m\u001b[1;33m(\u001b[0m\u001b[0mPAUSE\u001b[0m\u001b[1;33m,\u001b[0m \u001b[0mfloat\u001b[0m\u001b[1;33m)\u001b[0m\u001b[1;33m\u001b[0m\u001b[1;33m\u001b[0m\u001b[0m\n\u001b[1;32m--> 222\u001b[1;33m         \u001b[0mtime\u001b[0m\u001b[1;33m.\u001b[0m\u001b[0msleep\u001b[0m\u001b[1;33m(\u001b[0m\u001b[0mPAUSE\u001b[0m\u001b[1;33m)\u001b[0m\u001b[1;33m\u001b[0m\u001b[1;33m\u001b[0m\u001b[0m\n\u001b[0m\u001b[0;32m    223\u001b[0m \u001b[1;33m\u001b[0m\u001b[0m\n\u001b[0;32m    224\u001b[0m \u001b[1;33m\u001b[0m\u001b[0m\n",
      "\u001b[1;31mKeyboardInterrupt\u001b[0m: "
     ]
    }
   ],
   "source": [
    "import pyautogui\n",
    "import time\n",
    "from PIL import ImageGrab, Image\n",
    "import numpy as np\n",
    "k = 1\n",
    "\n",
    "def detect_len_short():\n",
    "    a = ImageGrab.grab()\n",
    "    area = (400, 390, 600, 450)\n",
    "    #print(np.unique(np.array(a.crop(area))))\n",
    "    if len(np.unique(np.array(a.crop(area))))> k:\n",
    "        return 1\n",
    "    return 0\n",
    "\n",
    "def detect_len():\n",
    "    a = ImageGrab.grab()\n",
    "    area = (400, 390, 700, 450)   \n",
    "    if len(np.unique(np.array(a.crop(area))))> k:\n",
    "        return 1\n",
    "    return 0\n",
    "\n",
    "def detect_len_ext():\n",
    "    a = ImageGrab.grab()\n",
    "    area = (400, 390, 700, 450) \n",
    "    if len(np.unique(np.array(a.crop(area))))> k:\n",
    "        return 1\n",
    "    return 0\n",
    "\n",
    "def detect_len_ext2():\n",
    "    a = ImageGrab.grab()\n",
    "    area = (400, 390, 850, 450)\n",
    "    if len(np.unique(np.array(a.crop(area))))> k:\n",
    "        return 1\n",
    "    return 0\n",
    "\n",
    "def detect_len_ext3():\n",
    "    a = ImageGrab.grab()\n",
    "    area = (400, 390, 900, 450)\n",
    "    if len(np.unique(np.array(a.crop(area))))> k:\n",
    "        return 1\n",
    "    return 0\n",
    "def detect_len_ext4():\n",
    "    a = ImageGrab.grab()\n",
    "    area = (400, 390, 1000, 450)\n",
    "    if len(np.unique(np.array(a.crop(area))))> k:\n",
    "        return 1\n",
    "    return 0\n",
    "\n",
    "#time.sleep(2)\n",
    "times = time.time()\n",
    "while ((time.time() - times)<30):\n",
    "    a = detect_len_short()\n",
    "    if a == 1:\n",
    "        pyautogui.press('up')\n",
    "\n",
    "print(\"Go to pro!\")\n",
    "print(time.time() - times)\n",
    "while(time.time() - times < 60):\n",
    "    if detect_len() == 1:\n",
    "        pyautogui.press('up')\n",
    "        \n",
    "print(\"Time to play harder.\")\n",
    "\n",
    "while(time.time() - times < 100):\n",
    "    if detect_len_ext() == 1:\n",
    "        pyautogui.press('up')\n",
    "        time.sleep(0.15)\n",
    "        pyautogui.press('down')\n",
    "\n",
    "print(\"Exploring!\")\n",
    "\n",
    "while(time.time() - times < 240):\n",
    "    mod = detect_len_ext2()\n",
    "    if mod == 1:\n",
    "        pyautogui.press('up')\n",
    "        time.sleep(0.1)\n",
    "        pyautogui.press('down')\n",
    "\n",
    "print(\"Ever Lasting!!\")\n",
    "\n",
    "while(time.time() - times < 340):\n",
    "    if detect_len_ext2() == 1:\n",
    "        pyautogui.press('up')\n",
    "        time.sleep(0.08)\n",
    "        pyautogui.press('down')\n",
    "    \n",
    "print(\"Extreme!!\")\n",
    "\n",
    "while(time.time() - times < 600):\n",
    "    if detect_len_ext3() == 1:\n",
    "        pyautogui.press('up')\n",
    "        time.sleep(0.08)\n",
    "        pyautogui.press('down')\n",
    "        \n",
    "        \n",
    "while(time.time() - times < 600):\n",
    "    if detect_len_ext4() == 1:\n",
    "        pyautogui.press('up')\n",
    "        time.sleep(0.08)\n",
    "        pyautogui.press('down')"
   ]
  },
  {
   "cell_type": "code",
   "execution_count": 68,
   "metadata": {
    "ExecuteTime": {
     "end_time": "2019-12-09T12:40:39.821974Z",
     "start_time": "2019-12-09T12:40:39.816988Z"
    }
   },
   "outputs": [
    {
     "data": {
      "text/plain": [
       "104.22554469108582"
      ]
     },
     "execution_count": 68,
     "metadata": {},
     "output_type": "execute_result"
    }
   ],
   "source": [
    "time.time() - times"
   ]
  },
  {
   "cell_type": "code",
   "execution_count": null,
   "metadata": {},
   "outputs": [],
   "source": []
  }
 ],
 "metadata": {
  "kernelspec": {
   "display_name": "Python 3",
   "language": "python",
   "name": "python3"
  },
  "language_info": {
   "codemirror_mode": {
    "name": "ipython",
    "version": 3
   },
   "file_extension": ".py",
   "mimetype": "text/x-python",
   "name": "python",
   "nbconvert_exporter": "python",
   "pygments_lexer": "ipython3",
   "version": "3.6.8"
  },
  "toc": {
   "base_numbering": 1,
   "nav_menu": {},
   "number_sections": true,
   "sideBar": true,
   "skip_h1_title": false,
   "title_cell": "Table of Contents",
   "title_sidebar": "Contents",
   "toc_cell": false,
   "toc_position": {},
   "toc_section_display": true,
   "toc_window_display": false
  }
 },
 "nbformat": 4,
 "nbformat_minor": 2
}
