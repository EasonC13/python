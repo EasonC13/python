{
 "cells": [
  {
   "cell_type": "code",
   "execution_count": 64,
   "metadata": {},
   "outputs": [],
   "source": [
    "import pandas as pd\n",
    "import numpy as np"
   ]
  },
  {
   "cell_type": "code",
   "execution_count": 48,
   "metadata": {},
   "outputs": [
    {
     "name": "stdout",
     "output_type": "stream",
     "text": [
      "開啟中...\n"
     ]
    }
   ],
   "source": [
    "#filename = input(\"請將檔案拖曳至此>> \")\n",
    "filename = \"../Data/gseq_test.xlsx\"\n",
    "print(\"開啟中...\")\n",
    "xlsxs = pd.ExcelFile(filename)\n",
    "\n",
    "df = xlsxs.parse(xlsxs.sheet_names[0])"
   ]
  },
  {
   "cell_type": "code",
   "execution_count": 59,
   "metadata": {},
   "outputs": [
    {
     "name": "stdout",
     "output_type": "stream",
     "text": [
      "Given:\n",
      "ST\n",
      "P1\n",
      "P2\n",
      "Qu\n",
      "O1\n",
      "O2\n",
      "O3\n",
      "O4\n",
      "O5\n",
      "out\n",
      "Totals\n"
     ]
    }
   ],
   "source": [
    "df = xlsxs.parse(xlsxs.sheet_names[0])\n",
    "for i in range(len(df[df.columns[0]])):\n",
    "    print(df[df.columns[0]][i])\n",
    "    if df[df.columns[0]][i] == \"Totals\":\n",
    "        for k in range(i, i+3):\n",
    "            df = df.drop(index=k, axis = 0)\n",
    "        break\n",
    "    df = df.drop(index=i, axis = 0)"
   ]
  },
  {
   "cell_type": "code",
   "execution_count": 75,
   "metadata": {},
   "outputs": [
    {
     "data": {
      "text/plain": [
       "10"
      ]
     },
     "execution_count": 75,
     "metadata": {},
     "output_type": "execute_result"
    }
   ],
   "source": [
    "i - 1"
   ]
  },
  {
   "cell_type": "code",
   "execution_count": 96,
   "metadata": {},
   "outputs": [],
   "source": [
    "df2 = df.reset_index(drop = True).copy()\n",
    "df2 = df2.drop(columns= df2.columns[-1])"
   ]
  },
  {
   "cell_type": "code",
   "execution_count": 100,
   "metadata": {},
   "outputs": [],
   "source": [
    "label_weight = df2[1:i].copy()\n",
    "\n",
    "check_df = df2[i+3:-1].copy().dropna(axis = 0)\n",
    "\n",
    "check_bool_np = np.array(check_df.drop(columns= check_df.columns[0]) > 1.98) #轉換成布林值，確認要不要畫圖\n",
    "\n",
    "check_dt = {}\n",
    "names = list(check_df[check_df.columns[0]])\n",
    "for i in range(len(check_df[check_df.columns[0]])): #然後轉換成字典去存布林值\n",
    "    check_dt[names[i]] = check_bool_np[i]"
   ]
  },
  {
   "cell_type": "code",
   "execution_count": 142,
   "metadata": {},
   "outputs": [
    {
     "data": {
      "text/plain": [
       "{'ST': array([False,  True, False, False, False, False, False, False, False,\n",
       "        False]),\n",
       " 'P1': array([ True, False,  True, False, False, False, False, False, False,\n",
       "        False]),\n",
       " 'P2': array([ True, False, False, False, False, False, False, False, False,\n",
       "        False]),\n",
       " 'Qu': array([False, False, False, False, False, False, False,  True, False,\n",
       "        False]),\n",
       " 'O1': array([False, False, False,  True, False,  True, False, False, False,\n",
       "        False]),\n",
       " 'O2': array([False, False, False, False,  True, False, False, False, False,\n",
       "        False]),\n",
       " 'O3': array([False, False, False, False, False,  True, False,  True, False,\n",
       "        False]),\n",
       " 'O4': array([False, False, False, False, False,  True, False, False,  True,\n",
       "        False]),\n",
       " 'O5': array([False, False, False, False, False, False, False,  True, False,\n",
       "        False]),\n",
       " 'out': array([ True, False, False, False, False, False, False, False, False,\n",
       "        False])}"
      ]
     },
     "execution_count": 142,
     "metadata": {},
     "output_type": "execute_result"
    }
   ],
   "source": [
    "check_dt"
   ]
  },
  {
   "cell_type": "code",
   "execution_count": 84,
   "metadata": {},
   "outputs": [
    {
     "data": {
      "text/plain": [
       "'round-table.gv.pdf'"
      ]
     },
     "execution_count": 84,
     "metadata": {},
     "output_type": "execute_result"
    }
   ],
   "source": [
    "from graphviz import Digraph\n",
    "\n",
    "dot = Digraph(comment='The Round Table')\n",
    "\n",
    "dot.node('A', 'King Arthur')\n",
    "dot.node('B', 'Sir Bedevere the Wise')\n",
    "dot.node('L', 'Sir Lancelot the Brave')\n",
    "\n",
    "\n",
    "dot.edges(['AB', 'AL'])\n",
    "dot.edge('B', 'L', label=\"EasonCCCCC   CCC    C      C\")\n",
    "dot.render('round-table.gv', view=True) #匯出pdf檔案"
   ]
  },
  {
   "cell_type": "code",
   "execution_count": 2,
   "metadata": {},
   "outputs": [
    {
     "name": "stdout",
     "output_type": "stream",
     "text": [
      "total 72\r\n",
      "-rw-r--r--  1 eason  staff  14621  1 23 13:16 Untitled.ipynb\r\n",
      "-rw-r--r--  1 eason  staff    170  1 23 13:28 round-table.gv\r\n",
      "-rw-r--r--@ 1 eason  staff  14456  1 23 13:28 round-table.gv.pdf\r\n",
      "drwxr-xr-x  3 eason  staff     96  1 23 13:11 \u001b[34mtest-output\u001b[m\u001b[m/\r\n"
     ]
    }
   ],
   "source": [
    "ll"
   ]
  },
  {
   "cell_type": "code",
   "execution_count": null,
   "metadata": {},
   "outputs": [],
   "source": []
  }
 ],
 "metadata": {
  "kernelspec": {
   "display_name": "Python 3",
   "language": "python",
   "name": "python3"
  },
  "language_info": {
   "codemirror_mode": {
    "name": "ipython",
    "version": 3
   },
   "file_extension": ".py",
   "mimetype": "text/x-python",
   "name": "python",
   "nbconvert_exporter": "python",
   "pygments_lexer": "ipython3",
   "version": "3.7.3"
  }
 },
 "nbformat": 4,
 "nbformat_minor": 2
}
