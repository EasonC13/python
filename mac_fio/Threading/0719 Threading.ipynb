{
 "cells": [
  {
   "cell_type": "code",
   "execution_count": 20,
   "metadata": {},
   "outputs": [
    {
     "name": "stdout",
     "output_type": "stream",
     "text": [
      "starting 1\n",
      "Semaphore acquired by Worker 1\n",
      "Worker 1: Data 0\n",
      "starting 2starting 3\n",
      "Semaphore acquired by Worker 2\n",
      "Worker 2: Data 1\n",
      "\n",
      "Semaphore acquired by Worker 3\n",
      "Worker 3: Data 2\n",
      "starting 4\n",
      "starting 5\n",
      "Semaphore released by Worker 1Semaphore released by Worker 2Semaphore released by Worker 3\n",
      "Semaphore acquired by Worker 2\n",
      "Worker 2: Data 5\n",
      "\n",
      "Semaphore acquired by Worker 3\n",
      "Worker 3: Data 6\n",
      "\n",
      "Semaphore acquired by Worker 1\n",
      "Worker 1: Data 7\n",
      "Semaphore released by Worker 2Semaphore released by Worker 3Semaphore released by Worker 1\n",
      "Semaphore acquired by Worker 3\n",
      "Worker 3: Data 8\n",
      "\n",
      "Semaphore acquired by Worker 2\n",
      "Worker 2: Data 9\n",
      "\n",
      "Semaphore acquired by Worker 5\n",
      "Worker 5: Data 4\n",
      "Semaphore released by Worker 3\n",
      "Semaphore acquired by Worker 4\n",
      "Worker 4: Data 3\n",
      "Semaphore released by Worker 2\n",
      "WOKER6\n",
      "\n",
      "Semaphore released by Worker 5\n",
      "\n",
      "starting 6\n",
      "Semaphore released by Worker 4\n",
      "Done.\n"
     ]
    }
   ],
   "source": [
    "import time\n",
    "import threading\n",
    "import queue\n",
    "\n",
    "class Worker(threading.Thread):\n",
    "  def __init__(self, queue, num, semaphore):\n",
    "    threading.Thread.__init__(self)\n",
    "    self.queue = queue\n",
    "    self.num = num\n",
    "    self.semaphore = semaphore\n",
    "\n",
    "  def run(self):\n",
    "    \n",
    "    print(\"starting %d\"%(self.num))\n",
    "    while self.queue.qsize() > 0:\n",
    "      msg = self.queue.get()\n",
    "      # 取得旗標\n",
    "      semaphore.acquire()\n",
    "      print(\"Semaphore acquired by Worker %d\" % self.num)\n",
    "\n",
    "      # 僅允許有限個執行緒同時進的工作\n",
    "      print(\"Worker %d: %s\" % (self.num, msg))\n",
    "      time.sleep(1)\n",
    "\n",
    "      # 釋放旗標\n",
    "      print(\"Semaphore released by Worker %d\" % self.num)\n",
    "      self.semaphore.release()\n",
    "\n",
    "my_queue = queue.Queue()\n",
    "for i in range(10):\n",
    "  my_queue.put(\"Data %d\" % i)\n",
    "\n",
    "# 建立旗標\n",
    "semaphore = threading.Semaphore(3)\n",
    "\n",
    "my_worker1 = Worker(my_queue, 1, semaphore)\n",
    "my_worker2 = Worker(my_queue, 2, semaphore)\n",
    "my_worker3 = Worker(my_queue, 3, semaphore)\n",
    "\n",
    "\n",
    "my_worker1.start()\n",
    "my_worker2.start()\n",
    "my_worker3.start()\n",
    "\n",
    "my_worker4 = Worker(my_queue, 4, semaphore)\n",
    "my_worker5 = Worker(my_queue, 5, semaphore)\n",
    "\n",
    "\n",
    "my_worker4.start()\n",
    "my_worker5.start()\n",
    "\n",
    "my_worker1.join()\n",
    "my_worker2.join()\n",
    "my_worker3.join()\n",
    "\n",
    "my_worker6 = Worker(my_queue, 6, semaphore)\n",
    "print(\"WOKER6\\n\\n\")\n",
    "my_worker6.start()\n",
    "\n",
    "my_worker4.join()\n",
    "my_worker5.join()\n",
    "my_worker6.join()\n",
    "\n",
    "print(\"Done.\")"
   ]
  },
  {
   "cell_type": "code",
   "execution_count": 18,
   "metadata": {},
   "outputs": [
    {
     "data": {
      "text/plain": [
       "0"
      ]
     },
     "execution_count": 18,
     "metadata": {},
     "output_type": "execute_result"
    }
   ],
   "source": [
    "my_queue.qsize()"
   ]
  },
  {
   "cell_type": "code",
   "execution_count": 22,
   "metadata": {},
   "outputs": [
    {
     "ename": "TypeError",
     "evalue": "allocate_lock() takes no arguments (1 given)",
     "output_type": "error",
     "traceback": [
      "\u001b[0;31m---------------------------------------------------------------------------\u001b[0m",
      "\u001b[0;31mTypeError\u001b[0m                                 Traceback (most recent call last)",
      "\u001b[0;32m<ipython-input-22-50c1b2dae3a5>\u001b[0m in \u001b[0;36m<module>\u001b[0;34m\u001b[0m\n\u001b[1;32m     31\u001b[0m \u001b[0;34m\u001b[0m\u001b[0m\n\u001b[1;32m     32\u001b[0m \u001b[0;31m# 建立 lock\u001b[0m\u001b[0;34m\u001b[0m\u001b[0;34m\u001b[0m\u001b[0;34m\u001b[0m\u001b[0m\n\u001b[0;32m---> 33\u001b[0;31m \u001b[0mlock\u001b[0m \u001b[0;34m=\u001b[0m \u001b[0mthreading\u001b[0m\u001b[0;34m.\u001b[0m\u001b[0mLock\u001b[0m\u001b[0;34m(\u001b[0m\u001b[0;36m1\u001b[0m\u001b[0;34m)\u001b[0m\u001b[0;34m\u001b[0m\u001b[0;34m\u001b[0m\u001b[0m\n\u001b[0m\u001b[1;32m     34\u001b[0m \u001b[0;34m\u001b[0m\u001b[0m\n\u001b[1;32m     35\u001b[0m \u001b[0mmy_worker1\u001b[0m \u001b[0;34m=\u001b[0m \u001b[0mWorker\u001b[0m\u001b[0;34m(\u001b[0m\u001b[0mmy_queue\u001b[0m\u001b[0;34m,\u001b[0m \u001b[0;36m1\u001b[0m\u001b[0;34m,\u001b[0m \u001b[0mlock\u001b[0m\u001b[0;34m)\u001b[0m\u001b[0;34m\u001b[0m\u001b[0;34m\u001b[0m\u001b[0m\n",
      "\u001b[0;31mTypeError\u001b[0m: allocate_lock() takes no arguments (1 given)"
     ]
    }
   ],
   "source": [
    "import time\n",
    "import threading\n",
    "import queue\n",
    "\n",
    "class Worker(threading.Thread):\n",
    "    def __init__(self, queue, num, lock):\n",
    "        threading.Thread.__init__(self)\n",
    "        self.queue = queue\n",
    "        self.num = num\n",
    "        self.lock = lock\n",
    "\n",
    "    def run(self):\n",
    "        while self.queue.qsize() > 0:\n",
    "            msg = self.queue.get()\n",
    "\n",
    "            # 取得 lock\n",
    "            self.lock.acquire()\n",
    "            print(\"Lock acquired by Worker %d\" % self.num)\n",
    "\n",
    "            # 不能讓多個執行緒同時進的工作\n",
    "            print(\"Worker %d: %s\" % (self.num, msg))\n",
    "            time.sleep(1)\n",
    "\n",
    "            # 釋放 lock\n",
    "            print(\"Lock released by Worker %d\" % self.num)\n",
    "            self.lock.release()\n",
    "\n",
    "my_queue = queue.Queue()\n",
    "for i in range(5):\n",
    "    my_queue.put(\"Data %d\" % i)\n",
    "\n",
    "# 建立 lock\n",
    "lock = threading.Lock()\n",
    "\n",
    "my_worker1 = Worker(my_queue, 1, lock)\n",
    "my_worker2 = Worker(my_queue, 2, lock)\n",
    "\n",
    "my_worker1.start()\n",
    "my_worker2.start()\n",
    "\n",
    "my_worker1.join()\n",
    "my_worker2.join()\n",
    "\n",
    "print(\"Done.\")"
   ]
  },
  {
   "cell_type": "code",
   "execution_count": null,
   "metadata": {},
   "outputs": [],
   "source": []
  }
 ],
 "metadata": {
  "kernelspec": {
   "display_name": "Python 3",
   "language": "python",
   "name": "python3"
  },
  "language_info": {
   "codemirror_mode": {
    "name": "ipython",
    "version": 3
   },
   "file_extension": ".py",
   "mimetype": "text/x-python",
   "name": "python",
   "nbconvert_exporter": "python",
   "pygments_lexer": "ipython3",
   "version": "3.7.4"
  }
 },
 "nbformat": 4,
 "nbformat_minor": 2
}
