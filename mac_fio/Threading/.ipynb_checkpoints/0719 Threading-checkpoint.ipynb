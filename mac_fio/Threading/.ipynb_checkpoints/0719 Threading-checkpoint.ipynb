{
 "cells": [
  {
   "cell_type": "code",
   "execution_count": 12,
   "metadata": {},
   "outputs": [
    {
     "name": "stdout",
     "output_type": "stream",
     "text": [
      "starting 1starting 2\n",
      "Semaphore acquired by Worker 1\n",
      "Worker 1: Data 0\n",
      "starting 3\n",
      "Semaphore acquired by Worker 2\n",
      "Worker 2: Data 1\n",
      "starting 4\n",
      "starting 5\n",
      "\n",
      "Semaphore released by Worker 1Semaphore released by Worker 2\n",
      "starting 1\n",
      "Semaphore acquired by Worker 1\n",
      "Worker 1: Data 5\n",
      "\n",
      "Semaphore acquired by Worker 4\n",
      "Worker 4: Data 3\n",
      "Semaphore released by Worker 1Semaphore released by Worker 4\n",
      "\n",
      "Semaphore acquired by Worker 5Semaphore acquired by Worker 3\n",
      "Worker 5: Data 4\n",
      "\n",
      "Worker 3: Data 2\n",
      "Semaphore released by Worker 5Semaphore released by Worker 3\n",
      "\n",
      "Done.\n"
     ]
    }
   ],
   "source": [
    "import time\n",
    "import threading\n",
    "import queue\n",
    "\n",
    "class Worker(threading.Thread):\n",
    "  def __init__(self, queue, num, semaphore):\n",
    "    threading.Thread.__init__(self)\n",
    "    self.queue = queue\n",
    "    self.num = num\n",
    "    self.semaphore = semaphore\n",
    "\n",
    "  def run(self):\n",
    "    while self.queue.qsize() > 0:\n",
    "      msg = self.queue.get()\n",
    "      print(\"starting %d\"%(self.num))\n",
    "      # 取得旗標\n",
    "      semaphore.acquire()\n",
    "      print(\"Semaphore acquired by Worker %d\" % self.num)\n",
    "\n",
    "      # 僅允許有限個執行緒同時進的工作\n",
    "      print(\"Worker %d: %s\" % (self.num, msg))\n",
    "      time.sleep(1)\n",
    "\n",
    "      # 釋放旗標\n",
    "      print(\"Semaphore released by Worker %d\" % self.num)\n",
    "      self.semaphore.release()\n",
    "\n",
    "my_queue = queue.Queue()\n",
    "for i in range(6):\n",
    "  my_queue.put(\"Data %d\" % i)\n",
    "\n",
    "# 建立旗標\n",
    "semaphore = threading.Semaphore(2)\n",
    "\n",
    "my_worker1 = Worker(my_queue, 1, semaphore)\n",
    "my_worker2 = Worker(my_queue, 2, semaphore)\n",
    "my_worker3 = Worker(my_queue, 3, semaphore)\n",
    "\n",
    "\n",
    "my_worker1.start()\n",
    "my_worker2.start()\n",
    "my_worker3.start()\n",
    "\n",
    "my_worker4 = Worker(my_queue, 4, semaphore)\n",
    "my_worker5 = Worker(my_queue, 5, semaphore)\n",
    "\n",
    "\n",
    "my_worker4.start()\n",
    "my_worker5.start()\n",
    "\n",
    "my_worker1.join()\n",
    "my_worker2.join()\n",
    "my_worker3.join()\n",
    "\n",
    "my_worker6 = Worker(my_queue, 6, semaphore)\n",
    "print(\"WOKER6\")\n",
    "my_worker6.start()\n",
    "\n",
    "my_worker4.join()\n",
    "my_worker5.join()\n",
    "my_worker6.join()\n",
    "\n",
    "print(\"Done.\")"
   ]
  },
  {
   "cell_type": "code",
   "execution_count": 9,
   "metadata": {},
   "outputs": [
    {
     "data": {
      "text/plain": [
       "0"
      ]
     },
     "execution_count": 9,
     "metadata": {},
     "output_type": "execute_result"
    }
   ],
   "source": [
    "my_queue.qsize()"
   ]
  },
  {
   "cell_type": "code",
   "execution_count": null,
   "metadata": {},
   "outputs": [],
   "source": []
  }
 ],
 "metadata": {
  "kernelspec": {
   "display_name": "Python 3",
   "language": "python",
   "name": "python3"
  },
  "language_info": {
   "codemirror_mode": {
    "name": "ipython",
    "version": 3
   },
   "file_extension": ".py",
   "mimetype": "text/x-python",
   "name": "python",
   "nbconvert_exporter": "python",
   "pygments_lexer": "ipython3",
   "version": "3.7.4"
  }
 },
 "nbformat": 4,
 "nbformat_minor": 2
}
